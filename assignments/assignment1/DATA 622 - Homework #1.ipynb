{
 "cells": [
  {
   "cell_type": "markdown",
   "id": "21182011",
   "metadata": {},
   "source": [
    "#### DATA 622 - Homework 1\n",
    "\n",
    "- Are the columns of your data correlated?\n",
    "- Are there labels in your data? Did that impact your choice of algorithm?\n",
    "- What are the pros and cons of each algorithm you selected?\n",
    "- How your choice of algorithm relates to the datasets (was your choice of algorithm impacted by the datasets you chose)?\n",
    "- Which result will you trust if you need to make a business decision?\n",
    "- Do you think an analysis could be prone to errors when using too much data, or when using the least amount possible?\n",
    "- How does the analysis between data sets compare?\n"
   ]
  },
  {
   "cell_type": "markdown",
   "id": "06e3eb58",
   "metadata": {},
   "source": [
    "#### Datasets\n",
    "\n",
    "For this assignment, I used the following datasets from Kaggle:\n",
    "\n",
    "1. [Coursera Data](https://www.kaggle.com/datasets/elvinrustam/coursera-dataset?resource=download)\n",
    "2. [Loan Default Prediction](https://www.kaggle.com/datasets/hemanthsai7/loandefault)\n"
   ]
  },
  {
   "cell_type": "markdown",
   "id": "2b7b3c57",
   "metadata": {},
   "source": [
    "### **A. Setup**"
   ]
  },
  {
   "cell_type": "code",
   "execution_count": 2,
   "id": "50310cad",
   "metadata": {},
   "outputs": [],
   "source": [
    "import pandas as pd\n",
    "import numpy as np\n",
    "import matplotlib.pyplot as plt\n",
    "import plotly.express as px"
   ]
  },
  {
   "cell_type": "code",
   "execution_count": 3,
   "id": "7d32b0e4",
   "metadata": {},
   "outputs": [],
   "source": [
    "from sklearn.tree import DecisionTreeRegressor\n",
    "from sklearn.model_selection import train_test_split\n",
    "from sklearn.linear_model import LinearRegression\n",
    "from sklearn.linear_model import LogisticRegression\n",
    "from sklearn.neighbors import KNeighborsClassifier\n",
    "from sklearn.cluster import KMeans"
   ]
  },
  {
   "cell_type": "code",
   "execution_count": 4,
   "id": "ab95eaf2",
   "metadata": {},
   "outputs": [],
   "source": [
    "pd.set_option('display.max_columns',50)\n",
    "pd.set_option('display.max_rows',100)"
   ]
  },
  {
   "cell_type": "code",
   "execution_count": 5,
   "id": "0dfca0a9",
   "metadata": {},
   "outputs": [
    {
     "data": {
      "text/plain": [
       "100"
      ]
     },
     "execution_count": 5,
     "metadata": {},
     "output_type": "execute_result"
    }
   ],
   "source": [
    "pd.get_option('display.max_rows')"
   ]
  },
  {
   "cell_type": "markdown",
   "id": "a96c1bfa",
   "metadata": {},
   "source": [
    "##### Import data"
   ]
  },
  {
   "cell_type": "code",
   "execution_count": 6,
   "id": "f928f5e1",
   "metadata": {},
   "outputs": [],
   "source": [
    "df1 = pd.read_csv('data/CourseraDataset-Clean.csv')\n",
    "df2 = pd.read_csv('data/train.csv')"
   ]
  },
  {
   "cell_type": "code",
   "execution_count": 7,
   "id": "401d06ff",
   "metadata": {},
   "outputs": [],
   "source": [
    "##Set pandas options for columns and rows being displayed\n",
    "\n",
    "pd.set_option('display.max_columns',25)"
   ]
  },
  {
   "cell_type": "markdown",
   "id": "0ed7781d",
   "metadata": {},
   "source": [
    "### **B. Coursera Data**\n",
    "\n",
    "This dataset represents courses that are offered by Coursera. While the data represents the specific program catalog of Coursera, we can \n",
    "\n",
    "This dataset consists of both numerical and text based values. Additionally, we see that there are 10 fields that are labeled as object data types and 3 fields that are of numerical type. Overall the dataset is relatively small and is easy to evaluate in Python without having to utilize any additional computational resources."
   ]
  },
  {
   "cell_type": "markdown",
   "id": "8a269979",
   "metadata": {},
   "source": [
    "This dataset could be considered to be a medium sized dataset. It has 8K rows and only 13 different features. There are a number of values in the dataset that are unique to the course and thus not something that has much meaning to help us understand the overall dataset. For example, the course URL is not something that's generalizable and thus not really worth exploring in a summary manner"
   ]
  },
  {
   "cell_type": "markdown",
   "id": "0170822b",
   "metadata": {},
   "source": [
    "#### **Exploratory Analysis**\n",
    "\n",
    "Some of the questions of interest in exloring the dataset are:\n",
    "\n",
    "- What are the top 10 institutions based on number of courses offered?\n",
    "- How many courses does Coursera offer by category type?\n",
    "- How many courses does the Coursera offer by course level?\n",
    "- Are there differences in course ratings based on the institution?\n",
    "- Are there differences in the number of reviews that users provide based on course level?"
   ]
  },
  {
   "cell_type": "code",
   "execution_count": 8,
   "id": "447de927",
   "metadata": {},
   "outputs": [
    {
     "data": {
      "text/plain": [
       "(8370, 13)"
      ]
     },
     "execution_count": 8,
     "metadata": {},
     "output_type": "execute_result"
    }
   ],
   "source": [
    "df1.shape"
   ]
  },
  {
   "cell_type": "code",
   "execution_count": 9,
   "id": "b887fa7e",
   "metadata": {},
   "outputs": [
    {
     "name": "stdout",
     "output_type": "stream",
     "text": [
      "<class 'pandas.core.frame.DataFrame'>\n",
      "RangeIndex: 8370 entries, 0 to 8369\n",
      "Data columns (total 13 columns):\n",
      " #   Column                          Non-Null Count  Dtype  \n",
      "---  ------                          --------------  -----  \n",
      " 0   Course Title                    8370 non-null   object \n",
      " 1   Rating                          8370 non-null   float64\n",
      " 2   Level                           8370 non-null   object \n",
      " 3   Schedule                        8370 non-null   object \n",
      " 4   What you will learn             8370 non-null   object \n",
      " 5   Skill gain                      8370 non-null   object \n",
      " 6   Modules                         8337 non-null   object \n",
      " 7   Instructor                      8282 non-null   object \n",
      " 8   Offered By                      8370 non-null   object \n",
      " 9   Keyword                         8370 non-null   object \n",
      " 10  Course Url                      8370 non-null   object \n",
      " 11  Duration to complete (Approx.)  8370 non-null   float64\n",
      " 12  Number of Review                8370 non-null   int64  \n",
      "dtypes: float64(2), int64(1), object(10)\n",
      "memory usage: 850.2+ KB\n"
     ]
    }
   ],
   "source": [
    "df1.info()"
   ]
  },
  {
   "cell_type": "code",
   "execution_count": 10,
   "id": "878ad62f",
   "metadata": {},
   "outputs": [
    {
     "data": {
      "text/plain": [
       "0\n",
       "object     10\n",
       "float64     2\n",
       "int64       1\n",
       "Name: count, dtype: int64"
      ]
     },
     "execution_count": 10,
     "metadata": {},
     "output_type": "execute_result"
    }
   ],
   "source": [
    "pd.DataFrame(df1.dtypes).reset_index().value_counts(0)"
   ]
  },
  {
   "cell_type": "code",
   "execution_count": 30,
   "id": "70ab5446",
   "metadata": {},
   "outputs": [
    {
     "data": {
      "text/plain": [
       "(8370, 13)"
      ]
     },
     "execution_count": 30,
     "metadata": {},
     "output_type": "execute_result"
    }
   ],
   "source": []
  },
  {
   "cell_type": "code",
   "execution_count": 12,
   "id": "27ad254e",
   "metadata": {},
   "outputs": [
    {
     "data": {
      "text/plain": [
       "Offered By\n",
       "University of Colorado Boulder                        408\n",
       "Google                                                307\n",
       "University of Michigan                                294\n",
       "IBM                                                   289\n",
       "Coursera Project Network                              279\n",
       "Johns Hopkins University                              272\n",
       "Google Cloud                                          225\n",
       "University of Pennsylvania                            223\n",
       "University of Illinois at Urbana-Champaign            200\n",
       "University of Colorado System                         133\n",
       "Duke University                                       124\n",
       "University of California, Irvine                      120\n",
       "DeepLearning.AI                                       112\n",
       "Arizona State University                              112\n",
       "Universidad Nacional Autónoma de México               108\n",
       "University of California San Diego                    101\n",
       "University of California, Davis                       101\n",
       "Yale University                                       101\n",
       "Rice University                                        99\n",
       "Meta                                                   96\n",
       "University of Minnesota                                91\n",
       "Stanford University                                    90\n",
       "Imperial College London                                89\n",
       "University of Geneva                                   81\n",
       "Microsoft                                              79\n",
       "Tecnológico de Monterrey                               72\n",
       "Universitat Autònoma de Barcelona                      70\n",
       "University of Toronto                                  70\n",
       "École Polytechnique Fédérale de Lausanne               68\n",
       "University of Virginia                                 67\n",
       "National Taiwan University                             66\n",
       "Universidad de los Andes                               66\n",
       "The Hong Kong University of Science and Technology     62\n",
       "Berklee                                                54\n",
       "LearnQuest                                             53\n",
       "Alfaisal University | KLD                              53\n",
       "The University of Edinburgh                            52\n",
       "Pontificia Universidad Católica de Chile               52\n",
       "The State University of New York                       51\n",
       "Macquarie University                                   50\n",
       "Name: count, dtype: int64"
      ]
     },
     "execution_count": 12,
     "metadata": {},
     "output_type": "execute_result"
    }
   ],
   "source": [
    "df1['Offered By'].value_counts()[df1['Offered By'].value_counts() >=50]"
   ]
  },
  {
   "cell_type": "code",
   "execution_count": 13,
   "id": "432422be",
   "metadata": {},
   "outputs": [
    {
     "data": {
      "text/plain": [
       "Offered By\n",
       "University of Colorado Boulder                408\n",
       "Google                                        307\n",
       "University of Michigan                        294\n",
       "IBM                                           289\n",
       "Coursera Project Network                      279\n",
       "Johns Hopkins University                      272\n",
       "Google Cloud                                  225\n",
       "University of Pennsylvania                    223\n",
       "University of Illinois at Urbana-Champaign    200\n",
       "University of Colorado System                 133\n",
       "Duke University                               124\n",
       "University of California, Irvine              120\n",
       "DeepLearning.AI                               112\n",
       "Arizona State University                      112\n",
       "Universidad Nacional Autónoma de México       108\n",
       "Name: count, dtype: int64"
      ]
     },
     "execution_count": 13,
     "metadata": {},
     "output_type": "execute_result"
    }
   ],
   "source": [
    "df1['Offered By'].value_counts().head(15)"
   ]
  },
  {
   "cell_type": "code",
   "execution_count": 14,
   "id": "ed37e76a",
   "metadata": {},
   "outputs": [
    {
     "data": {
      "text/html": [
       "<div>\n",
       "<style scoped>\n",
       "    .dataframe tbody tr th:only-of-type {\n",
       "        vertical-align: middle;\n",
       "    }\n",
       "\n",
       "    .dataframe tbody tr th {\n",
       "        vertical-align: top;\n",
       "    }\n",
       "\n",
       "    .dataframe thead th {\n",
       "        text-align: right;\n",
       "    }\n",
       "</style>\n",
       "<table border=\"1\" class=\"dataframe\">\n",
       "  <thead>\n",
       "    <tr style=\"text-align: right;\">\n",
       "      <th>Level</th>\n",
       "      <th>Advanced level</th>\n",
       "      <th>Beginner level</th>\n",
       "      <th>Intermediate level</th>\n",
       "      <th>Not specified</th>\n",
       "    </tr>\n",
       "    <tr>\n",
       "      <th>Keyword</th>\n",
       "      <th></th>\n",
       "      <th></th>\n",
       "      <th></th>\n",
       "      <th></th>\n",
       "    </tr>\n",
       "  </thead>\n",
       "  <tbody>\n",
       "    <tr>\n",
       "      <th>Arts and Humanities</th>\n",
       "      <td>1</td>\n",
       "      <td>278</td>\n",
       "      <td>77</td>\n",
       "      <td>120</td>\n",
       "    </tr>\n",
       "    <tr>\n",
       "      <th>Business</th>\n",
       "      <td>19</td>\n",
       "      <td>601</td>\n",
       "      <td>183</td>\n",
       "      <td>132</td>\n",
       "    </tr>\n",
       "    <tr>\n",
       "      <th>Computer Science</th>\n",
       "      <td>48</td>\n",
       "      <td>538</td>\n",
       "      <td>333</td>\n",
       "      <td>61</td>\n",
       "    </tr>\n",
       "    <tr>\n",
       "      <th>DataScience</th>\n",
       "      <td>50</td>\n",
       "      <td>550</td>\n",
       "      <td>300</td>\n",
       "      <td>64</td>\n",
       "    </tr>\n",
       "    <tr>\n",
       "      <th>Health</th>\n",
       "      <td>15</td>\n",
       "      <td>582</td>\n",
       "      <td>243</td>\n",
       "      <td>146</td>\n",
       "    </tr>\n",
       "    <tr>\n",
       "      <th>Information Technology</th>\n",
       "      <td>25</td>\n",
       "      <td>519</td>\n",
       "      <td>260</td>\n",
       "      <td>48</td>\n",
       "    </tr>\n",
       "    <tr>\n",
       "      <th>Math and Logic</th>\n",
       "      <td>12</td>\n",
       "      <td>253</td>\n",
       "      <td>146</td>\n",
       "      <td>69</td>\n",
       "    </tr>\n",
       "    <tr>\n",
       "      <th>Personal Development</th>\n",
       "      <td>11</td>\n",
       "      <td>616</td>\n",
       "      <td>156</td>\n",
       "      <td>153</td>\n",
       "    </tr>\n",
       "    <tr>\n",
       "      <th>Physical Science and Engineering</th>\n",
       "      <td>66</td>\n",
       "      <td>329</td>\n",
       "      <td>266</td>\n",
       "      <td>138</td>\n",
       "    </tr>\n",
       "    <tr>\n",
       "      <th>Social Sciences</th>\n",
       "      <td>15</td>\n",
       "      <td>605</td>\n",
       "      <td>167</td>\n",
       "      <td>175</td>\n",
       "    </tr>\n",
       "  </tbody>\n",
       "</table>\n",
       "</div>"
      ],
      "text/plain": [
       "Level                             Advanced level  Beginner level  \\\n",
       "Keyword                                                            \n",
       "Arts and Humanities                            1             278   \n",
       "Business                                      19             601   \n",
       "Computer Science                              48             538   \n",
       "DataScience                                   50             550   \n",
       "Health                                        15             582   \n",
       "Information Technology                        25             519   \n",
       "Math and Logic                                12             253   \n",
       "Personal Development                          11             616   \n",
       "Physical Science and Engineering              66             329   \n",
       "Social Sciences                               15             605   \n",
       "\n",
       "Level                             Intermediate level  Not specified  \n",
       "Keyword                                                              \n",
       "Arts and Humanities                               77            120  \n",
       "Business                                         183            132  \n",
       "Computer Science                                 333             61  \n",
       "DataScience                                      300             64  \n",
       "Health                                           243            146  \n",
       "Information Technology                           260             48  \n",
       "Math and Logic                                   146             69  \n",
       "Personal Development                             156            153  \n",
       "Physical Science and Engineering                 266            138  \n",
       "Social Sciences                                  167            175  "
      ]
     },
     "execution_count": 14,
     "metadata": {},
     "output_type": "execute_result"
    }
   ],
   "source": [
    "pd.crosstab(df1['Keyword'],df1['Level'])"
   ]
  },
  {
   "cell_type": "code",
   "execution_count": 29,
   "id": "4fa2eae4",
   "metadata": {},
   "outputs": [
    {
     "data": {
      "text/html": [
       "<div>\n",
       "<style scoped>\n",
       "    .dataframe tbody tr th:only-of-type {\n",
       "        vertical-align: middle;\n",
       "    }\n",
       "\n",
       "    .dataframe tbody tr th {\n",
       "        vertical-align: top;\n",
       "    }\n",
       "\n",
       "    .dataframe thead tr th {\n",
       "        text-align: left;\n",
       "    }\n",
       "\n",
       "    .dataframe thead tr:last-of-type th {\n",
       "        text-align: right;\n",
       "    }\n",
       "</style>\n",
       "<table border=\"1\" class=\"dataframe\">\n",
       "  <thead>\n",
       "    <tr>\n",
       "      <th></th>\n",
       "      <th colspan=\"4\" halign=\"left\">Duration to complete (Approx.)</th>\n",
       "      <th colspan=\"4\" halign=\"left\">Number of Review</th>\n",
       "      <th colspan=\"4\" halign=\"left\">Rating</th>\n",
       "    </tr>\n",
       "    <tr>\n",
       "      <th>Level</th>\n",
       "      <th>Advanced level</th>\n",
       "      <th>Beginner level</th>\n",
       "      <th>Intermediate level</th>\n",
       "      <th>Not specified</th>\n",
       "      <th>Advanced level</th>\n",
       "      <th>Beginner level</th>\n",
       "      <th>Intermediate level</th>\n",
       "      <th>Not specified</th>\n",
       "      <th>Advanced level</th>\n",
       "      <th>Beginner level</th>\n",
       "      <th>Intermediate level</th>\n",
       "      <th>Not specified</th>\n",
       "    </tr>\n",
       "    <tr>\n",
       "      <th>Keyword</th>\n",
       "      <th></th>\n",
       "      <th></th>\n",
       "      <th></th>\n",
       "      <th></th>\n",
       "      <th></th>\n",
       "      <th></th>\n",
       "      <th></th>\n",
       "      <th></th>\n",
       "      <th></th>\n",
       "      <th></th>\n",
       "      <th></th>\n",
       "      <th></th>\n",
       "    </tr>\n",
       "  </thead>\n",
       "  <tbody>\n",
       "    <tr>\n",
       "      <th>Arts and Humanities</th>\n",
       "      <td>22.000000</td>\n",
       "      <td>20.000000</td>\n",
       "      <td>13.831169</td>\n",
       "      <td>16.141667</td>\n",
       "      <td>1</td>\n",
       "      <td>278</td>\n",
       "      <td>77</td>\n",
       "      <td>120</td>\n",
       "      <td>4.700000</td>\n",
       "      <td>3.870863</td>\n",
       "      <td>3.492208</td>\n",
       "      <td>4.340000</td>\n",
       "    </tr>\n",
       "    <tr>\n",
       "      <th>Business</th>\n",
       "      <td>66.368421</td>\n",
       "      <td>33.025790</td>\n",
       "      <td>32.898907</td>\n",
       "      <td>12.992424</td>\n",
       "      <td>19</td>\n",
       "      <td>601</td>\n",
       "      <td>183</td>\n",
       "      <td>132</td>\n",
       "      <td>3.121053</td>\n",
       "      <td>4.095840</td>\n",
       "      <td>4.020219</td>\n",
       "      <td>4.645455</td>\n",
       "    </tr>\n",
       "    <tr>\n",
       "      <th>Computer Science</th>\n",
       "      <td>57.625000</td>\n",
       "      <td>43.526952</td>\n",
       "      <td>41.954955</td>\n",
       "      <td>20.868852</td>\n",
       "      <td>48</td>\n",
       "      <td>538</td>\n",
       "      <td>333</td>\n",
       "      <td>61</td>\n",
       "      <td>4.191667</td>\n",
       "      <td>4.532900</td>\n",
       "      <td>4.381982</td>\n",
       "      <td>4.645902</td>\n",
       "    </tr>\n",
       "    <tr>\n",
       "      <th>DataScience</th>\n",
       "      <td>57.980000</td>\n",
       "      <td>52.530000</td>\n",
       "      <td>44.873333</td>\n",
       "      <td>18.343750</td>\n",
       "      <td>50</td>\n",
       "      <td>550</td>\n",
       "      <td>300</td>\n",
       "      <td>64</td>\n",
       "      <td>4.188000</td>\n",
       "      <td>4.556909</td>\n",
       "      <td>4.389333</td>\n",
       "      <td>4.485938</td>\n",
       "    </tr>\n",
       "    <tr>\n",
       "      <th>Health</th>\n",
       "      <td>39.666667</td>\n",
       "      <td>22.462199</td>\n",
       "      <td>22.995885</td>\n",
       "      <td>15.863014</td>\n",
       "      <td>15</td>\n",
       "      <td>582</td>\n",
       "      <td>243</td>\n",
       "      <td>146</td>\n",
       "      <td>3.300000</td>\n",
       "      <td>3.885911</td>\n",
       "      <td>3.315226</td>\n",
       "      <td>4.356849</td>\n",
       "    </tr>\n",
       "    <tr>\n",
       "      <th>Information Technology</th>\n",
       "      <td>13.240000</td>\n",
       "      <td>24.521676</td>\n",
       "      <td>13.833013</td>\n",
       "      <td>11.708333</td>\n",
       "      <td>25</td>\n",
       "      <td>519</td>\n",
       "      <td>260</td>\n",
       "      <td>48</td>\n",
       "      <td>3.856000</td>\n",
       "      <td>3.693449</td>\n",
       "      <td>3.197692</td>\n",
       "      <td>4.037500</td>\n",
       "    </tr>\n",
       "    <tr>\n",
       "      <th>Math and Logic</th>\n",
       "      <td>43.833333</td>\n",
       "      <td>41.770751</td>\n",
       "      <td>35.476027</td>\n",
       "      <td>20.072464</td>\n",
       "      <td>12</td>\n",
       "      <td>253</td>\n",
       "      <td>146</td>\n",
       "      <td>69</td>\n",
       "      <td>4.500000</td>\n",
       "      <td>4.391700</td>\n",
       "      <td>4.018493</td>\n",
       "      <td>4.575362</td>\n",
       "    </tr>\n",
       "    <tr>\n",
       "      <th>Personal Development</th>\n",
       "      <td>48.545455</td>\n",
       "      <td>22.745130</td>\n",
       "      <td>20.043269</td>\n",
       "      <td>13.640523</td>\n",
       "      <td>11</td>\n",
       "      <td>616</td>\n",
       "      <td>156</td>\n",
       "      <td>153</td>\n",
       "      <td>4.227273</td>\n",
       "      <td>3.673214</td>\n",
       "      <td>3.537179</td>\n",
       "      <td>4.026797</td>\n",
       "    </tr>\n",
       "    <tr>\n",
       "      <th>Physical Science and Engineering</th>\n",
       "      <td>30.015152</td>\n",
       "      <td>19.331307</td>\n",
       "      <td>24.635338</td>\n",
       "      <td>19.891304</td>\n",
       "      <td>66</td>\n",
       "      <td>329</td>\n",
       "      <td>266</td>\n",
       "      <td>138</td>\n",
       "      <td>3.343939</td>\n",
       "      <td>3.505471</td>\n",
       "      <td>3.427820</td>\n",
       "      <td>4.363043</td>\n",
       "    </tr>\n",
       "    <tr>\n",
       "      <th>Social Sciences</th>\n",
       "      <td>35.466667</td>\n",
       "      <td>29.370523</td>\n",
       "      <td>27.736527</td>\n",
       "      <td>15.588571</td>\n",
       "      <td>15</td>\n",
       "      <td>605</td>\n",
       "      <td>167</td>\n",
       "      <td>175</td>\n",
       "      <td>4.040000</td>\n",
       "      <td>3.965124</td>\n",
       "      <td>3.820958</td>\n",
       "      <td>4.378286</td>\n",
       "    </tr>\n",
       "  </tbody>\n",
       "</table>\n",
       "</div>"
      ],
      "text/plain": [
       "                                 Duration to complete (Approx.)  \\\n",
       "Level                                            Advanced level   \n",
       "Keyword                                                           \n",
       "Arts and Humanities                                   22.000000   \n",
       "Business                                              66.368421   \n",
       "Computer Science                                      57.625000   \n",
       "DataScience                                           57.980000   \n",
       "Health                                                39.666667   \n",
       "Information Technology                                13.240000   \n",
       "Math and Logic                                        43.833333   \n",
       "Personal Development                                  48.545455   \n",
       "Physical Science and Engineering                      30.015152   \n",
       "Social Sciences                                       35.466667   \n",
       "\n",
       "                                                                    \\\n",
       "Level                            Beginner level Intermediate level   \n",
       "Keyword                                                              \n",
       "Arts and Humanities                   20.000000          13.831169   \n",
       "Business                              33.025790          32.898907   \n",
       "Computer Science                      43.526952          41.954955   \n",
       "DataScience                           52.530000          44.873333   \n",
       "Health                                22.462199          22.995885   \n",
       "Information Technology                24.521676          13.833013   \n",
       "Math and Logic                        41.770751          35.476027   \n",
       "Personal Development                  22.745130          20.043269   \n",
       "Physical Science and Engineering      19.331307          24.635338   \n",
       "Social Sciences                       29.370523          27.736527   \n",
       "\n",
       "                                               Number of Review  \\\n",
       "Level                            Not specified   Advanced level   \n",
       "Keyword                                                           \n",
       "Arts and Humanities                  16.141667                1   \n",
       "Business                             12.992424               19   \n",
       "Computer Science                     20.868852               48   \n",
       "DataScience                          18.343750               50   \n",
       "Health                               15.863014               15   \n",
       "Information Technology               11.708333               25   \n",
       "Math and Logic                       20.072464               12   \n",
       "Personal Development                 13.640523               11   \n",
       "Physical Science and Engineering     19.891304               66   \n",
       "Social Sciences                      15.588571               15   \n",
       "\n",
       "                                                                    \\\n",
       "Level                            Beginner level Intermediate level   \n",
       "Keyword                                                              \n",
       "Arts and Humanities                         278                 77   \n",
       "Business                                    601                183   \n",
       "Computer Science                            538                333   \n",
       "DataScience                                 550                300   \n",
       "Health                                      582                243   \n",
       "Information Technology                      519                260   \n",
       "Math and Logic                              253                146   \n",
       "Personal Development                        616                156   \n",
       "Physical Science and Engineering            329                266   \n",
       "Social Sciences                             605                167   \n",
       "\n",
       "                                                       Rating                 \\\n",
       "Level                            Not specified Advanced level Beginner level   \n",
       "Keyword                                                                        \n",
       "Arts and Humanities                        120       4.700000       3.870863   \n",
       "Business                                   132       3.121053       4.095840   \n",
       "Computer Science                            61       4.191667       4.532900   \n",
       "DataScience                                 64       4.188000       4.556909   \n",
       "Health                                     146       3.300000       3.885911   \n",
       "Information Technology                      48       3.856000       3.693449   \n",
       "Math and Logic                              69       4.500000       4.391700   \n",
       "Personal Development                       153       4.227273       3.673214   \n",
       "Physical Science and Engineering           138       3.343939       3.505471   \n",
       "Social Sciences                            175       4.040000       3.965124   \n",
       "\n",
       "                                                                   \n",
       "Level                            Intermediate level Not specified  \n",
       "Keyword                                                            \n",
       "Arts and Humanities                        3.492208      4.340000  \n",
       "Business                                   4.020219      4.645455  \n",
       "Computer Science                           4.381982      4.645902  \n",
       "DataScience                                4.389333      4.485938  \n",
       "Health                                     3.315226      4.356849  \n",
       "Information Technology                     3.197692      4.037500  \n",
       "Math and Logic                             4.018493      4.575362  \n",
       "Personal Development                       3.537179      4.026797  \n",
       "Physical Science and Engineering           3.427820      4.363043  \n",
       "Social Sciences                            3.820958      4.378286  "
      ]
     },
     "execution_count": 29,
     "metadata": {},
     "output_type": "execute_result"
    }
   ],
   "source": [
    "pd.pivot_table(df1, index=['Keyword'], columns=['Level'],values=['Rating', 'Number of Review','Duration to complete (Approx.)'], \\\n",
    "               aggfunc={'Number of Review':len, 'Rating':\"mean\",'Duration to complete (Approx.)':\"mean\"})"
   ]
  },
  {
   "cell_type": "markdown",
   "id": "4b41f3c2",
   "metadata": {},
   "source": [
    "Looking at the table below we see that there is no correlation between the numerical values"
   ]
  },
  {
   "cell_type": "code",
   "execution_count": 16,
   "id": "2555b40b",
   "metadata": {},
   "outputs": [
    {
     "data": {
      "text/html": [
       "<div>\n",
       "<style scoped>\n",
       "    .dataframe tbody tr th:only-of-type {\n",
       "        vertical-align: middle;\n",
       "    }\n",
       "\n",
       "    .dataframe tbody tr th {\n",
       "        vertical-align: top;\n",
       "    }\n",
       "\n",
       "    .dataframe thead th {\n",
       "        text-align: right;\n",
       "    }\n",
       "</style>\n",
       "<table border=\"1\" class=\"dataframe\">\n",
       "  <thead>\n",
       "    <tr style=\"text-align: right;\">\n",
       "      <th></th>\n",
       "      <th>Rating</th>\n",
       "      <th>Duration to complete (Approx.)</th>\n",
       "      <th>Number of Review</th>\n",
       "    </tr>\n",
       "  </thead>\n",
       "  <tbody>\n",
       "    <tr>\n",
       "      <th>Rating</th>\n",
       "      <td>1.000000</td>\n",
       "      <td>0.137887</td>\n",
       "      <td>0.091059</td>\n",
       "    </tr>\n",
       "    <tr>\n",
       "      <th>Duration to complete (Approx.)</th>\n",
       "      <td>0.137887</td>\n",
       "      <td>1.000000</td>\n",
       "      <td>0.175253</td>\n",
       "    </tr>\n",
       "    <tr>\n",
       "      <th>Number of Review</th>\n",
       "      <td>0.091059</td>\n",
       "      <td>0.175253</td>\n",
       "      <td>1.000000</td>\n",
       "    </tr>\n",
       "  </tbody>\n",
       "</table>\n",
       "</div>"
      ],
      "text/plain": [
       "                                  Rating  Duration to complete (Approx.)  \\\n",
       "Rating                          1.000000                        0.137887   \n",
       "Duration to complete (Approx.)  0.137887                        1.000000   \n",
       "Number of Review                0.091059                        0.175253   \n",
       "\n",
       "                                Number of Review  \n",
       "Rating                                  0.091059  \n",
       "Duration to complete (Approx.)          0.175253  \n",
       "Number of Review                        1.000000  "
      ]
     },
     "execution_count": 16,
     "metadata": {},
     "output_type": "execute_result"
    }
   ],
   "source": [
    "df1.loc[:,df1.dtypes != 'object'].corr()"
   ]
  },
  {
   "cell_type": "code",
   "execution_count": 26,
   "id": "a5090284",
   "metadata": {},
   "outputs": [
    {
     "data": {
      "text/html": [
       "<div>\n",
       "<style scoped>\n",
       "    .dataframe tbody tr th:only-of-type {\n",
       "        vertical-align: middle;\n",
       "    }\n",
       "\n",
       "    .dataframe tbody tr th {\n",
       "        vertical-align: top;\n",
       "    }\n",
       "\n",
       "    .dataframe thead th {\n",
       "        text-align: right;\n",
       "    }\n",
       "</style>\n",
       "<table border=\"1\" class=\"dataframe\">\n",
       "  <thead>\n",
       "    <tr style=\"text-align: right;\">\n",
       "      <th>Level</th>\n",
       "      <th>Advanced level</th>\n",
       "      <th>Beginner level</th>\n",
       "      <th>Intermediate level</th>\n",
       "      <th>Not specified</th>\n",
       "      <th>All</th>\n",
       "    </tr>\n",
       "    <tr>\n",
       "      <th>Keyword</th>\n",
       "      <th></th>\n",
       "      <th></th>\n",
       "      <th></th>\n",
       "      <th></th>\n",
       "      <th></th>\n",
       "    </tr>\n",
       "  </thead>\n",
       "  <tbody>\n",
       "    <tr>\n",
       "      <th>Arts and Humanities</th>\n",
       "      <td>1</td>\n",
       "      <td>278</td>\n",
       "      <td>77</td>\n",
       "      <td>120</td>\n",
       "      <td>476</td>\n",
       "    </tr>\n",
       "    <tr>\n",
       "      <th>Business</th>\n",
       "      <td>19</td>\n",
       "      <td>601</td>\n",
       "      <td>183</td>\n",
       "      <td>132</td>\n",
       "      <td>935</td>\n",
       "    </tr>\n",
       "    <tr>\n",
       "      <th>Computer Science</th>\n",
       "      <td>48</td>\n",
       "      <td>538</td>\n",
       "      <td>333</td>\n",
       "      <td>61</td>\n",
       "      <td>980</td>\n",
       "    </tr>\n",
       "    <tr>\n",
       "      <th>DataScience</th>\n",
       "      <td>50</td>\n",
       "      <td>550</td>\n",
       "      <td>300</td>\n",
       "      <td>64</td>\n",
       "      <td>964</td>\n",
       "    </tr>\n",
       "    <tr>\n",
       "      <th>Health</th>\n",
       "      <td>15</td>\n",
       "      <td>582</td>\n",
       "      <td>243</td>\n",
       "      <td>146</td>\n",
       "      <td>986</td>\n",
       "    </tr>\n",
       "    <tr>\n",
       "      <th>Information Technology</th>\n",
       "      <td>25</td>\n",
       "      <td>519</td>\n",
       "      <td>260</td>\n",
       "      <td>48</td>\n",
       "      <td>852</td>\n",
       "    </tr>\n",
       "    <tr>\n",
       "      <th>Math and Logic</th>\n",
       "      <td>12</td>\n",
       "      <td>253</td>\n",
       "      <td>146</td>\n",
       "      <td>69</td>\n",
       "      <td>480</td>\n",
       "    </tr>\n",
       "    <tr>\n",
       "      <th>Personal Development</th>\n",
       "      <td>11</td>\n",
       "      <td>616</td>\n",
       "      <td>156</td>\n",
       "      <td>153</td>\n",
       "      <td>936</td>\n",
       "    </tr>\n",
       "    <tr>\n",
       "      <th>Physical Science and Engineering</th>\n",
       "      <td>66</td>\n",
       "      <td>329</td>\n",
       "      <td>266</td>\n",
       "      <td>138</td>\n",
       "      <td>799</td>\n",
       "    </tr>\n",
       "    <tr>\n",
       "      <th>Social Sciences</th>\n",
       "      <td>15</td>\n",
       "      <td>605</td>\n",
       "      <td>167</td>\n",
       "      <td>175</td>\n",
       "      <td>962</td>\n",
       "    </tr>\n",
       "    <tr>\n",
       "      <th>All</th>\n",
       "      <td>262</td>\n",
       "      <td>4871</td>\n",
       "      <td>2131</td>\n",
       "      <td>1106</td>\n",
       "      <td>8370</td>\n",
       "    </tr>\n",
       "  </tbody>\n",
       "</table>\n",
       "</div>"
      ],
      "text/plain": [
       "Level                             Advanced level  Beginner level  \\\n",
       "Keyword                                                            \n",
       "Arts and Humanities                            1             278   \n",
       "Business                                      19             601   \n",
       "Computer Science                              48             538   \n",
       "DataScience                                   50             550   \n",
       "Health                                        15             582   \n",
       "Information Technology                        25             519   \n",
       "Math and Logic                                12             253   \n",
       "Personal Development                          11             616   \n",
       "Physical Science and Engineering              66             329   \n",
       "Social Sciences                               15             605   \n",
       "All                                          262            4871   \n",
       "\n",
       "Level                             Intermediate level  Not specified   All  \n",
       "Keyword                                                                    \n",
       "Arts and Humanities                               77            120   476  \n",
       "Business                                         183            132   935  \n",
       "Computer Science                                 333             61   980  \n",
       "DataScience                                      300             64   964  \n",
       "Health                                           243            146   986  \n",
       "Information Technology                           260             48   852  \n",
       "Math and Logic                                   146             69   480  \n",
       "Personal Development                             156            153   936  \n",
       "Physical Science and Engineering                 266            138   799  \n",
       "Social Sciences                                  167            175   962  \n",
       "All                                             2131           1106  8370  "
      ]
     },
     "execution_count": 26,
     "metadata": {},
     "output_type": "execute_result"
    }
   ],
   "source": [
    "pd.crosstab(df1['Keyword'], df1['Level'], margins=True)"
   ]
  },
  {
   "cell_type": "code",
   "execution_count": 18,
   "id": "808ab6fd",
   "metadata": {},
   "outputs": [
    {
     "data": {
      "text/html": [
       "<div>\n",
       "<style scoped>\n",
       "    .dataframe tbody tr th:only-of-type {\n",
       "        vertical-align: middle;\n",
       "    }\n",
       "\n",
       "    .dataframe tbody tr th {\n",
       "        vertical-align: top;\n",
       "    }\n",
       "\n",
       "    .dataframe thead th {\n",
       "        text-align: right;\n",
       "    }\n",
       "</style>\n",
       "<table border=\"1\" class=\"dataframe\">\n",
       "  <thead>\n",
       "    <tr style=\"text-align: right;\">\n",
       "      <th>Schedule</th>\n",
       "      <th>Flexible schedule</th>\n",
       "      <th>Hands-on learning</th>\n",
       "      <th>All</th>\n",
       "    </tr>\n",
       "    <tr>\n",
       "      <th>Level</th>\n",
       "      <th></th>\n",
       "      <th></th>\n",
       "      <th></th>\n",
       "    </tr>\n",
       "  </thead>\n",
       "  <tbody>\n",
       "    <tr>\n",
       "      <th>Advanced level</th>\n",
       "      <td>254</td>\n",
       "      <td>8</td>\n",
       "      <td>262</td>\n",
       "    </tr>\n",
       "    <tr>\n",
       "      <th>Beginner level</th>\n",
       "      <td>4673</td>\n",
       "      <td>198</td>\n",
       "      <td>4871</td>\n",
       "    </tr>\n",
       "    <tr>\n",
       "      <th>Intermediate level</th>\n",
       "      <td>2016</td>\n",
       "      <td>115</td>\n",
       "      <td>2131</td>\n",
       "    </tr>\n",
       "    <tr>\n",
       "      <th>Not specified</th>\n",
       "      <td>1105</td>\n",
       "      <td>1</td>\n",
       "      <td>1106</td>\n",
       "    </tr>\n",
       "    <tr>\n",
       "      <th>All</th>\n",
       "      <td>8048</td>\n",
       "      <td>322</td>\n",
       "      <td>8370</td>\n",
       "    </tr>\n",
       "  </tbody>\n",
       "</table>\n",
       "</div>"
      ],
      "text/plain": [
       "Schedule            Flexible schedule  Hands-on learning   All\n",
       "Level                                                         \n",
       "Advanced level                    254                  8   262\n",
       "Beginner level                   4673                198  4871\n",
       "Intermediate level               2016                115  2131\n",
       "Not specified                    1105                  1  1106\n",
       "All                              8048                322  8370"
      ]
     },
     "execution_count": 18,
     "metadata": {},
     "output_type": "execute_result"
    }
   ],
   "source": [
    "pd.crosstab(df1['Level'],df1['Schedule'],margins=True)"
   ]
  },
  {
   "cell_type": "code",
   "execution_count": 19,
   "id": "11bf7842",
   "metadata": {},
   "outputs": [
    {
     "data": {
      "text/plain": [
       "<Axes: xlabel='Keyword'>"
      ]
     },
     "execution_count": 19,
     "metadata": {},
     "output_type": "execute_result"
    },
    {
     "data": {
      "image/png": "[encoded data removed]",
      "text/plain": [
       "<Figure size 640x480 with 1 Axes>"
      ]
     },
     "metadata": {},
     "output_type": "display_data"
    }
   ],
   "source": [
    "df1['Keyword'].value_counts().plot.bar()"
   ]
  },
  {
   "cell_type": "code",
   "execution_count": 20,
   "id": "396c0633",
   "metadata": {},
   "outputs": [
    {
     "data": {
      "text/html": [
       "<div>\n",
       "<style scoped>\n",
       "    .dataframe tbody tr th:only-of-type {\n",
       "        vertical-align: middle;\n",
       "    }\n",
       "\n",
       "    .dataframe tbody tr th {\n",
       "        vertical-align: top;\n",
       "    }\n",
       "\n",
       "    .dataframe thead tr th {\n",
       "        text-align: left;\n",
       "    }\n",
       "\n",
       "    .dataframe thead tr:last-of-type th {\n",
       "        text-align: right;\n",
       "    }\n",
       "</style>\n",
       "<table border=\"1\" class=\"dataframe\">\n",
       "  <thead>\n",
       "    <tr>\n",
       "      <th></th>\n",
       "      <th colspan=\"4\" halign=\"left\">Number of Review</th>\n",
       "    </tr>\n",
       "    <tr>\n",
       "      <th></th>\n",
       "      <th>max</th>\n",
       "      <th>mean</th>\n",
       "      <th>min</th>\n",
       "      <th>std</th>\n",
       "    </tr>\n",
       "    <tr>\n",
       "      <th>Level</th>\n",
       "      <th></th>\n",
       "      <th></th>\n",
       "      <th></th>\n",
       "      <th></th>\n",
       "    </tr>\n",
       "  </thead>\n",
       "  <tbody>\n",
       "    <tr>\n",
       "      <th>Advanced level</th>\n",
       "      <td>7176</td>\n",
       "      <td>500.454198</td>\n",
       "      <td>0</td>\n",
       "      <td>838.204057</td>\n",
       "    </tr>\n",
       "    <tr>\n",
       "      <th>Beginner level</th>\n",
       "      <td>225830</td>\n",
       "      <td>2539.644837</td>\n",
       "      <td>0</td>\n",
       "      <td>12371.771478</td>\n",
       "    </tr>\n",
       "    <tr>\n",
       "      <th>Intermediate level</th>\n",
       "      <td>132611</td>\n",
       "      <td>1374.012670</td>\n",
       "      <td>0</td>\n",
       "      <td>7530.558962</td>\n",
       "    </tr>\n",
       "    <tr>\n",
       "      <th>Not specified</th>\n",
       "      <td>37113</td>\n",
       "      <td>1519.600362</td>\n",
       "      <td>0</td>\n",
       "      <td>3355.943119</td>\n",
       "    </tr>\n",
       "  </tbody>\n",
       "</table>\n",
       "</div>"
      ],
      "text/plain": [
       "                   Number of Review                               \n",
       "                                max         mean min           std\n",
       "Level                                                             \n",
       "Advanced level                 7176   500.454198   0    838.204057\n",
       "Beginner level               225830  2539.644837   0  12371.771478\n",
       "Intermediate level           132611  1374.012670   0   7530.558962\n",
       "Not specified                 37113  1519.600362   0   3355.943119"
      ]
     },
     "execution_count": 20,
     "metadata": {},
     "output_type": "execute_result"
    }
   ],
   "source": [
    "df1.pivot_table(index='Level', values=['Number of Review'], aggfunc={'Number of Review':['mean','max','min','std']})\n"
   ]
  },
  {
   "cell_type": "markdown",
   "id": "ebd207b1",
   "metadata": {},
   "source": [
    "##### **Machine Learning**\n",
    "\n",
    "To determine which ML algorithms to explore, we begin by defining a particular persona that we be reasonable for asking and answering questions of the data. For example, if I'm a program administrator and I'm interested in bringing in new courses, I may want to use an algorithm to predict the number of reviews that the course would generate. This can then be used to measure the actual number of received reviews and compare that against this benchmark. For this we can use a **Decision Tree** and **Linear Regression**"
   ]
  },
  {
   "cell_type": "markdown",
   "id": "32429ffb",
   "metadata": {},
   "source": [
    "##### **Decision Tree**\n",
    "We will use Decision Tree Regression to try and predict the number of reviews that we would expect a class to generate based on the course Level "
   ]
  },
  {
   "cell_type": "markdown",
   "id": "3300fa75",
   "metadata": {},
   "source": []
  },
  {
   "cell_type": "code",
   "execution_count": 21,
   "id": "6f478b0d",
   "metadata": {},
   "outputs": [],
   "source": [
    "from sklearn.preprocessing import Normalizer\n",
    "from sklearn.preprocessing import MinMaxScaler"
   ]
  },
  {
   "cell_type": "code",
   "execution_count": 22,
   "id": "eee9129c",
   "metadata": {},
   "outputs": [
    {
     "ename": "NameError",
     "evalue": "name 'y' is not defined",
     "output_type": "error",
     "traceback": [
      "\u001b[0;31m---------------------------------------------------------------------------\u001b[0m",
      "\u001b[0;31mNameError\u001b[0m                                 Traceback (most recent call last)",
      "Cell \u001b[0;32mIn[22], line 1\u001b[0m\n\u001b[0;32m----> 1\u001b[0m y_new \u001b[38;5;241m=\u001b[39m np\u001b[38;5;241m.\u001b[39mreshape(y,(\u001b[38;5;241m-\u001b[39m\u001b[38;5;241m1\u001b[39m,\u001b[38;5;241m1\u001b[39m))\n",
      "\u001b[0;31mNameError\u001b[0m: name 'y' is not defined"
     ]
    }
   ],
   "source": [
    "y_new = np.reshape(y,(-1,1))"
   ]
  },
  {
   "cell_type": "code",
   "execution_count": null,
   "id": "2ce395d1",
   "metadata": {},
   "outputs": [],
   "source": [
    "scaler = MinMaxScaler()"
   ]
  },
  {
   "cell_type": "code",
   "execution_count": null,
   "id": "1f1e46d8",
   "metadata": {},
   "outputs": [],
   "source": [
    "from scipy import stats"
   ]
  },
  {
   "cell_type": "code",
   "execution_count": null,
   "id": "1bc5e685",
   "metadata": {},
   "outputs": [
    {
     "data": {
      "text/plain": [
       "225830"
      ]
     },
     "execution_count": 25,
     "metadata": {},
     "output_type": "execute_result"
    }
   ],
   "source": [
    "y.max()"
   ]
  },
  {
   "cell_type": "code",
   "execution_count": null,
   "id": "3ef26dd3",
   "metadata": {},
   "outputs": [],
   "source": [
    "q1,q3 = np.quantile(y,[0.25,0.75])"
   ]
  },
  {
   "cell_type": "code",
   "execution_count": null,
   "id": "7cea02ca",
   "metadata": {},
   "outputs": [
    {
     "data": {
      "text/plain": [
       "1025.0"
      ]
     },
     "execution_count": 27,
     "metadata": {},
     "output_type": "execute_result"
    }
   ],
   "source": [
    "q3"
   ]
  },
  {
   "cell_type": "code",
   "execution_count": null,
   "id": "15573755",
   "metadata": {},
   "outputs": [],
   "source": [
    "iqr = stats.iqr(y)"
   ]
  },
  {
   "cell_type": "code",
   "execution_count": null,
   "id": "0394a29d",
   "metadata": {},
   "outputs": [],
   "source": [
    "max_num = q3 + 1.5*iqr"
   ]
  },
  {
   "cell_type": "code",
   "execution_count": null,
   "id": "0b23e556",
   "metadata": {},
   "outputs": [
    {
     "data": {
      "text/plain": [
       "<function max>"
      ]
     },
     "execution_count": 30,
     "metadata": {},
     "output_type": "execute_result"
    }
   ],
   "source": [
    "max"
   ]
  },
  {
   "cell_type": "code",
   "execution_count": null,
   "id": "1da9ebe1",
   "metadata": {},
   "outputs": [],
   "source": [
    "min_num = q1 - 1.5*iqr"
   ]
  },
  {
   "cell_type": "code",
   "execution_count": null,
   "id": "0758343b",
   "metadata": {},
   "outputs": [
    {
     "data": {
      "text/plain": [
       "0"
      ]
     },
     "execution_count": 34,
     "metadata": {},
     "output_type": "execute_result"
    }
   ],
   "source": [
    "max(0,min_num)"
   ]
  },
  {
   "cell_type": "code",
   "execution_count": null,
   "id": "992067fe",
   "metadata": {},
   "outputs": [],
   "source": [
    "df1_simplified['Number of Review Adj'] = df1_simplified.apply(lambda x: max_num if x['Number of Review'] > \\\n",
    "                                                              max_num else x['Number of Review'],axis=1)"
   ]
  },
  {
   "cell_type": "code",
   "execution_count": null,
   "id": "a4cdba3b",
   "metadata": {},
   "outputs": [],
   "source": [
    "keep_columns = ['Level','Schedule','Keyword','Duration to complete (Approx.)','Number of Review Adj']\n",
    "df1_adjusted = df1_simplified.loc[:,keep_columns]\n",
    "\n",
    "\n"
   ]
  },
  {
   "cell_type": "code",
   "execution_count": null,
   "id": "ff5b50ba",
   "metadata": {},
   "outputs": [],
   "source": [
    "\n",
    "df1_encoded = pd.get_dummies(df1_adjusted,dtype='int',drop_first=True)\n"
   ]
  },
  {
   "cell_type": "code",
   "execution_count": null,
   "id": "368113fd",
   "metadata": {},
   "outputs": [],
   "source": [
    "X = df1_encoded.loc[:,df1_encoded.columns != 'Number of Review Adj']\n"
   ]
  },
  {
   "cell_type": "code",
   "execution_count": null,
   "id": "20909295",
   "metadata": {},
   "outputs": [],
   "source": [
    "y = df1_encoded['Number of Review Adj']"
   ]
  },
  {
   "cell_type": "code",
   "execution_count": null,
   "id": "b947ab9b",
   "metadata": {},
   "outputs": [],
   "source": [
    "X_train, X_test, y_train, y_test = train_test_split(X,y, test_size=0.33, random_state = 1211)"
   ]
  },
  {
   "cell_type": "code",
   "execution_count": null,
   "id": "1ded08d1",
   "metadata": {},
   "outputs": [
    {
     "data": {
      "text/html": [
       "<div>\n",
       "<style scoped>\n",
       "    .dataframe tbody tr th:only-of-type {\n",
       "        vertical-align: middle;\n",
       "    }\n",
       "\n",
       "    .dataframe tbody tr th {\n",
       "        vertical-align: top;\n",
       "    }\n",
       "\n",
       "    .dataframe thead th {\n",
       "        text-align: right;\n",
       "    }\n",
       "</style>\n",
       "<table border=\"1\" class=\"dataframe\">\n",
       "  <thead>\n",
       "    <tr style=\"text-align: right;\">\n",
       "      <th></th>\n",
       "      <th>Duration to complete (Approx.)</th>\n",
       "      <th>Level_Beginner level</th>\n",
       "      <th>Level_Intermediate level</th>\n",
       "      <th>Level_Not specified</th>\n",
       "      <th>Schedule_Hands-on learning</th>\n",
       "      <th>Keyword_Business</th>\n",
       "      <th>Keyword_Computer Science</th>\n",
       "      <th>Keyword_DataScience</th>\n",
       "      <th>Keyword_Health</th>\n",
       "      <th>Keyword_Information Technology</th>\n",
       "      <th>Keyword_Math and Logic</th>\n",
       "      <th>Keyword_Personal Development</th>\n",
       "      <th>Keyword_Physical Science and Engineering</th>\n",
       "      <th>Keyword_Social Sciences</th>\n",
       "    </tr>\n",
       "  </thead>\n",
       "  <tbody>\n",
       "    <tr>\n",
       "      <th>8147</th>\n",
       "      <td>8.0</td>\n",
       "      <td>0</td>\n",
       "      <td>1</td>\n",
       "      <td>0</td>\n",
       "      <td>0</td>\n",
       "      <td>0</td>\n",
       "      <td>0</td>\n",
       "      <td>0</td>\n",
       "      <td>0</td>\n",
       "      <td>0</td>\n",
       "      <td>0</td>\n",
       "      <td>0</td>\n",
       "      <td>0</td>\n",
       "      <td>1</td>\n",
       "    </tr>\n",
       "    <tr>\n",
       "      <th>4159</th>\n",
       "      <td>5.0</td>\n",
       "      <td>0</td>\n",
       "      <td>0</td>\n",
       "      <td>1</td>\n",
       "      <td>0</td>\n",
       "      <td>0</td>\n",
       "      <td>0</td>\n",
       "      <td>0</td>\n",
       "      <td>1</td>\n",
       "      <td>0</td>\n",
       "      <td>0</td>\n",
       "      <td>0</td>\n",
       "      <td>0</td>\n",
       "      <td>0</td>\n",
       "    </tr>\n",
       "    <tr>\n",
       "      <th>1658</th>\n",
       "      <td>120.0</td>\n",
       "      <td>0</td>\n",
       "      <td>1</td>\n",
       "      <td>0</td>\n",
       "      <td>0</td>\n",
       "      <td>0</td>\n",
       "      <td>1</td>\n",
       "      <td>0</td>\n",
       "      <td>0</td>\n",
       "      <td>0</td>\n",
       "      <td>0</td>\n",
       "      <td>0</td>\n",
       "      <td>0</td>\n",
       "      <td>0</td>\n",
       "    </tr>\n",
       "    <tr>\n",
       "      <th>6232</th>\n",
       "      <td>20.0</td>\n",
       "      <td>1</td>\n",
       "      <td>0</td>\n",
       "      <td>0</td>\n",
       "      <td>0</td>\n",
       "      <td>0</td>\n",
       "      <td>0</td>\n",
       "      <td>0</td>\n",
       "      <td>0</td>\n",
       "      <td>0</td>\n",
       "      <td>0</td>\n",
       "      <td>1</td>\n",
       "      <td>0</td>\n",
       "      <td>0</td>\n",
       "    </tr>\n",
       "    <tr>\n",
       "      <th>5048</th>\n",
       "      <td>9.0</td>\n",
       "      <td>0</td>\n",
       "      <td>1</td>\n",
       "      <td>0</td>\n",
       "      <td>0</td>\n",
       "      <td>0</td>\n",
       "      <td>0</td>\n",
       "      <td>0</td>\n",
       "      <td>0</td>\n",
       "      <td>1</td>\n",
       "      <td>0</td>\n",
       "      <td>0</td>\n",
       "      <td>0</td>\n",
       "      <td>0</td>\n",
       "    </tr>\n",
       "    <tr>\n",
       "      <th>...</th>\n",
       "      <td>...</td>\n",
       "      <td>...</td>\n",
       "      <td>...</td>\n",
       "      <td>...</td>\n",
       "      <td>...</td>\n",
       "      <td>...</td>\n",
       "      <td>...</td>\n",
       "      <td>...</td>\n",
       "      <td>...</td>\n",
       "      <td>...</td>\n",
       "      <td>...</td>\n",
       "      <td>...</td>\n",
       "      <td>...</td>\n",
       "      <td>...</td>\n",
       "    </tr>\n",
       "    <tr>\n",
       "      <th>1975</th>\n",
       "      <td>29.0</td>\n",
       "      <td>0</td>\n",
       "      <td>0</td>\n",
       "      <td>1</td>\n",
       "      <td>0</td>\n",
       "      <td>0</td>\n",
       "      <td>1</td>\n",
       "      <td>0</td>\n",
       "      <td>0</td>\n",
       "      <td>0</td>\n",
       "      <td>0</td>\n",
       "      <td>0</td>\n",
       "      <td>0</td>\n",
       "      <td>0</td>\n",
       "    </tr>\n",
       "    <tr>\n",
       "      <th>5606</th>\n",
       "      <td>9.0</td>\n",
       "      <td>1</td>\n",
       "      <td>0</td>\n",
       "      <td>0</td>\n",
       "      <td>0</td>\n",
       "      <td>0</td>\n",
       "      <td>0</td>\n",
       "      <td>0</td>\n",
       "      <td>0</td>\n",
       "      <td>0</td>\n",
       "      <td>1</td>\n",
       "      <td>0</td>\n",
       "      <td>0</td>\n",
       "      <td>0</td>\n",
       "    </tr>\n",
       "    <tr>\n",
       "      <th>377</th>\n",
       "      <td>19.0</td>\n",
       "      <td>0</td>\n",
       "      <td>0</td>\n",
       "      <td>1</td>\n",
       "      <td>0</td>\n",
       "      <td>0</td>\n",
       "      <td>0</td>\n",
       "      <td>0</td>\n",
       "      <td>0</td>\n",
       "      <td>0</td>\n",
       "      <td>0</td>\n",
       "      <td>0</td>\n",
       "      <td>0</td>\n",
       "      <td>0</td>\n",
       "    </tr>\n",
       "    <tr>\n",
       "      <th>3801</th>\n",
       "      <td>14.0</td>\n",
       "      <td>1</td>\n",
       "      <td>0</td>\n",
       "      <td>0</td>\n",
       "      <td>0</td>\n",
       "      <td>0</td>\n",
       "      <td>0</td>\n",
       "      <td>0</td>\n",
       "      <td>1</td>\n",
       "      <td>0</td>\n",
       "      <td>0</td>\n",
       "      <td>0</td>\n",
       "      <td>0</td>\n",
       "      <td>0</td>\n",
       "    </tr>\n",
       "    <tr>\n",
       "      <th>1343</th>\n",
       "      <td>12.0</td>\n",
       "      <td>1</td>\n",
       "      <td>0</td>\n",
       "      <td>0</td>\n",
       "      <td>0</td>\n",
       "      <td>1</td>\n",
       "      <td>0</td>\n",
       "      <td>0</td>\n",
       "      <td>0</td>\n",
       "      <td>0</td>\n",
       "      <td>0</td>\n",
       "      <td>0</td>\n",
       "      <td>0</td>\n",
       "      <td>0</td>\n",
       "    </tr>\n",
       "  </tbody>\n",
       "</table>\n",
       "<p>5607 rows × 14 columns</p>\n",
       "</div>"
      ],
      "text/plain": [
       "      Duration to complete (Approx.)  Level_Beginner level  \\\n",
       "8147                             8.0                     0   \n",
       "4159                             5.0                     0   \n",
       "1658                           120.0                     0   \n",
       "6232                            20.0                     1   \n",
       "5048                             9.0                     0   \n",
       "...                              ...                   ...   \n",
       "1975                            29.0                     0   \n",
       "5606                             9.0                     1   \n",
       "377                             19.0                     0   \n",
       "3801                            14.0                     1   \n",
       "1343                            12.0                     1   \n",
       "\n",
       "      Level_Intermediate level  Level_Not specified  \\\n",
       "8147                         1                    0   \n",
       "4159                         0                    1   \n",
       "1658                         1                    0   \n",
       "6232                         0                    0   \n",
       "5048                         1                    0   \n",
       "...                        ...                  ...   \n",
       "1975                         0                    1   \n",
       "5606                         0                    0   \n",
       "377                          0                    1   \n",
       "3801                         0                    0   \n",
       "1343                         0                    0   \n",
       "\n",
       "      Schedule_Hands-on learning  Keyword_Business  Keyword_Computer Science  \\\n",
       "8147                           0                 0                         0   \n",
       "4159                           0                 0                         0   \n",
       "1658                           0                 0                         1   \n",
       "6232                           0                 0                         0   \n",
       "5048                           0                 0                         0   \n",
       "...                          ...               ...                       ...   \n",
       "1975                           0                 0                         1   \n",
       "5606                           0                 0                         0   \n",
       "377                            0                 0                         0   \n",
       "3801                           0                 0                         0   \n",
       "1343                           0                 1                         0   \n",
       "\n",
       "      Keyword_DataScience  Keyword_Health  Keyword_Information Technology  \\\n",
       "8147                    0               0                               0   \n",
       "4159                    0               1                               0   \n",
       "1658                    0               0                               0   \n",
       "6232                    0               0                               0   \n",
       "5048                    0               0                               1   \n",
       "...                   ...             ...                             ...   \n",
       "1975                    0               0                               0   \n",
       "5606                    0               0                               0   \n",
       "377                     0               0                               0   \n",
       "3801                    0               1                               0   \n",
       "1343                    0               0                               0   \n",
       "\n",
       "      Keyword_Math and Logic  Keyword_Personal Development  \\\n",
       "8147                       0                             0   \n",
       "4159                       0                             0   \n",
       "1658                       0                             0   \n",
       "6232                       0                             1   \n",
       "5048                       0                             0   \n",
       "...                      ...                           ...   \n",
       "1975                       0                             0   \n",
       "5606                       1                             0   \n",
       "377                        0                             0   \n",
       "3801                       0                             0   \n",
       "1343                       0                             0   \n",
       "\n",
       "      Keyword_Physical Science and Engineering  Keyword_Social Sciences  \n",
       "8147                                         0                        1  \n",
       "4159                                         0                        0  \n",
       "1658                                         0                        0  \n",
       "6232                                         0                        0  \n",
       "5048                                         0                        0  \n",
       "...                                        ...                      ...  \n",
       "1975                                         0                        0  \n",
       "5606                                         0                        0  \n",
       "377                                          0                        0  \n",
       "3801                                         0                        0  \n",
       "1343                                         0                        0  \n",
       "\n",
       "[5607 rows x 14 columns]"
      ]
     },
     "execution_count": 53,
     "metadata": {},
     "output_type": "execute_result"
    }
   ],
   "source": [
    "X_train"
   ]
  },
  {
   "cell_type": "code",
   "execution_count": null,
   "id": "dca31d24",
   "metadata": {},
   "outputs": [
    {
     "data": {
      "text/plain": [
       "22.0"
      ]
     },
     "execution_count": 61,
     "metadata": {},
     "output_type": "execute_result"
    }
   ],
   "source": [
    "stats.iqr(df1['Duration to complete (Approx.)'])"
   ]
  },
  {
   "cell_type": "code",
   "execution_count": null,
   "id": "45916af3",
   "metadata": {},
   "outputs": [
    {
     "data": {
      "text/html": [
       "<style>#sk-container-id-1 {color: black;background-color: white;}#sk-container-id-1 pre{padding: 0;}#sk-container-id-1 div.sk-toggleable {background-color: white;}#sk-container-id-1 label.sk-toggleable__label {cursor: pointer;display: block;width: 100%;margin-bottom: 0;padding: 0.3em;box-sizing: border-box;text-align: center;}#sk-container-id-1 label.sk-toggleable__label-arrow:before {content: \"▸\";float: left;margin-right: 0.25em;color: #696969;}#sk-container-id-1 label.sk-toggleable__label-arrow:hover:before {color: black;}#sk-container-id-1 div.sk-estimator:hover label.sk-toggleable__label-arrow:before {color: black;}#sk-container-id-1 div.sk-toggleable__content {max-height: 0;max-width: 0;overflow: hidden;text-align: left;background-color: #f0f8ff;}#sk-container-id-1 div.sk-toggleable__content pre {margin: 0.2em;color: black;border-radius: 0.25em;background-color: #f0f8ff;}#sk-container-id-1 input.sk-toggleable__control:checked~div.sk-toggleable__content {max-height: 200px;max-width: 100%;overflow: auto;}#sk-container-id-1 input.sk-toggleable__control:checked~label.sk-toggleable__label-arrow:before {content: \"▾\";}#sk-container-id-1 div.sk-estimator input.sk-toggleable__control:checked~label.sk-toggleable__label {background-color: #d4ebff;}#sk-container-id-1 div.sk-label input.sk-toggleable__control:checked~label.sk-toggleable__label {background-color: #d4ebff;}#sk-container-id-1 input.sk-hidden--visually {border: 0;clip: rect(1px 1px 1px 1px);clip: rect(1px, 1px, 1px, 1px);height: 1px;margin: -1px;overflow: hidden;padding: 0;position: absolute;width: 1px;}#sk-container-id-1 div.sk-estimator {font-family: monospace;background-color: #f0f8ff;border: 1px dotted black;border-radius: 0.25em;box-sizing: border-box;margin-bottom: 0.5em;}#sk-container-id-1 div.sk-estimator:hover {background-color: #d4ebff;}#sk-container-id-1 div.sk-parallel-item::after {content: \"\";width: 100%;border-bottom: 1px solid gray;flex-grow: 1;}#sk-container-id-1 div.sk-label:hover label.sk-toggleable__label {background-color: #d4ebff;}#sk-container-id-1 div.sk-serial::before {content: \"\";position: absolute;border-left: 1px solid gray;box-sizing: border-box;top: 0;bottom: 0;left: 50%;z-index: 0;}#sk-container-id-1 div.sk-serial {display: flex;flex-direction: column;align-items: center;background-color: white;padding-right: 0.2em;padding-left: 0.2em;position: relative;}#sk-container-id-1 div.sk-item {position: relative;z-index: 1;}#sk-container-id-1 div.sk-parallel {display: flex;align-items: stretch;justify-content: center;background-color: white;position: relative;}#sk-container-id-1 div.sk-item::before, #sk-container-id-1 div.sk-parallel-item::before {content: \"\";position: absolute;border-left: 1px solid gray;box-sizing: border-box;top: 0;bottom: 0;left: 50%;z-index: -1;}#sk-container-id-1 div.sk-parallel-item {display: flex;flex-direction: column;z-index: 1;position: relative;background-color: white;}#sk-container-id-1 div.sk-parallel-item:first-child::after {align-self: flex-end;width: 50%;}#sk-container-id-1 div.sk-parallel-item:last-child::after {align-self: flex-start;width: 50%;}#sk-container-id-1 div.sk-parallel-item:only-child::after {width: 0;}#sk-container-id-1 div.sk-dashed-wrapped {border: 1px dashed gray;margin: 0 0.4em 0.5em 0.4em;box-sizing: border-box;padding-bottom: 0.4em;background-color: white;}#sk-container-id-1 div.sk-label label {font-family: monospace;font-weight: bold;display: inline-block;line-height: 1.2em;}#sk-container-id-1 div.sk-label-container {text-align: center;}#sk-container-id-1 div.sk-container {/* jupyter's `normalize.less` sets `[hidden] { display: none; }` but bootstrap.min.css set `[hidden] { display: none !important; }` so we also need the `!important` here to be able to override the default hidden behavior on the sphinx rendered scikit-learn.org. See: https://github.com/scikit-learn/scikit-learn/issues/21755 */display: inline-block !important;position: relative;}#sk-container-id-1 div.sk-text-repr-fallback {display: none;}</style><div id=\"sk-container-id-1\" class=\"sk-top-container\"><div class=\"sk-text-repr-fallback\"><pre>DecisionTreeRegressor()</pre><b>In a Jupyter environment, please rerun this cell to show the HTML representation or trust the notebook. <br />On GitHub, the HTML representation is unable to render, please try loading this page with nbviewer.org.</b></div><div class=\"sk-container\" hidden><div class=\"sk-item\"><div class=\"sk-estimator sk-toggleable\"><input class=\"sk-toggleable__control sk-hidden--visually\" id=\"sk-estimator-id-1\" type=\"checkbox\" checked><label for=\"sk-estimator-id-1\" class=\"sk-toggleable__label sk-toggleable__label-arrow\">DecisionTreeRegressor</label><div class=\"sk-toggleable__content\"><pre>DecisionTreeRegressor()</pre></div></div></div></div></div>"
      ],
      "text/plain": [
       "DecisionTreeRegressor()"
      ]
     },
     "execution_count": 54,
     "metadata": {},
     "output_type": "execute_result"
    }
   ],
   "source": [
    "tree_clf = DecisionTreeRegressor()\n",
    "tree_clf.fit(X_train, y_train)"
   ]
  },
  {
   "cell_type": "code",
   "execution_count": null,
   "id": "87f5b8a4",
   "metadata": {},
   "outputs": [
    {
     "data": {
      "text/plain": [
       "-0.042898488496886156"
      ]
     },
     "execution_count": 55,
     "metadata": {},
     "output_type": "execute_result"
    }
   ],
   "source": [
    "\n",
    "tree_clf.score(X_test,y_test)"
   ]
  },
  {
   "cell_type": "code",
   "execution_count": null,
   "id": "c44147bc",
   "metadata": {},
   "outputs": [
    {
     "data": {
      "text/plain": [
       "25"
      ]
     },
     "execution_count": 183,
     "metadata": {},
     "output_type": "execute_result"
    }
   ],
   "source": [
    "tree_clf.get_depth()"
   ]
  },
  {
   "cell_type": "markdown",
   "id": "efab6731",
   "metadata": {},
   "source": [
    "The classifier model had an R-squared of 16% when we compare the predicted values of the test data with the actual values"
   ]
  },
  {
   "cell_type": "markdown",
   "id": "e1779f54",
   "metadata": {},
   "source": [
    "##### **Linear Regression**\n",
    "We will use Linear Regression to try and predict the number of reviews that we would expect a class to generate based on the course Level "
   ]
  },
  {
   "cell_type": "code",
   "execution_count": null,
   "id": "506f7228",
   "metadata": {},
   "outputs": [],
   "source": [
    "lm_clf = LinearRegression()"
   ]
  },
  {
   "cell_type": "code",
   "execution_count": null,
   "id": "be23ae9d",
   "metadata": {},
   "outputs": [
    {
     "data": {
      "text/html": [
       "<style>#sk-container-id-14 {color: black;background-color: white;}#sk-container-id-14 pre{padding: 0;}#sk-container-id-14 div.sk-toggleable {background-color: white;}#sk-container-id-14 label.sk-toggleable__label {cursor: pointer;display: block;width: 100%;margin-bottom: 0;padding: 0.3em;box-sizing: border-box;text-align: center;}#sk-container-id-14 label.sk-toggleable__label-arrow:before {content: \"▸\";float: left;margin-right: 0.25em;color: #696969;}#sk-container-id-14 label.sk-toggleable__label-arrow:hover:before {color: black;}#sk-container-id-14 div.sk-estimator:hover label.sk-toggleable__label-arrow:before {color: black;}#sk-container-id-14 div.sk-toggleable__content {max-height: 0;max-width: 0;overflow: hidden;text-align: left;background-color: #f0f8ff;}#sk-container-id-14 div.sk-toggleable__content pre {margin: 0.2em;color: black;border-radius: 0.25em;background-color: #f0f8ff;}#sk-container-id-14 input.sk-toggleable__control:checked~div.sk-toggleable__content {max-height: 200px;max-width: 100%;overflow: auto;}#sk-container-id-14 input.sk-toggleable__control:checked~label.sk-toggleable__label-arrow:before {content: \"▾\";}#sk-container-id-14 div.sk-estimator input.sk-toggleable__control:checked~label.sk-toggleable__label {background-color: #d4ebff;}#sk-container-id-14 div.sk-label input.sk-toggleable__control:checked~label.sk-toggleable__label {background-color: #d4ebff;}#sk-container-id-14 input.sk-hidden--visually {border: 0;clip: rect(1px 1px 1px 1px);clip: rect(1px, 1px, 1px, 1px);height: 1px;margin: -1px;overflow: hidden;padding: 0;position: absolute;width: 1px;}#sk-container-id-14 div.sk-estimator {font-family: monospace;background-color: #f0f8ff;border: 1px dotted black;border-radius: 0.25em;box-sizing: border-box;margin-bottom: 0.5em;}#sk-container-id-14 div.sk-estimator:hover {background-color: #d4ebff;}#sk-container-id-14 div.sk-parallel-item::after {content: \"\";width: 100%;border-bottom: 1px solid gray;flex-grow: 1;}#sk-container-id-14 div.sk-label:hover label.sk-toggleable__label {background-color: #d4ebff;}#sk-container-id-14 div.sk-serial::before {content: \"\";position: absolute;border-left: 1px solid gray;box-sizing: border-box;top: 0;bottom: 0;left: 50%;z-index: 0;}#sk-container-id-14 div.sk-serial {display: flex;flex-direction: column;align-items: center;background-color: white;padding-right: 0.2em;padding-left: 0.2em;position: relative;}#sk-container-id-14 div.sk-item {position: relative;z-index: 1;}#sk-container-id-14 div.sk-parallel {display: flex;align-items: stretch;justify-content: center;background-color: white;position: relative;}#sk-container-id-14 div.sk-item::before, #sk-container-id-14 div.sk-parallel-item::before {content: \"\";position: absolute;border-left: 1px solid gray;box-sizing: border-box;top: 0;bottom: 0;left: 50%;z-index: -1;}#sk-container-id-14 div.sk-parallel-item {display: flex;flex-direction: column;z-index: 1;position: relative;background-color: white;}#sk-container-id-14 div.sk-parallel-item:first-child::after {align-self: flex-end;width: 50%;}#sk-container-id-14 div.sk-parallel-item:last-child::after {align-self: flex-start;width: 50%;}#sk-container-id-14 div.sk-parallel-item:only-child::after {width: 0;}#sk-container-id-14 div.sk-dashed-wrapped {border: 1px dashed gray;margin: 0 0.4em 0.5em 0.4em;box-sizing: border-box;padding-bottom: 0.4em;background-color: white;}#sk-container-id-14 div.sk-label label {font-family: monospace;font-weight: bold;display: inline-block;line-height: 1.2em;}#sk-container-id-14 div.sk-label-container {text-align: center;}#sk-container-id-14 div.sk-container {/* jupyter's `normalize.less` sets `[hidden] { display: none; }` but bootstrap.min.css set `[hidden] { display: none !important; }` so we also need the `!important` here to be able to override the default hidden behavior on the sphinx rendered scikit-learn.org. See: https://github.com/scikit-learn/scikit-learn/issues/21755 */display: inline-block !important;position: relative;}#sk-container-id-14 div.sk-text-repr-fallback {display: none;}</style><div id=\"sk-container-id-14\" class=\"sk-top-container\"><div class=\"sk-text-repr-fallback\"><pre>LinearRegression()</pre><b>In a Jupyter environment, please rerun this cell to show the HTML representation or trust the notebook. <br />On GitHub, the HTML representation is unable to render, please try loading this page with nbviewer.org.</b></div><div class=\"sk-container\" hidden><div class=\"sk-item\"><div class=\"sk-estimator sk-toggleable\"><input class=\"sk-toggleable__control sk-hidden--visually\" id=\"sk-estimator-id-14\" type=\"checkbox\" checked><label for=\"sk-estimator-id-14\" class=\"sk-toggleable__label sk-toggleable__label-arrow\">LinearRegression</label><div class=\"sk-toggleable__content\"><pre>LinearRegression()</pre></div></div></div></div></div>"
      ],
      "text/plain": [
       "LinearRegression()"
      ]
     },
     "execution_count": 160,
     "metadata": {},
     "output_type": "execute_result"
    }
   ],
   "source": [
    "lm_clf.fit(X_train, y_train)"
   ]
  },
  {
   "cell_type": "code",
   "execution_count": null,
   "id": "2f0cb2a8",
   "metadata": {},
   "outputs": [],
   "source": [
    "y_pred = lm_clf.predict(X_test)"
   ]
  },
  {
   "cell_type": "code",
   "execution_count": null,
   "id": "aa3b9f6a",
   "metadata": {},
   "outputs": [
    {
     "data": {
      "text/plain": [
       "2763"
      ]
     },
     "execution_count": 162,
     "metadata": {},
     "output_type": "execute_result"
    }
   ],
   "source": [
    "len(y_pred)"
   ]
  },
  {
   "cell_type": "code",
   "execution_count": null,
   "id": "98a4ff08",
   "metadata": {},
   "outputs": [
    {
     "data": {
      "text/plain": [
       "-2520.551969643397"
      ]
     },
     "execution_count": 163,
     "metadata": {},
     "output_type": "execute_result"
    }
   ],
   "source": [
    "lm_clf.intercept_"
   ]
  },
  {
   "cell_type": "code",
   "execution_count": null,
   "id": "c174dc2d",
   "metadata": {},
   "outputs": [
    {
     "data": {
      "text/plain": [
       "-2.6235767293083986e+18"
      ]
     },
     "execution_count": 137,
     "metadata": {},
     "output_type": "execute_result"
    }
   ],
   "source": [
    "lm_clf.score(X_test,y_test)"
   ]
  },
  {
   "cell_type": "markdown",
   "id": "6e1bde2f",
   "metadata": {},
   "source": [
    "### **C. Loan Default Prediction**\n",
    "\n",
    "This dataset provides information on loans that were issued and provides features on the loan and the individual who the loan was issued to, and then provides a label for whether or not the loan was defaulted on"
   ]
  },
  {
   "cell_type": "code",
   "execution_count": null,
   "id": "4fad6e47",
   "metadata": {},
   "outputs": [
    {
     "data": {
      "text/plain": [
       "(67463, 35)"
      ]
     },
     "execution_count": 25,
     "metadata": {},
     "output_type": "execute_result"
    }
   ],
   "source": [
    "df2.shape"
   ]
  },
  {
   "cell_type": "code",
   "execution_count": null,
   "id": "b3d2e06d",
   "metadata": {},
   "outputs": [
    {
     "name": "stdout",
     "output_type": "stream",
     "text": [
      "<class 'pandas.core.frame.DataFrame'>\n",
      "RangeIndex: 67463 entries, 0 to 67462\n",
      "Data columns (total 35 columns):\n",
      " #   Column                        Non-Null Count  Dtype  \n",
      "---  ------                        --------------  -----  \n",
      " 0   ID                            67463 non-null  int64  \n",
      " 1   Loan Amount                   67463 non-null  int64  \n",
      " 2   Funded Amount                 67463 non-null  int64  \n",
      " 3   Funded Amount Investor        67463 non-null  float64\n",
      " 4   Term                          67463 non-null  int64  \n",
      " 5   Batch Enrolled                67463 non-null  object \n",
      " 6   Interest Rate                 67463 non-null  float64\n",
      " 7   Grade                         67463 non-null  object \n",
      " 8   Sub Grade                     67463 non-null  object \n",
      " 9   Employment Duration           67463 non-null  object \n",
      " 10  Home Ownership                67463 non-null  float64\n",
      " 11  Verification Status           67463 non-null  object \n",
      " 12  Payment Plan                  67463 non-null  object \n",
      " 13  Loan Title                    67463 non-null  object \n",
      " 14  Debit to Income               67463 non-null  float64\n",
      " 15  Delinquency - two years       67463 non-null  int64  \n",
      " 16  Inquires - six months         67463 non-null  int64  \n",
      " 17  Open Account                  67463 non-null  int64  \n",
      " 18  Public Record                 67463 non-null  int64  \n",
      " 19  Revolving Balance             67463 non-null  int64  \n",
      " 20  Revolving Utilities           67463 non-null  float64\n",
      " 21  Total Accounts                67463 non-null  int64  \n",
      " 22  Initial List Status           67463 non-null  object \n",
      " 23  Total Received Interest       67463 non-null  float64\n",
      " 24  Total Received Late Fee       67463 non-null  float64\n",
      " 25  Recoveries                    67463 non-null  float64\n",
      " 26  Collection Recovery Fee       67463 non-null  float64\n",
      " 27  Collection 12 months Medical  67463 non-null  int64  \n",
      " 28  Application Type              67463 non-null  object \n",
      " 29  Last week Pay                 67463 non-null  int64  \n",
      " 30  Accounts Delinquent           67463 non-null  int64  \n",
      " 31  Total Collection Amount       67463 non-null  int64  \n",
      " 32  Total Current Balance         67463 non-null  int64  \n",
      " 33  Total Revolving Credit Limit  67463 non-null  int64  \n",
      " 34  Loan Status                   67463 non-null  int64  \n",
      "dtypes: float64(9), int64(17), object(9)\n",
      "memory usage: 18.0+ MB\n"
     ]
    }
   ],
   "source": [
    "df2.info()"
   ]
  },
  {
   "cell_type": "markdown",
   "id": "d323f9bf",
   "metadata": {},
   "source": [
    "#### **Exploratory Analysis**\n",
    "\n",
    "Some questions of interest in the exploration of the data include:\n",
    "\n"
   ]
  },
  {
   "cell_type": "code",
   "execution_count": null,
   "id": "e4baf0c3",
   "metadata": {},
   "outputs": [
    {
     "data": {
      "text/html": [
       "<div>\n",
       "<style scoped>\n",
       "    .dataframe tbody tr th:only-of-type {\n",
       "        vertical-align: middle;\n",
       "    }\n",
       "\n",
       "    .dataframe tbody tr th {\n",
       "        vertical-align: top;\n",
       "    }\n",
       "\n",
       "    .dataframe thead th {\n",
       "        text-align: right;\n",
       "    }\n",
       "</style>\n",
       "<table border=\"1\" class=\"dataframe\">\n",
       "  <thead>\n",
       "    <tr style=\"text-align: right;\">\n",
       "      <th></th>\n",
       "      <th>ID</th>\n",
       "      <th>Loan Amount</th>\n",
       "      <th>Funded Amount</th>\n",
       "      <th>Funded Amount Investor</th>\n",
       "      <th>Term</th>\n",
       "      <th>Batch Enrolled</th>\n",
       "      <th>Interest Rate</th>\n",
       "      <th>Grade</th>\n",
       "      <th>Sub Grade</th>\n",
       "      <th>Employment Duration</th>\n",
       "      <th>Home Ownership</th>\n",
       "      <th>Verification Status</th>\n",
       "      <th>Payment Plan</th>\n",
       "      <th>Loan Title</th>\n",
       "      <th>Debit to Income</th>\n",
       "      <th>Delinquency - two years</th>\n",
       "      <th>Inquires - six months</th>\n",
       "      <th>Open Account</th>\n",
       "      <th>Public Record</th>\n",
       "      <th>Revolving Balance</th>\n",
       "      <th>Revolving Utilities</th>\n",
       "      <th>Total Accounts</th>\n",
       "      <th>Initial List Status</th>\n",
       "      <th>Total Received Interest</th>\n",
       "      <th>Total Received Late Fee</th>\n",
       "      <th>Recoveries</th>\n",
       "      <th>Collection Recovery Fee</th>\n",
       "      <th>Collection 12 months Medical</th>\n",
       "      <th>Application Type</th>\n",
       "      <th>Last week Pay</th>\n",
       "      <th>Accounts Delinquent</th>\n",
       "      <th>Total Collection Amount</th>\n",
       "      <th>Total Current Balance</th>\n",
       "      <th>Total Revolving Credit Limit</th>\n",
       "      <th>Loan Status</th>\n",
       "    </tr>\n",
       "  </thead>\n",
       "  <tbody>\n",
       "    <tr>\n",
       "      <th>0</th>\n",
       "      <td>65087372</td>\n",
       "      <td>10000</td>\n",
       "      <td>32236</td>\n",
       "      <td>12329.362860</td>\n",
       "      <td>59</td>\n",
       "      <td>BAT2522922</td>\n",
       "      <td>11.135007</td>\n",
       "      <td>B</td>\n",
       "      <td>C4</td>\n",
       "      <td>MORTGAGE</td>\n",
       "      <td>176346.62670</td>\n",
       "      <td>Not Verified</td>\n",
       "      <td>n</td>\n",
       "      <td>Debt Consolidation</td>\n",
       "      <td>16.284758</td>\n",
       "      <td>1</td>\n",
       "      <td>0</td>\n",
       "      <td>13</td>\n",
       "      <td>0</td>\n",
       "      <td>24246</td>\n",
       "      <td>74.932551</td>\n",
       "      <td>7</td>\n",
       "      <td>w</td>\n",
       "      <td>2929.646315</td>\n",
       "      <td>0.102055</td>\n",
       "      <td>2.498291</td>\n",
       "      <td>0.793724</td>\n",
       "      <td>0</td>\n",
       "      <td>INDIVIDUAL</td>\n",
       "      <td>49</td>\n",
       "      <td>0</td>\n",
       "      <td>31</td>\n",
       "      <td>311301</td>\n",
       "      <td>6619</td>\n",
       "      <td>0</td>\n",
       "    </tr>\n",
       "    <tr>\n",
       "      <th>1</th>\n",
       "      <td>1450153</td>\n",
       "      <td>3609</td>\n",
       "      <td>11940</td>\n",
       "      <td>12191.996920</td>\n",
       "      <td>59</td>\n",
       "      <td>BAT1586599</td>\n",
       "      <td>12.237563</td>\n",
       "      <td>C</td>\n",
       "      <td>D3</td>\n",
       "      <td>RENT</td>\n",
       "      <td>39833.92100</td>\n",
       "      <td>Source Verified</td>\n",
       "      <td>n</td>\n",
       "      <td>Debt consolidation</td>\n",
       "      <td>15.412409</td>\n",
       "      <td>0</td>\n",
       "      <td>0</td>\n",
       "      <td>12</td>\n",
       "      <td>0</td>\n",
       "      <td>812</td>\n",
       "      <td>78.297186</td>\n",
       "      <td>13</td>\n",
       "      <td>f</td>\n",
       "      <td>772.769385</td>\n",
       "      <td>0.036181</td>\n",
       "      <td>2.377215</td>\n",
       "      <td>0.974821</td>\n",
       "      <td>0</td>\n",
       "      <td>INDIVIDUAL</td>\n",
       "      <td>109</td>\n",
       "      <td>0</td>\n",
       "      <td>53</td>\n",
       "      <td>182610</td>\n",
       "      <td>20885</td>\n",
       "      <td>0</td>\n",
       "    </tr>\n",
       "    <tr>\n",
       "      <th>2</th>\n",
       "      <td>1969101</td>\n",
       "      <td>28276</td>\n",
       "      <td>9311</td>\n",
       "      <td>21603.224550</td>\n",
       "      <td>59</td>\n",
       "      <td>BAT2136391</td>\n",
       "      <td>12.545884</td>\n",
       "      <td>F</td>\n",
       "      <td>D4</td>\n",
       "      <td>MORTGAGE</td>\n",
       "      <td>91506.69105</td>\n",
       "      <td>Source Verified</td>\n",
       "      <td>n</td>\n",
       "      <td>Debt Consolidation</td>\n",
       "      <td>28.137619</td>\n",
       "      <td>0</td>\n",
       "      <td>0</td>\n",
       "      <td>14</td>\n",
       "      <td>0</td>\n",
       "      <td>1843</td>\n",
       "      <td>2.073040</td>\n",
       "      <td>20</td>\n",
       "      <td>w</td>\n",
       "      <td>863.324396</td>\n",
       "      <td>18.778660</td>\n",
       "      <td>4.316277</td>\n",
       "      <td>1.020075</td>\n",
       "      <td>0</td>\n",
       "      <td>INDIVIDUAL</td>\n",
       "      <td>66</td>\n",
       "      <td>0</td>\n",
       "      <td>34</td>\n",
       "      <td>89801</td>\n",
       "      <td>26155</td>\n",
       "      <td>0</td>\n",
       "    </tr>\n",
       "    <tr>\n",
       "      <th>3</th>\n",
       "      <td>6651430</td>\n",
       "      <td>11170</td>\n",
       "      <td>6954</td>\n",
       "      <td>17877.155850</td>\n",
       "      <td>59</td>\n",
       "      <td>BAT2428731</td>\n",
       "      <td>16.731201</td>\n",
       "      <td>C</td>\n",
       "      <td>C3</td>\n",
       "      <td>MORTGAGE</td>\n",
       "      <td>108286.57590</td>\n",
       "      <td>Source Verified</td>\n",
       "      <td>n</td>\n",
       "      <td>Debt consolidation</td>\n",
       "      <td>18.043730</td>\n",
       "      <td>1</td>\n",
       "      <td>0</td>\n",
       "      <td>7</td>\n",
       "      <td>0</td>\n",
       "      <td>13819</td>\n",
       "      <td>67.467951</td>\n",
       "      <td>12</td>\n",
       "      <td>w</td>\n",
       "      <td>288.173196</td>\n",
       "      <td>0.044131</td>\n",
       "      <td>0.107020</td>\n",
       "      <td>0.749971</td>\n",
       "      <td>0</td>\n",
       "      <td>INDIVIDUAL</td>\n",
       "      <td>39</td>\n",
       "      <td>0</td>\n",
       "      <td>40</td>\n",
       "      <td>9189</td>\n",
       "      <td>60214</td>\n",
       "      <td>0</td>\n",
       "    </tr>\n",
       "    <tr>\n",
       "      <th>4</th>\n",
       "      <td>14354669</td>\n",
       "      <td>16890</td>\n",
       "      <td>13226</td>\n",
       "      <td>13539.926670</td>\n",
       "      <td>59</td>\n",
       "      <td>BAT5341619</td>\n",
       "      <td>15.008300</td>\n",
       "      <td>C</td>\n",
       "      <td>D4</td>\n",
       "      <td>MORTGAGE</td>\n",
       "      <td>44234.82545</td>\n",
       "      <td>Source Verified</td>\n",
       "      <td>n</td>\n",
       "      <td>Credit card refinancing</td>\n",
       "      <td>17.209886</td>\n",
       "      <td>1</td>\n",
       "      <td>3</td>\n",
       "      <td>13</td>\n",
       "      <td>1</td>\n",
       "      <td>1544</td>\n",
       "      <td>85.250761</td>\n",
       "      <td>22</td>\n",
       "      <td>w</td>\n",
       "      <td>129.239553</td>\n",
       "      <td>19.306646</td>\n",
       "      <td>1294.818751</td>\n",
       "      <td>0.368953</td>\n",
       "      <td>0</td>\n",
       "      <td>INDIVIDUAL</td>\n",
       "      <td>18</td>\n",
       "      <td>0</td>\n",
       "      <td>430</td>\n",
       "      <td>126029</td>\n",
       "      <td>22579</td>\n",
       "      <td>0</td>\n",
       "    </tr>\n",
       "    <tr>\n",
       "      <th>5</th>\n",
       "      <td>50509046</td>\n",
       "      <td>34631</td>\n",
       "      <td>30203</td>\n",
       "      <td>8635.931613</td>\n",
       "      <td>36</td>\n",
       "      <td>BAT4694572</td>\n",
       "      <td>17.246986</td>\n",
       "      <td>B</td>\n",
       "      <td>G5</td>\n",
       "      <td>RENT</td>\n",
       "      <td>98957.47561</td>\n",
       "      <td>Not Verified</td>\n",
       "      <td>n</td>\n",
       "      <td>Credit card refinancing</td>\n",
       "      <td>7.914333</td>\n",
       "      <td>3</td>\n",
       "      <td>2</td>\n",
       "      <td>16</td>\n",
       "      <td>0</td>\n",
       "      <td>2277</td>\n",
       "      <td>51.564476</td>\n",
       "      <td>20</td>\n",
       "      <td>w</td>\n",
       "      <td>464.818124</td>\n",
       "      <td>0.088584</td>\n",
       "      <td>5.043575</td>\n",
       "      <td>0.581688</td>\n",
       "      <td>0</td>\n",
       "      <td>INDIVIDUAL</td>\n",
       "      <td>32</td>\n",
       "      <td>0</td>\n",
       "      <td>42</td>\n",
       "      <td>51252</td>\n",
       "      <td>27480</td>\n",
       "      <td>0</td>\n",
       "    </tr>\n",
       "    <tr>\n",
       "      <th>6</th>\n",
       "      <td>32737431</td>\n",
       "      <td>30844</td>\n",
       "      <td>19773</td>\n",
       "      <td>15777.511830</td>\n",
       "      <td>59</td>\n",
       "      <td>BAT4808022</td>\n",
       "      <td>10.731432</td>\n",
       "      <td>C</td>\n",
       "      <td>C5</td>\n",
       "      <td>RENT</td>\n",
       "      <td>102391.82430</td>\n",
       "      <td>Verified</td>\n",
       "      <td>n</td>\n",
       "      <td>Home improvement</td>\n",
       "      <td>15.083911</td>\n",
       "      <td>0</td>\n",
       "      <td>0</td>\n",
       "      <td>11</td>\n",
       "      <td>0</td>\n",
       "      <td>14501</td>\n",
       "      <td>46.808804</td>\n",
       "      <td>37</td>\n",
       "      <td>w</td>\n",
       "      <td>525.738109</td>\n",
       "      <td>0.083528</td>\n",
       "      <td>3.167937</td>\n",
       "      <td>0.553076</td>\n",
       "      <td>0</td>\n",
       "      <td>INDIVIDUAL</td>\n",
       "      <td>71</td>\n",
       "      <td>0</td>\n",
       "      <td>3388</td>\n",
       "      <td>42069</td>\n",
       "      <td>31068</td>\n",
       "      <td>0</td>\n",
       "    </tr>\n",
       "    <tr>\n",
       "      <th>7</th>\n",
       "      <td>63151650</td>\n",
       "      <td>20744</td>\n",
       "      <td>10609</td>\n",
       "      <td>7645.014802</td>\n",
       "      <td>58</td>\n",
       "      <td>BAT2558388</td>\n",
       "      <td>13.993688</td>\n",
       "      <td>A</td>\n",
       "      <td>A5</td>\n",
       "      <td>OWN</td>\n",
       "      <td>61723.52014</td>\n",
       "      <td>Not Verified</td>\n",
       "      <td>n</td>\n",
       "      <td>Debt consolidation</td>\n",
       "      <td>29.829715</td>\n",
       "      <td>0</td>\n",
       "      <td>0</td>\n",
       "      <td>14</td>\n",
       "      <td>0</td>\n",
       "      <td>13067</td>\n",
       "      <td>23.936624</td>\n",
       "      <td>33</td>\n",
       "      <td>w</td>\n",
       "      <td>1350.245212</td>\n",
       "      <td>0.044965</td>\n",
       "      <td>0.098448</td>\n",
       "      <td>0.047589</td>\n",
       "      <td>0</td>\n",
       "      <td>INDIVIDUAL</td>\n",
       "      <td>87</td>\n",
       "      <td>0</td>\n",
       "      <td>48</td>\n",
       "      <td>184909</td>\n",
       "      <td>43303</td>\n",
       "      <td>0</td>\n",
       "    </tr>\n",
       "    <tr>\n",
       "      <th>8</th>\n",
       "      <td>4279662</td>\n",
       "      <td>9299</td>\n",
       "      <td>11238</td>\n",
       "      <td>13429.456610</td>\n",
       "      <td>59</td>\n",
       "      <td>BAT5341619</td>\n",
       "      <td>11.178457</td>\n",
       "      <td>G</td>\n",
       "      <td>C2</td>\n",
       "      <td>MORTGAGE</td>\n",
       "      <td>63205.09072</td>\n",
       "      <td>Verified</td>\n",
       "      <td>n</td>\n",
       "      <td>Credit card refinancing</td>\n",
       "      <td>26.244710</td>\n",
       "      <td>0</td>\n",
       "      <td>0</td>\n",
       "      <td>6</td>\n",
       "      <td>0</td>\n",
       "      <td>549</td>\n",
       "      <td>15.947386</td>\n",
       "      <td>17</td>\n",
       "      <td>w</td>\n",
       "      <td>4140.198978</td>\n",
       "      <td>0.017106</td>\n",
       "      <td>0.530214</td>\n",
       "      <td>0.216985</td>\n",
       "      <td>0</td>\n",
       "      <td>INDIVIDUAL</td>\n",
       "      <td>144</td>\n",
       "      <td>0</td>\n",
       "      <td>26</td>\n",
       "      <td>68126</td>\n",
       "      <td>7482</td>\n",
       "      <td>0</td>\n",
       "    </tr>\n",
       "    <tr>\n",
       "      <th>9</th>\n",
       "      <td>4431034</td>\n",
       "      <td>19232</td>\n",
       "      <td>8962</td>\n",
       "      <td>7004.097481</td>\n",
       "      <td>58</td>\n",
       "      <td>BAT2078974</td>\n",
       "      <td>5.520413</td>\n",
       "      <td>C</td>\n",
       "      <td>B5</td>\n",
       "      <td>RENT</td>\n",
       "      <td>42015.46586</td>\n",
       "      <td>Source Verified</td>\n",
       "      <td>n</td>\n",
       "      <td>Credit card refinancing</td>\n",
       "      <td>10.048549</td>\n",
       "      <td>1</td>\n",
       "      <td>0</td>\n",
       "      <td>11</td>\n",
       "      <td>0</td>\n",
       "      <td>1361</td>\n",
       "      <td>35.073345</td>\n",
       "      <td>30</td>\n",
       "      <td>f</td>\n",
       "      <td>2149.666963</td>\n",
       "      <td>0.008338</td>\n",
       "      <td>2.912215</td>\n",
       "      <td>0.886864</td>\n",
       "      <td>0</td>\n",
       "      <td>INDIVIDUAL</td>\n",
       "      <td>9</td>\n",
       "      <td>0</td>\n",
       "      <td>35</td>\n",
       "      <td>71650</td>\n",
       "      <td>14871</td>\n",
       "      <td>0</td>\n",
       "    </tr>\n",
       "  </tbody>\n",
       "</table>\n",
       "</div>"
      ],
      "text/plain": [
       "         ID  Loan Amount  Funded Amount  Funded Amount Investor  Term  \\\n",
       "0  65087372        10000          32236            12329.362860    59   \n",
       "1   1450153         3609          11940            12191.996920    59   \n",
       "2   1969101        28276           9311            21603.224550    59   \n",
       "3   6651430        11170           6954            17877.155850    59   \n",
       "4  14354669        16890          13226            13539.926670    59   \n",
       "5  50509046        34631          30203             8635.931613    36   \n",
       "6  32737431        30844          19773            15777.511830    59   \n",
       "7  63151650        20744          10609             7645.014802    58   \n",
       "8   4279662         9299          11238            13429.456610    59   \n",
       "9   4431034        19232           8962             7004.097481    58   \n",
       "\n",
       "  Batch Enrolled  Interest Rate Grade Sub Grade Employment Duration  \\\n",
       "0     BAT2522922      11.135007     B        C4            MORTGAGE   \n",
       "1     BAT1586599      12.237563     C        D3                RENT   \n",
       "2     BAT2136391      12.545884     F        D4            MORTGAGE   \n",
       "3     BAT2428731      16.731201     C        C3            MORTGAGE   \n",
       "4     BAT5341619      15.008300     C        D4            MORTGAGE   \n",
       "5     BAT4694572      17.246986     B        G5                RENT   \n",
       "6     BAT4808022      10.731432     C        C5                RENT   \n",
       "7     BAT2558388      13.993688     A        A5                 OWN   \n",
       "8     BAT5341619      11.178457     G        C2            MORTGAGE   \n",
       "9     BAT2078974       5.520413     C        B5                RENT   \n",
       "\n",
       "   Home Ownership Verification Status Payment Plan               Loan Title  \\\n",
       "0    176346.62670        Not Verified            n       Debt Consolidation   \n",
       "1     39833.92100     Source Verified            n       Debt consolidation   \n",
       "2     91506.69105     Source Verified            n       Debt Consolidation   \n",
       "3    108286.57590     Source Verified            n       Debt consolidation   \n",
       "4     44234.82545     Source Verified            n  Credit card refinancing   \n",
       "5     98957.47561        Not Verified            n  Credit card refinancing   \n",
       "6    102391.82430            Verified            n         Home improvement   \n",
       "7     61723.52014        Not Verified            n       Debt consolidation   \n",
       "8     63205.09072            Verified            n  Credit card refinancing   \n",
       "9     42015.46586     Source Verified            n  Credit card refinancing   \n",
       "\n",
       "   Debit to Income  Delinquency - two years  Inquires - six months  \\\n",
       "0        16.284758                        1                      0   \n",
       "1        15.412409                        0                      0   \n",
       "2        28.137619                        0                      0   \n",
       "3        18.043730                        1                      0   \n",
       "4        17.209886                        1                      3   \n",
       "5         7.914333                        3                      2   \n",
       "6        15.083911                        0                      0   \n",
       "7        29.829715                        0                      0   \n",
       "8        26.244710                        0                      0   \n",
       "9        10.048549                        1                      0   \n",
       "\n",
       "   Open Account  Public Record  Revolving Balance  Revolving Utilities  \\\n",
       "0            13              0              24246            74.932551   \n",
       "1            12              0                812            78.297186   \n",
       "2            14              0               1843             2.073040   \n",
       "3             7              0              13819            67.467951   \n",
       "4            13              1               1544            85.250761   \n",
       "5            16              0               2277            51.564476   \n",
       "6            11              0              14501            46.808804   \n",
       "7            14              0              13067            23.936624   \n",
       "8             6              0                549            15.947386   \n",
       "9            11              0               1361            35.073345   \n",
       "\n",
       "   Total Accounts Initial List Status  Total Received Interest  \\\n",
       "0               7                   w              2929.646315   \n",
       "1              13                   f               772.769385   \n",
       "2              20                   w               863.324396   \n",
       "3              12                   w               288.173196   \n",
       "4              22                   w               129.239553   \n",
       "5              20                   w               464.818124   \n",
       "6              37                   w               525.738109   \n",
       "7              33                   w              1350.245212   \n",
       "8              17                   w              4140.198978   \n",
       "9              30                   f              2149.666963   \n",
       "\n",
       "   Total Received Late Fee   Recoveries  Collection Recovery Fee  \\\n",
       "0                 0.102055     2.498291                 0.793724   \n",
       "1                 0.036181     2.377215                 0.974821   \n",
       "2                18.778660     4.316277                 1.020075   \n",
       "3                 0.044131     0.107020                 0.749971   \n",
       "4                19.306646  1294.818751                 0.368953   \n",
       "5                 0.088584     5.043575                 0.581688   \n",
       "6                 0.083528     3.167937                 0.553076   \n",
       "7                 0.044965     0.098448                 0.047589   \n",
       "8                 0.017106     0.530214                 0.216985   \n",
       "9                 0.008338     2.912215                 0.886864   \n",
       "\n",
       "   Collection 12 months Medical Application Type  Last week Pay  \\\n",
       "0                             0       INDIVIDUAL             49   \n",
       "1                             0       INDIVIDUAL            109   \n",
       "2                             0       INDIVIDUAL             66   \n",
       "3                             0       INDIVIDUAL             39   \n",
       "4                             0       INDIVIDUAL             18   \n",
       "5                             0       INDIVIDUAL             32   \n",
       "6                             0       INDIVIDUAL             71   \n",
       "7                             0       INDIVIDUAL             87   \n",
       "8                             0       INDIVIDUAL            144   \n",
       "9                             0       INDIVIDUAL              9   \n",
       "\n",
       "   Accounts Delinquent  Total Collection Amount  Total Current Balance  \\\n",
       "0                    0                       31                 311301   \n",
       "1                    0                       53                 182610   \n",
       "2                    0                       34                  89801   \n",
       "3                    0                       40                   9189   \n",
       "4                    0                      430                 126029   \n",
       "5                    0                       42                  51252   \n",
       "6                    0                     3388                  42069   \n",
       "7                    0                       48                 184909   \n",
       "8                    0                       26                  68126   \n",
       "9                    0                       35                  71650   \n",
       "\n",
       "   Total Revolving Credit Limit  Loan Status  \n",
       "0                          6619            0  \n",
       "1                         20885            0  \n",
       "2                         26155            0  \n",
       "3                         60214            0  \n",
       "4                         22579            0  \n",
       "5                         27480            0  \n",
       "6                         31068            0  \n",
       "7                         43303            0  \n",
       "8                          7482            0  \n",
       "9                         14871            0  "
      ]
     },
     "execution_count": 29,
     "metadata": {},
     "output_type": "execute_result"
    }
   ],
   "source": [
    "df2.head(10)"
   ]
  },
  {
   "cell_type": "markdown",
   "id": "cb0bb23f",
   "metadata": {},
   "source": [
    "Here we see the distribution of Good and Bad Loans. "
   ]
  },
  {
   "cell_type": "code",
   "execution_count": 59,
   "id": "eccf29bb",
   "metadata": {},
   "outputs": [
    {
     "data": {
      "text/plain": [
       "array([61222,  6241])"
      ]
     },
     "execution_count": 59,
     "metadata": {},
     "output_type": "execute_result"
    }
   ],
   "source": [
    "df2['Loan Status'].value_counts().values"
   ]
  },
  {
   "cell_type": "code",
   "execution_count": 70,
   "id": "0966e1ff",
   "metadata": {},
   "outputs": [],
   "source": [
    "x = list(df2['Loan Status'].value_counts().index)\n",
    "y = df2['Loan Status'].value_counts().values\n"
   ]
  },
  {
   "cell_type": "code",
   "execution_count": 72,
   "id": "d02565e1",
   "metadata": {},
   "outputs": [
    {
     "data": {
      "text/plain": [
       "array([61222,  6241])"
      ]
     },
     "execution_count": 72,
     "metadata": {},
     "output_type": "execute_result"
    }
   ],
   "source": [
    "y"
   ]
  },
  {
   "cell_type": "code",
   "execution_count": 74,
   "id": "6c0002bd",
   "metadata": {},
   "outputs": [
    {
     "data": {
      "application/vnd.plotly.v1+json": {
       "config": {
        "plotlyServerURL": "https://plot.ly"
       },
       "data": [
        {
         "alignmentgroup": "True",
         "hovertemplate": "x=%{x}<br>y=%{y}<extra></extra>",
         "legendgroup": "",
         "marker": {
          "color": "#636efa",
          "pattern": {
           "shape": ""
          }
         },
         "name": "",
         "offsetgroup": "",
         "orientation": "v",
         "showlegend": false,
         "textposition": "auto",
         "texttemplate": "%{y}",
         "type": "bar",
         "x": [
          0,
          1
         ],
         "xaxis": "x",
         "y": [
          61222,
          6241
         ],
         "yaxis": "y"
        }
       ],
       "layout": {
        "barmode": "relative",
        "legend": {
         "tracegroupgap": 0
        },
        "margin": {
         "t": 60
        },
        "template": {
         "data": {
          "bar": [
           {
            "error_x": {
             "color": "#2a3f5f"
            },
            "error_y": {
             "color": "#2a3f5f"
            },
            "marker": {
             "line": {
              "color": "#E5ECF6",
              "width": 0.5
             },
             "pattern": {
              "fillmode": "overlay",
              "size": 10,
              "solidity": 0.2
             }
            },
            "type": "bar"
           }
          ],
          "barpolar": [
           {
            "marker": {
             "line": {
              "color": "#E5ECF6",
              "width": 0.5
             },
             "pattern": {
              "fillmode": "overlay",
              "size": 10,
              "solidity": 0.2
             }
            },
            "type": "barpolar"
           }
          ],
          "carpet": [
           {
            "aaxis": {
             "endlinecolor": "#2a3f5f",
             "gridcolor": "white",
             "linecolor": "white",
             "minorgridcolor": "white",
             "startlinecolor": "#2a3f5f"
            },
            "baxis": {
             "endlinecolor": "#2a3f5f",
             "gridcolor": "white",
             "linecolor": "white",
             "minorgridcolor": "white",
             "startlinecolor": "#2a3f5f"
            },
            "type": "carpet"
           }
          ],
          "choropleth": [
           {
            "colorbar": {
             "outlinewidth": 0,
             "ticks": ""
            },
            "type": "choropleth"
           }
          ],
          "contour": [
           {
            "colorbar": {
             "outlinewidth": 0,
             "ticks": ""
            },
            "colorscale": [
             [
              0,
              "#0d0887"
             ],
             [
              0.1111111111111111,
              "#46039f"
             ],
             [
              0.2222222222222222,
              "#7201a8"
             ],
             [
              0.3333333333333333,
              "#9c179e"
             ],
             [
              0.4444444444444444,
              "#bd3786"
             ],
             [
              0.5555555555555556,
              "#d8576b"
             ],
             [
              0.6666666666666666,
              "#ed7953"
             ],
             [
              0.7777777777777778,
              "#fb9f3a"
             ],
             [
              0.8888888888888888,
              "#fdca26"
             ],
             [
              1,
              "#f0f921"
             ]
            ],
            "type": "contour"
           }
          ],
          "contourcarpet": [
           {
            "colorbar": {
             "outlinewidth": 0,
             "ticks": ""
            },
            "type": "contourcarpet"
           }
          ],
          "heatmap": [
           {
            "colorbar": {
             "outlinewidth": 0,
             "ticks": ""
            },
            "colorscale": [
             [
              0,
              "#0d0887"
             ],
             [
              0.1111111111111111,
              "#46039f"
             ],
             [
              0.2222222222222222,
              "#7201a8"
             ],
             [
              0.3333333333333333,
              "#9c179e"
             ],
             [
              0.4444444444444444,
              "#bd3786"
             ],
             [
              0.5555555555555556,
              "#d8576b"
             ],
             [
              0.6666666666666666,
              "#ed7953"
             ],
             [
              0.7777777777777778,
              "#fb9f3a"
             ],
             [
              0.8888888888888888,
              "#fdca26"
             ],
             [
              1,
              "#f0f921"
             ]
            ],
            "type": "heatmap"
           }
          ],
          "heatmapgl": [
           {
            "colorbar": {
             "outlinewidth": 0,
             "ticks": ""
            },
            "colorscale": [
             [
              0,
              "#0d0887"
             ],
             [
              0.1111111111111111,
              "#46039f"
             ],
             [
              0.2222222222222222,
              "#7201a8"
             ],
             [
              0.3333333333333333,
              "#9c179e"
             ],
             [
              0.4444444444444444,
              "#bd3786"
             ],
             [
              0.5555555555555556,
              "#d8576b"
             ],
             [
              0.6666666666666666,
              "#ed7953"
             ],
             [
              0.7777777777777778,
              "#fb9f3a"
             ],
             [
              0.8888888888888888,
              "#fdca26"
             ],
             [
              1,
              "#f0f921"
             ]
            ],
            "type": "heatmapgl"
           }
          ],
          "histogram": [
           {
            "marker": {
             "pattern": {
              "fillmode": "overlay",
              "size": 10,
              "solidity": 0.2
             }
            },
            "type": "histogram"
           }
          ],
          "histogram2d": [
           {
            "colorbar": {
             "outlinewidth": 0,
             "ticks": ""
            },
            "colorscale": [
             [
              0,
              "#0d0887"
             ],
             [
              0.1111111111111111,
              "#46039f"
             ],
             [
              0.2222222222222222,
              "#7201a8"
             ],
             [
              0.3333333333333333,
              "#9c179e"
             ],
             [
              0.4444444444444444,
              "#bd3786"
             ],
             [
              0.5555555555555556,
              "#d8576b"
             ],
             [
              0.6666666666666666,
              "#ed7953"
             ],
             [
              0.7777777777777778,
              "#fb9f3a"
             ],
             [
              0.8888888888888888,
              "#fdca26"
             ],
             [
              1,
              "#f0f921"
             ]
            ],
            "type": "histogram2d"
           }
          ],
          "histogram2dcontour": [
           {
            "colorbar": {
             "outlinewidth": 0,
             "ticks": ""
            },
            "colorscale": [
             [
              0,
              "#0d0887"
             ],
             [
              0.1111111111111111,
              "#46039f"
             ],
             [
              0.2222222222222222,
              "#7201a8"
             ],
             [
              0.3333333333333333,
              "#9c179e"
             ],
             [
              0.4444444444444444,
              "#bd3786"
             ],
             [
              0.5555555555555556,
              "#d8576b"
             ],
             [
              0.6666666666666666,
              "#ed7953"
             ],
             [
              0.7777777777777778,
              "#fb9f3a"
             ],
             [
              0.8888888888888888,
              "#fdca26"
             ],
             [
              1,
              "#f0f921"
             ]
            ],
            "type": "histogram2dcontour"
           }
          ],
          "mesh3d": [
           {
            "colorbar": {
             "outlinewidth": 0,
             "ticks": ""
            },
            "type": "mesh3d"
           }
          ],
          "parcoords": [
           {
            "line": {
             "colorbar": {
              "outlinewidth": 0,
              "ticks": ""
             }
            },
            "type": "parcoords"
           }
          ],
          "pie": [
           {
            "automargin": true,
            "type": "pie"
           }
          ],
          "scatter": [
           {
            "fillpattern": {
             "fillmode": "overlay",
             "size": 10,
             "solidity": 0.2
            },
            "type": "scatter"
           }
          ],
          "scatter3d": [
           {
            "line": {
             "colorbar": {
              "outlinewidth": 0,
              "ticks": ""
             }
            },
            "marker": {
             "colorbar": {
              "outlinewidth": 0,
              "ticks": ""
             }
            },
            "type": "scatter3d"
           }
          ],
          "scattercarpet": [
           {
            "marker": {
             "colorbar": {
              "outlinewidth": 0,
              "ticks": ""
             }
            },
            "type": "scattercarpet"
           }
          ],
          "scattergeo": [
           {
            "marker": {
             "colorbar": {
              "outlinewidth": 0,
              "ticks": ""
             }
            },
            "type": "scattergeo"
           }
          ],
          "scattergl": [
           {
            "marker": {
             "colorbar": {
              "outlinewidth": 0,
              "ticks": ""
             }
            },
            "type": "scattergl"
           }
          ],
          "scattermapbox": [
           {
            "marker": {
             "colorbar": {
              "outlinewidth": 0,
              "ticks": ""
             }
            },
            "type": "scattermapbox"
           }
          ],
          "scatterpolar": [
           {
            "marker": {
             "colorbar": {
              "outlinewidth": 0,
              "ticks": ""
             }
            },
            "type": "scatterpolar"
           }
          ],
          "scatterpolargl": [
           {
            "marker": {
             "colorbar": {
              "outlinewidth": 0,
              "ticks": ""
             }
            },
            "type": "scatterpolargl"
           }
          ],
          "scatterternary": [
           {
            "marker": {
             "colorbar": {
              "outlinewidth": 0,
              "ticks": ""
             }
            },
            "type": "scatterternary"
           }
          ],
          "surface": [
           {
            "colorbar": {
             "outlinewidth": 0,
             "ticks": ""
            },
            "colorscale": [
             [
              0,
              "#0d0887"
             ],
             [
              0.1111111111111111,
              "#46039f"
             ],
             [
              0.2222222222222222,
              "#7201a8"
             ],
             [
              0.3333333333333333,
              "#9c179e"
             ],
             [
              0.4444444444444444,
              "#bd3786"
             ],
             [
              0.5555555555555556,
              "#d8576b"
             ],
             [
              0.6666666666666666,
              "#ed7953"
             ],
             [
              0.7777777777777778,
              "#fb9f3a"
             ],
             [
              0.8888888888888888,
              "#fdca26"
             ],
             [
              1,
              "#f0f921"
             ]
            ],
            "type": "surface"
           }
          ],
          "table": [
           {
            "cells": {
             "fill": {
              "color": "#EBF0F8"
             },
             "line": {
              "color": "white"
             }
            },
            "header": {
             "fill": {
              "color": "#C8D4E3"
             },
             "line": {
              "color": "white"
             }
            },
            "type": "table"
           }
          ]
         },
         "layout": {
          "annotationdefaults": {
           "arrowcolor": "#2a3f5f",
           "arrowhead": 0,
           "arrowwidth": 1
          },
          "autotypenumbers": "strict",
          "coloraxis": {
           "colorbar": {
            "outlinewidth": 0,
            "ticks": ""
           }
          },
          "colorscale": {
           "diverging": [
            [
             0,
             "#8e0152"
            ],
            [
             0.1,
             "#c51b7d"
            ],
            [
             0.2,
             "#de77ae"
            ],
            [
             0.3,
             "#f1b6da"
            ],
            [
             0.4,
             "#fde0ef"
            ],
            [
             0.5,
             "#f7f7f7"
            ],
            [
             0.6,
             "#e6f5d0"
            ],
            [
             0.7,
             "#b8e186"
            ],
            [
             0.8,
             "#7fbc41"
            ],
            [
             0.9,
             "#4d9221"
            ],
            [
             1,
             "#276419"
            ]
           ],
           "sequential": [
            [
             0,
             "#0d0887"
            ],
            [
             0.1111111111111111,
             "#46039f"
            ],
            [
             0.2222222222222222,
             "#7201a8"
            ],
            [
             0.3333333333333333,
             "#9c179e"
            ],
            [
             0.4444444444444444,
             "#bd3786"
            ],
            [
             0.5555555555555556,
             "#d8576b"
            ],
            [
             0.6666666666666666,
             "#ed7953"
            ],
            [
             0.7777777777777778,
             "#fb9f3a"
            ],
            [
             0.8888888888888888,
             "#fdca26"
            ],
            [
             1,
             "#f0f921"
            ]
           ],
           "sequentialminus": [
            [
             0,
             "#0d0887"
            ],
            [
             0.1111111111111111,
             "#46039f"
            ],
            [
             0.2222222222222222,
             "#7201a8"
            ],
            [
             0.3333333333333333,
             "#9c179e"
            ],
            [
             0.4444444444444444,
             "#bd3786"
            ],
            [
             0.5555555555555556,
             "#d8576b"
            ],
            [
             0.6666666666666666,
             "#ed7953"
            ],
            [
             0.7777777777777778,
             "#fb9f3a"
            ],
            [
             0.8888888888888888,
             "#fdca26"
            ],
            [
             1,
             "#f0f921"
            ]
           ]
          },
          "colorway": [
           "#636efa",
           "#EF553B",
           "#00cc96",
           "#ab63fa",
           "#FFA15A",
           "#19d3f3",
           "#FF6692",
           "#B6E880",
           "#FF97FF",
           "#FECB52"
          ],
          "font": {
           "color": "#2a3f5f"
          },
          "geo": {
           "bgcolor": "white",
           "lakecolor": "white",
           "landcolor": "#E5ECF6",
           "showlakes": true,
           "showland": true,
           "subunitcolor": "white"
          },
          "hoverlabel": {
           "align": "left"
          },
          "hovermode": "closest",
          "mapbox": {
           "style": "light"
          },
          "paper_bgcolor": "white",
          "plot_bgcolor": "#E5ECF6",
          "polar": {
           "angularaxis": {
            "gridcolor": "white",
            "linecolor": "white",
            "ticks": ""
           },
           "bgcolor": "#E5ECF6",
           "radialaxis": {
            "gridcolor": "white",
            "linecolor": "white",
            "ticks": ""
           }
          },
          "scene": {
           "xaxis": {
            "backgroundcolor": "#E5ECF6",
            "gridcolor": "white",
            "gridwidth": 2,
            "linecolor": "white",
            "showbackground": true,
            "ticks": "",
            "zerolinecolor": "white"
           },
           "yaxis": {
            "backgroundcolor": "#E5ECF6",
            "gridcolor": "white",
            "gridwidth": 2,
            "linecolor": "white",
            "showbackground": true,
            "ticks": "",
            "zerolinecolor": "white"
           },
           "zaxis": {
            "backgroundcolor": "#E5ECF6",
            "gridcolor": "white",
            "gridwidth": 2,
            "linecolor": "white",
            "showbackground": true,
            "ticks": "",
            "zerolinecolor": "white"
           }
          },
          "shapedefaults": {
           "line": {
            "color": "#2a3f5f"
           }
          },
          "ternary": {
           "aaxis": {
            "gridcolor": "white",
            "linecolor": "white",
            "ticks": ""
           },
           "baxis": {
            "gridcolor": "white",
            "linecolor": "white",
            "ticks": ""
           },
           "bgcolor": "#E5ECF6",
           "caxis": {
            "gridcolor": "white",
            "linecolor": "white",
            "ticks": ""
           }
          },
          "title": {
           "x": 0.05
          },
          "xaxis": {
           "automargin": true,
           "gridcolor": "white",
           "linecolor": "white",
           "ticks": "",
           "title": {
            "standoff": 15
           },
           "zerolinecolor": "white",
           "zerolinewidth": 2
          },
          "yaxis": {
           "automargin": true,
           "gridcolor": "white",
           "linecolor": "white",
           "ticks": "",
           "title": {
            "standoff": 15
           },
           "zerolinecolor": "white",
           "zerolinewidth": 2
          }
         }
        },
        "xaxis": {
         "anchor": "y",
         "domain": [
          0,
          1
         ],
         "title": {
          "text": "x"
         }
        },
        "yaxis": {
         "anchor": "x",
         "domain": [
          0,
          1
         ],
         "title": {
          "text": "y"
         }
        }
       }
      }
     },
     "metadata": {},
     "output_type": "display_data"
    }
   ],
   "source": [
    "\n",
    "px.bar(x=x,y=y, text_auto=True)"
   ]
  },
  {
   "cell_type": "code",
   "execution_count": 63,
   "id": "6684cbf9",
   "metadata": {},
   "outputs": [
    {
     "data": {
      "text/plain": [
       "[0, 1]"
      ]
     },
     "execution_count": 63,
     "metadata": {},
     "output_type": "execute_result"
    }
   ],
   "source": [
    "list(x)"
   ]
  },
  {
   "cell_type": "code",
   "execution_count": null,
   "id": "c767070a",
   "metadata": {},
   "outputs": [
    {
     "data": {
      "text/html": [
       "<div>\n",
       "<style scoped>\n",
       "    .dataframe tbody tr th:only-of-type {\n",
       "        vertical-align: middle;\n",
       "    }\n",
       "\n",
       "    .dataframe tbody tr th {\n",
       "        vertical-align: top;\n",
       "    }\n",
       "\n",
       "    .dataframe thead th {\n",
       "        text-align: right;\n",
       "    }\n",
       "</style>\n",
       "<table border=\"1\" class=\"dataframe\">\n",
       "  <thead>\n",
       "    <tr style=\"text-align: right;\">\n",
       "      <th></th>\n",
       "      <th>Batch Enrolled</th>\n",
       "      <th>Grade</th>\n",
       "      <th>Sub Grade</th>\n",
       "      <th>Employment Duration</th>\n",
       "      <th>Verification Status</th>\n",
       "      <th>Payment Plan</th>\n",
       "      <th>Loan Title</th>\n",
       "      <th>Initial List Status</th>\n",
       "      <th>Application Type</th>\n",
       "    </tr>\n",
       "  </thead>\n",
       "  <tbody>\n",
       "    <tr>\n",
       "      <th>0</th>\n",
       "      <td>BAT2522922</td>\n",
       "      <td>B</td>\n",
       "      <td>C4</td>\n",
       "      <td>MORTGAGE</td>\n",
       "      <td>Not Verified</td>\n",
       "      <td>n</td>\n",
       "      <td>Debt Consolidation</td>\n",
       "      <td>w</td>\n",
       "      <td>INDIVIDUAL</td>\n",
       "    </tr>\n",
       "    <tr>\n",
       "      <th>1</th>\n",
       "      <td>BAT1586599</td>\n",
       "      <td>C</td>\n",
       "      <td>D3</td>\n",
       "      <td>RENT</td>\n",
       "      <td>Source Verified</td>\n",
       "      <td>n</td>\n",
       "      <td>Debt consolidation</td>\n",
       "      <td>f</td>\n",
       "      <td>INDIVIDUAL</td>\n",
       "    </tr>\n",
       "    <tr>\n",
       "      <th>2</th>\n",
       "      <td>BAT2136391</td>\n",
       "      <td>F</td>\n",
       "      <td>D4</td>\n",
       "      <td>MORTGAGE</td>\n",
       "      <td>Source Verified</td>\n",
       "      <td>n</td>\n",
       "      <td>Debt Consolidation</td>\n",
       "      <td>w</td>\n",
       "      <td>INDIVIDUAL</td>\n",
       "    </tr>\n",
       "    <tr>\n",
       "      <th>3</th>\n",
       "      <td>BAT2428731</td>\n",
       "      <td>C</td>\n",
       "      <td>C3</td>\n",
       "      <td>MORTGAGE</td>\n",
       "      <td>Source Verified</td>\n",
       "      <td>n</td>\n",
       "      <td>Debt consolidation</td>\n",
       "      <td>w</td>\n",
       "      <td>INDIVIDUAL</td>\n",
       "    </tr>\n",
       "    <tr>\n",
       "      <th>4</th>\n",
       "      <td>BAT5341619</td>\n",
       "      <td>C</td>\n",
       "      <td>D4</td>\n",
       "      <td>MORTGAGE</td>\n",
       "      <td>Source Verified</td>\n",
       "      <td>n</td>\n",
       "      <td>Credit card refinancing</td>\n",
       "      <td>w</td>\n",
       "      <td>INDIVIDUAL</td>\n",
       "    </tr>\n",
       "  </tbody>\n",
       "</table>\n",
       "</div>"
      ],
      "text/plain": [
       "  Batch Enrolled Grade Sub Grade Employment Duration Verification Status  \\\n",
       "0     BAT2522922     B        C4            MORTGAGE        Not Verified   \n",
       "1     BAT1586599     C        D3                RENT     Source Verified   \n",
       "2     BAT2136391     F        D4            MORTGAGE     Source Verified   \n",
       "3     BAT2428731     C        C3            MORTGAGE     Source Verified   \n",
       "4     BAT5341619     C        D4            MORTGAGE     Source Verified   \n",
       "\n",
       "  Payment Plan               Loan Title Initial List Status Application Type  \n",
       "0            n       Debt Consolidation                   w       INDIVIDUAL  \n",
       "1            n       Debt consolidation                   f       INDIVIDUAL  \n",
       "2            n       Debt Consolidation                   w       INDIVIDUAL  \n",
       "3            n       Debt consolidation                   w       INDIVIDUAL  \n",
       "4            n  Credit card refinancing                   w       INDIVIDUAL  "
      ]
     },
     "execution_count": 31,
     "metadata": {},
     "output_type": "execute_result"
    }
   ],
   "source": [
    "df2.loc[:,df2.dtypes == 'object'].head()"
   ]
  },
  {
   "cell_type": "code",
   "execution_count": null,
   "id": "1e9f9665",
   "metadata": {},
   "outputs": [
    {
     "data": {
      "text/html": [
       "<div>\n",
       "<style scoped>\n",
       "    .dataframe tbody tr th:only-of-type {\n",
       "        vertical-align: middle;\n",
       "    }\n",
       "\n",
       "    .dataframe tbody tr th {\n",
       "        vertical-align: top;\n",
       "    }\n",
       "\n",
       "    .dataframe thead th {\n",
       "        text-align: right;\n",
       "    }\n",
       "</style>\n",
       "<table border=\"1\" class=\"dataframe\">\n",
       "  <thead>\n",
       "    <tr style=\"text-align: right;\">\n",
       "      <th></th>\n",
       "      <th>level_0</th>\n",
       "      <th>index</th>\n",
       "      <th>dtype</th>\n",
       "    </tr>\n",
       "  </thead>\n",
       "  <tbody>\n",
       "    <tr>\n",
       "      <th>0</th>\n",
       "      <td>0</td>\n",
       "      <td>ID</td>\n",
       "      <td>int64</td>\n",
       "    </tr>\n",
       "    <tr>\n",
       "      <th>1</th>\n",
       "      <td>32</td>\n",
       "      <td>Total Current Balance</td>\n",
       "      <td>int64</td>\n",
       "    </tr>\n",
       "    <tr>\n",
       "      <th>2</th>\n",
       "      <td>31</td>\n",
       "      <td>Total Collection Amount</td>\n",
       "      <td>int64</td>\n",
       "    </tr>\n",
       "    <tr>\n",
       "      <th>3</th>\n",
       "      <td>30</td>\n",
       "      <td>Accounts Delinquent</td>\n",
       "      <td>int64</td>\n",
       "    </tr>\n",
       "    <tr>\n",
       "      <th>4</th>\n",
       "      <td>29</td>\n",
       "      <td>Last week Pay</td>\n",
       "      <td>int64</td>\n",
       "    </tr>\n",
       "    <tr>\n",
       "      <th>5</th>\n",
       "      <td>27</td>\n",
       "      <td>Collection 12 months Medical</td>\n",
       "      <td>int64</td>\n",
       "    </tr>\n",
       "    <tr>\n",
       "      <th>6</th>\n",
       "      <td>21</td>\n",
       "      <td>Total Accounts</td>\n",
       "      <td>int64</td>\n",
       "    </tr>\n",
       "    <tr>\n",
       "      <th>7</th>\n",
       "      <td>19</td>\n",
       "      <td>Revolving Balance</td>\n",
       "      <td>int64</td>\n",
       "    </tr>\n",
       "    <tr>\n",
       "      <th>8</th>\n",
       "      <td>18</td>\n",
       "      <td>Public Record</td>\n",
       "      <td>int64</td>\n",
       "    </tr>\n",
       "    <tr>\n",
       "      <th>9</th>\n",
       "      <td>33</td>\n",
       "      <td>Total Revolving Credit Limit</td>\n",
       "      <td>int64</td>\n",
       "    </tr>\n",
       "    <tr>\n",
       "      <th>10</th>\n",
       "      <td>16</td>\n",
       "      <td>Inquires - six months</td>\n",
       "      <td>int64</td>\n",
       "    </tr>\n",
       "    <tr>\n",
       "      <th>11</th>\n",
       "      <td>15</td>\n",
       "      <td>Delinquency - two years</td>\n",
       "      <td>int64</td>\n",
       "    </tr>\n",
       "    <tr>\n",
       "      <th>12</th>\n",
       "      <td>17</td>\n",
       "      <td>Open Account</td>\n",
       "      <td>int64</td>\n",
       "    </tr>\n",
       "    <tr>\n",
       "      <th>13</th>\n",
       "      <td>34</td>\n",
       "      <td>Loan Status</td>\n",
       "      <td>int64</td>\n",
       "    </tr>\n",
       "    <tr>\n",
       "      <th>14</th>\n",
       "      <td>1</td>\n",
       "      <td>Loan Amount</td>\n",
       "      <td>int64</td>\n",
       "    </tr>\n",
       "    <tr>\n",
       "      <th>15</th>\n",
       "      <td>2</td>\n",
       "      <td>Funded Amount</td>\n",
       "      <td>int64</td>\n",
       "    </tr>\n",
       "    <tr>\n",
       "      <th>16</th>\n",
       "      <td>4</td>\n",
       "      <td>Term</td>\n",
       "      <td>int64</td>\n",
       "    </tr>\n",
       "    <tr>\n",
       "      <th>17</th>\n",
       "      <td>3</td>\n",
       "      <td>Funded Amount Investor</td>\n",
       "      <td>float64</td>\n",
       "    </tr>\n",
       "    <tr>\n",
       "      <th>18</th>\n",
       "      <td>26</td>\n",
       "      <td>Collection Recovery Fee</td>\n",
       "      <td>float64</td>\n",
       "    </tr>\n",
       "    <tr>\n",
       "      <th>19</th>\n",
       "      <td>25</td>\n",
       "      <td>Recoveries</td>\n",
       "      <td>float64</td>\n",
       "    </tr>\n",
       "    <tr>\n",
       "      <th>20</th>\n",
       "      <td>24</td>\n",
       "      <td>Total Received Late Fee</td>\n",
       "      <td>float64</td>\n",
       "    </tr>\n",
       "    <tr>\n",
       "      <th>21</th>\n",
       "      <td>23</td>\n",
       "      <td>Total Received Interest</td>\n",
       "      <td>float64</td>\n",
       "    </tr>\n",
       "    <tr>\n",
       "      <th>22</th>\n",
       "      <td>20</td>\n",
       "      <td>Revolving Utilities</td>\n",
       "      <td>float64</td>\n",
       "    </tr>\n",
       "    <tr>\n",
       "      <th>23</th>\n",
       "      <td>10</td>\n",
       "      <td>Home Ownership</td>\n",
       "      <td>float64</td>\n",
       "    </tr>\n",
       "    <tr>\n",
       "      <th>24</th>\n",
       "      <td>14</td>\n",
       "      <td>Debit to Income</td>\n",
       "      <td>float64</td>\n",
       "    </tr>\n",
       "    <tr>\n",
       "      <th>25</th>\n",
       "      <td>6</td>\n",
       "      <td>Interest Rate</td>\n",
       "      <td>float64</td>\n",
       "    </tr>\n",
       "    <tr>\n",
       "      <th>26</th>\n",
       "      <td>22</td>\n",
       "      <td>Initial List Status</td>\n",
       "      <td>object</td>\n",
       "    </tr>\n",
       "    <tr>\n",
       "      <th>27</th>\n",
       "      <td>12</td>\n",
       "      <td>Payment Plan</td>\n",
       "      <td>object</td>\n",
       "    </tr>\n",
       "    <tr>\n",
       "      <th>28</th>\n",
       "      <td>7</td>\n",
       "      <td>Grade</td>\n",
       "      <td>object</td>\n",
       "    </tr>\n",
       "    <tr>\n",
       "      <th>29</th>\n",
       "      <td>8</td>\n",
       "      <td>Sub Grade</td>\n",
       "      <td>object</td>\n",
       "    </tr>\n",
       "    <tr>\n",
       "      <th>30</th>\n",
       "      <td>5</td>\n",
       "      <td>Batch Enrolled</td>\n",
       "      <td>object</td>\n",
       "    </tr>\n",
       "    <tr>\n",
       "      <th>31</th>\n",
       "      <td>28</td>\n",
       "      <td>Application Type</td>\n",
       "      <td>object</td>\n",
       "    </tr>\n",
       "    <tr>\n",
       "      <th>32</th>\n",
       "      <td>9</td>\n",
       "      <td>Employment Duration</td>\n",
       "      <td>object</td>\n",
       "    </tr>\n",
       "    <tr>\n",
       "      <th>33</th>\n",
       "      <td>11</td>\n",
       "      <td>Verification Status</td>\n",
       "      <td>object</td>\n",
       "    </tr>\n",
       "    <tr>\n",
       "      <th>34</th>\n",
       "      <td>13</td>\n",
       "      <td>Loan Title</td>\n",
       "      <td>object</td>\n",
       "    </tr>\n",
       "  </tbody>\n",
       "</table>\n",
       "</div>"
      ],
      "text/plain": [
       "    level_0                         index    dtype\n",
       "0         0                            ID    int64\n",
       "1        32         Total Current Balance    int64\n",
       "2        31       Total Collection Amount    int64\n",
       "3        30           Accounts Delinquent    int64\n",
       "4        29                 Last week Pay    int64\n",
       "5        27  Collection 12 months Medical    int64\n",
       "6        21                Total Accounts    int64\n",
       "7        19             Revolving Balance    int64\n",
       "8        18                 Public Record    int64\n",
       "9        33  Total Revolving Credit Limit    int64\n",
       "10       16         Inquires - six months    int64\n",
       "11       15       Delinquency - two years    int64\n",
       "12       17                  Open Account    int64\n",
       "13       34                   Loan Status    int64\n",
       "14        1                   Loan Amount    int64\n",
       "15        2                 Funded Amount    int64\n",
       "16        4                          Term    int64\n",
       "17        3        Funded Amount Investor  float64\n",
       "18       26       Collection Recovery Fee  float64\n",
       "19       25                    Recoveries  float64\n",
       "20       24       Total Received Late Fee  float64\n",
       "21       23       Total Received Interest  float64\n",
       "22       20           Revolving Utilities  float64\n",
       "23       10                Home Ownership  float64\n",
       "24       14               Debit to Income  float64\n",
       "25        6                 Interest Rate  float64\n",
       "26       22           Initial List Status   object\n",
       "27       12                  Payment Plan   object\n",
       "28        7                         Grade   object\n",
       "29        8                     Sub Grade   object\n",
       "30        5                Batch Enrolled   object\n",
       "31       28              Application Type   object\n",
       "32        9           Employment Duration   object\n",
       "33       11           Verification Status   object\n",
       "34       13                    Loan Title   object"
      ]
     },
     "execution_count": 32,
     "metadata": {},
     "output_type": "execute_result"
    }
   ],
   "source": [
    "pd.DataFrame(df2.dtypes).reset_index().rename(columns={0:'dtype'}).sort_values(by='dtype').reset_index()"
   ]
  },
  {
   "cell_type": "code",
   "execution_count": null,
   "id": "889dc6b3",
   "metadata": {},
   "outputs": [
    {
     "data": {
      "text/plain": [
       "array(['MORTGAGE', 'RENT', 'OWN'], dtype=object)"
      ]
     },
     "execution_count": 33,
     "metadata": {},
     "output_type": "execute_result"
    }
   ],
   "source": [
    "df2.iloc[:,9].unique()"
   ]
  },
  {
   "cell_type": "code",
   "execution_count": null,
   "id": "9100273f",
   "metadata": {},
   "outputs": [
    {
     "data": {
      "text/html": [
       "<div>\n",
       "<style scoped>\n",
       "    .dataframe tbody tr th:only-of-type {\n",
       "        vertical-align: middle;\n",
       "    }\n",
       "\n",
       "    .dataframe tbody tr th {\n",
       "        vertical-align: top;\n",
       "    }\n",
       "\n",
       "    .dataframe thead tr th {\n",
       "        text-align: left;\n",
       "    }\n",
       "\n",
       "    .dataframe thead tr:last-of-type th {\n",
       "        text-align: right;\n",
       "    }\n",
       "</style>\n",
       "<table border=\"1\" class=\"dataframe\">\n",
       "  <thead>\n",
       "    <tr>\n",
       "      <th></th>\n",
       "      <th>median</th>\n",
       "      <th>max</th>\n",
       "      <th>min</th>\n",
       "    </tr>\n",
       "    <tr>\n",
       "      <th></th>\n",
       "      <th>Loan Amount</th>\n",
       "      <th>Loan Amount</th>\n",
       "      <th>Loan Amount</th>\n",
       "    </tr>\n",
       "    <tr>\n",
       "      <th>Application Type</th>\n",
       "      <th></th>\n",
       "      <th></th>\n",
       "      <th></th>\n",
       "    </tr>\n",
       "  </thead>\n",
       "  <tbody>\n",
       "    <tr>\n",
       "      <th>INDIVIDUAL</th>\n",
       "      <td>16072.5</td>\n",
       "      <td>35000</td>\n",
       "      <td>1014</td>\n",
       "    </tr>\n",
       "    <tr>\n",
       "      <th>JOINT</th>\n",
       "      <td>16396.0</td>\n",
       "      <td>34684</td>\n",
       "      <td>2797</td>\n",
       "    </tr>\n",
       "  </tbody>\n",
       "</table>\n",
       "</div>"
      ],
      "text/plain": [
       "                      median         max         min\n",
       "                 Loan Amount Loan Amount Loan Amount\n",
       "Application Type                                    \n",
       "INDIVIDUAL           16072.5       35000        1014\n",
       "JOINT                16396.0       34684        2797"
      ]
     },
     "execution_count": 46,
     "metadata": {},
     "output_type": "execute_result"
    }
   ],
   "source": [
    "pd.pivot_table(df2,index=['Application Type'], values=['Loan Amount'],aggfunc=[\"median\",\"max\", \"min\"])"
   ]
  },
  {
   "cell_type": "markdown",
   "id": "645ff849",
   "metadata": {},
   "source": [
    "#### **Machine Learning**"
   ]
  },
  {
   "cell_type": "code",
   "execution_count": null,
   "id": "62522bb6",
   "metadata": {},
   "outputs": [],
   "source": []
  },
  {
   "cell_type": "code",
   "execution_count": null,
   "id": "4f12fa08",
   "metadata": {},
   "outputs": [],
   "source": [
    "X = df2.loc[:,df2.columns!='Loan Status']\n",
    "y = df2['Loan Status']"
   ]
  },
  {
   "cell_type": "code",
   "execution_count": null,
   "id": "1b150fab",
   "metadata": {},
   "outputs": [
    {
     "data": {
      "text/html": [
       "<div>\n",
       "<style scoped>\n",
       "    .dataframe tbody tr th:only-of-type {\n",
       "        vertical-align: middle;\n",
       "    }\n",
       "\n",
       "    .dataframe tbody tr th {\n",
       "        vertical-align: top;\n",
       "    }\n",
       "\n",
       "    .dataframe thead th {\n",
       "        text-align: right;\n",
       "    }\n",
       "</style>\n",
       "<table border=\"1\" class=\"dataframe\">\n",
       "  <thead>\n",
       "    <tr style=\"text-align: right;\">\n",
       "      <th></th>\n",
       "      <th>ID</th>\n",
       "      <th>Loan Amount</th>\n",
       "      <th>Funded Amount</th>\n",
       "      <th>Term</th>\n",
       "      <th>Delinquency - two years</th>\n",
       "      <th>Inquires - six months</th>\n",
       "      <th>Open Account</th>\n",
       "      <th>Public Record</th>\n",
       "      <th>Revolving Balance</th>\n",
       "      <th>Total Accounts</th>\n",
       "      <th>Collection 12 months Medical</th>\n",
       "      <th>Last week Pay</th>\n",
       "      <th>Accounts Delinquent</th>\n",
       "      <th>Total Collection Amount</th>\n",
       "      <th>Total Current Balance</th>\n",
       "      <th>Total Revolving Credit Limit</th>\n",
       "    </tr>\n",
       "  </thead>\n",
       "  <tbody>\n",
       "    <tr>\n",
       "      <th>0</th>\n",
       "      <td>65087372</td>\n",
       "      <td>10000</td>\n",
       "      <td>32236</td>\n",
       "      <td>59</td>\n",
       "      <td>1</td>\n",
       "      <td>0</td>\n",
       "      <td>13</td>\n",
       "      <td>0</td>\n",
       "      <td>24246</td>\n",
       "      <td>7</td>\n",
       "      <td>0</td>\n",
       "      <td>49</td>\n",
       "      <td>0</td>\n",
       "      <td>31</td>\n",
       "      <td>311301</td>\n",
       "      <td>6619</td>\n",
       "    </tr>\n",
       "    <tr>\n",
       "      <th>1</th>\n",
       "      <td>1450153</td>\n",
       "      <td>3609</td>\n",
       "      <td>11940</td>\n",
       "      <td>59</td>\n",
       "      <td>0</td>\n",
       "      <td>0</td>\n",
       "      <td>12</td>\n",
       "      <td>0</td>\n",
       "      <td>812</td>\n",
       "      <td>13</td>\n",
       "      <td>0</td>\n",
       "      <td>109</td>\n",
       "      <td>0</td>\n",
       "      <td>53</td>\n",
       "      <td>182610</td>\n",
       "      <td>20885</td>\n",
       "    </tr>\n",
       "    <tr>\n",
       "      <th>2</th>\n",
       "      <td>1969101</td>\n",
       "      <td>28276</td>\n",
       "      <td>9311</td>\n",
       "      <td>59</td>\n",
       "      <td>0</td>\n",
       "      <td>0</td>\n",
       "      <td>14</td>\n",
       "      <td>0</td>\n",
       "      <td>1843</td>\n",
       "      <td>20</td>\n",
       "      <td>0</td>\n",
       "      <td>66</td>\n",
       "      <td>0</td>\n",
       "      <td>34</td>\n",
       "      <td>89801</td>\n",
       "      <td>26155</td>\n",
       "    </tr>\n",
       "    <tr>\n",
       "      <th>3</th>\n",
       "      <td>6651430</td>\n",
       "      <td>11170</td>\n",
       "      <td>6954</td>\n",
       "      <td>59</td>\n",
       "      <td>1</td>\n",
       "      <td>0</td>\n",
       "      <td>7</td>\n",
       "      <td>0</td>\n",
       "      <td>13819</td>\n",
       "      <td>12</td>\n",
       "      <td>0</td>\n",
       "      <td>39</td>\n",
       "      <td>0</td>\n",
       "      <td>40</td>\n",
       "      <td>9189</td>\n",
       "      <td>60214</td>\n",
       "    </tr>\n",
       "    <tr>\n",
       "      <th>4</th>\n",
       "      <td>14354669</td>\n",
       "      <td>16890</td>\n",
       "      <td>13226</td>\n",
       "      <td>59</td>\n",
       "      <td>1</td>\n",
       "      <td>3</td>\n",
       "      <td>13</td>\n",
       "      <td>1</td>\n",
       "      <td>1544</td>\n",
       "      <td>22</td>\n",
       "      <td>0</td>\n",
       "      <td>18</td>\n",
       "      <td>0</td>\n",
       "      <td>430</td>\n",
       "      <td>126029</td>\n",
       "      <td>22579</td>\n",
       "    </tr>\n",
       "    <tr>\n",
       "      <th>...</th>\n",
       "      <td>...</td>\n",
       "      <td>...</td>\n",
       "      <td>...</td>\n",
       "      <td>...</td>\n",
       "      <td>...</td>\n",
       "      <td>...</td>\n",
       "      <td>...</td>\n",
       "      <td>...</td>\n",
       "      <td>...</td>\n",
       "      <td>...</td>\n",
       "      <td>...</td>\n",
       "      <td>...</td>\n",
       "      <td>...</td>\n",
       "      <td>...</td>\n",
       "      <td>...</td>\n",
       "      <td>...</td>\n",
       "    </tr>\n",
       "    <tr>\n",
       "      <th>67458</th>\n",
       "      <td>16164945</td>\n",
       "      <td>13601</td>\n",
       "      <td>6848</td>\n",
       "      <td>59</td>\n",
       "      <td>1</td>\n",
       "      <td>0</td>\n",
       "      <td>13</td>\n",
       "      <td>0</td>\n",
       "      <td>4112</td>\n",
       "      <td>19</td>\n",
       "      <td>0</td>\n",
       "      <td>69</td>\n",
       "      <td>0</td>\n",
       "      <td>48</td>\n",
       "      <td>181775</td>\n",
       "      <td>34301</td>\n",
       "    </tr>\n",
       "    <tr>\n",
       "      <th>67459</th>\n",
       "      <td>35182714</td>\n",
       "      <td>8323</td>\n",
       "      <td>11046</td>\n",
       "      <td>59</td>\n",
       "      <td>0</td>\n",
       "      <td>0</td>\n",
       "      <td>12</td>\n",
       "      <td>0</td>\n",
       "      <td>9737</td>\n",
       "      <td>14</td>\n",
       "      <td>0</td>\n",
       "      <td>14</td>\n",
       "      <td>0</td>\n",
       "      <td>37</td>\n",
       "      <td>22692</td>\n",
       "      <td>8714</td>\n",
       "    </tr>\n",
       "    <tr>\n",
       "      <th>67460</th>\n",
       "      <td>16435904</td>\n",
       "      <td>15897</td>\n",
       "      <td>32921</td>\n",
       "      <td>59</td>\n",
       "      <td>0</td>\n",
       "      <td>0</td>\n",
       "      <td>7</td>\n",
       "      <td>1</td>\n",
       "      <td>2195</td>\n",
       "      <td>9</td>\n",
       "      <td>0</td>\n",
       "      <td>137</td>\n",
       "      <td>0</td>\n",
       "      <td>17</td>\n",
       "      <td>176857</td>\n",
       "      <td>42330</td>\n",
       "    </tr>\n",
       "    <tr>\n",
       "      <th>67461</th>\n",
       "      <td>5300325</td>\n",
       "      <td>16567</td>\n",
       "      <td>4975</td>\n",
       "      <td>59</td>\n",
       "      <td>0</td>\n",
       "      <td>0</td>\n",
       "      <td>14</td>\n",
       "      <td>0</td>\n",
       "      <td>1172</td>\n",
       "      <td>15</td>\n",
       "      <td>0</td>\n",
       "      <td>73</td>\n",
       "      <td>0</td>\n",
       "      <td>61</td>\n",
       "      <td>361339</td>\n",
       "      <td>39075</td>\n",
       "    </tr>\n",
       "    <tr>\n",
       "      <th>67462</th>\n",
       "      <td>65443173</td>\n",
       "      <td>15353</td>\n",
       "      <td>29875</td>\n",
       "      <td>59</td>\n",
       "      <td>0</td>\n",
       "      <td>0</td>\n",
       "      <td>30</td>\n",
       "      <td>0</td>\n",
       "      <td>8762</td>\n",
       "      <td>16</td>\n",
       "      <td>0</td>\n",
       "      <td>54</td>\n",
       "      <td>0</td>\n",
       "      <td>47</td>\n",
       "      <td>196960</td>\n",
       "      <td>66060</td>\n",
       "    </tr>\n",
       "  </tbody>\n",
       "</table>\n",
       "<p>67463 rows × 16 columns</p>\n",
       "</div>"
      ],
      "text/plain": [
       "             ID  Loan Amount  Funded Amount  Term  Delinquency - two years  \\\n",
       "0      65087372        10000          32236    59                        1   \n",
       "1       1450153         3609          11940    59                        0   \n",
       "2       1969101        28276           9311    59                        0   \n",
       "3       6651430        11170           6954    59                        1   \n",
       "4      14354669        16890          13226    59                        1   \n",
       "...         ...          ...            ...   ...                      ...   \n",
       "67458  16164945        13601           6848    59                        1   \n",
       "67459  35182714         8323          11046    59                        0   \n",
       "67460  16435904        15897          32921    59                        0   \n",
       "67461   5300325        16567           4975    59                        0   \n",
       "67462  65443173        15353          29875    59                        0   \n",
       "\n",
       "       Inquires - six months  Open Account  Public Record  Revolving Balance  \\\n",
       "0                          0            13              0              24246   \n",
       "1                          0            12              0                812   \n",
       "2                          0            14              0               1843   \n",
       "3                          0             7              0              13819   \n",
       "4                          3            13              1               1544   \n",
       "...                      ...           ...            ...                ...   \n",
       "67458                      0            13              0               4112   \n",
       "67459                      0            12              0               9737   \n",
       "67460                      0             7              1               2195   \n",
       "67461                      0            14              0               1172   \n",
       "67462                      0            30              0               8762   \n",
       "\n",
       "       Total Accounts  Collection 12 months Medical  Last week Pay  \\\n",
       "0                   7                             0             49   \n",
       "1                  13                             0            109   \n",
       "2                  20                             0             66   \n",
       "3                  12                             0             39   \n",
       "4                  22                             0             18   \n",
       "...               ...                           ...            ...   \n",
       "67458              19                             0             69   \n",
       "67459              14                             0             14   \n",
       "67460               9                             0            137   \n",
       "67461              15                             0             73   \n",
       "67462              16                             0             54   \n",
       "\n",
       "       Accounts Delinquent  Total Collection Amount  Total Current Balance  \\\n",
       "0                        0                       31                 311301   \n",
       "1                        0                       53                 182610   \n",
       "2                        0                       34                  89801   \n",
       "3                        0                       40                   9189   \n",
       "4                        0                      430                 126029   \n",
       "...                    ...                      ...                    ...   \n",
       "67458                    0                       48                 181775   \n",
       "67459                    0                       37                  22692   \n",
       "67460                    0                       17                 176857   \n",
       "67461                    0                       61                 361339   \n",
       "67462                    0                       47                 196960   \n",
       "\n",
       "       Total Revolving Credit Limit  \n",
       "0                              6619  \n",
       "1                             20885  \n",
       "2                             26155  \n",
       "3                             60214  \n",
       "4                             22579  \n",
       "...                             ...  \n",
       "67458                         34301  \n",
       "67459                          8714  \n",
       "67460                         42330  \n",
       "67461                         39075  \n",
       "67462                         66060  \n",
       "\n",
       "[67463 rows x 16 columns]"
      ]
     },
     "execution_count": 38,
     "metadata": {},
     "output_type": "execute_result"
    }
   ],
   "source": [
    "X.loc[:,X.dtypes == 'int']"
   ]
  },
  {
   "cell_type": "code",
   "execution_count": null,
   "id": "682ed747",
   "metadata": {},
   "outputs": [],
   "source": [
    "X = pd.get_dummies(df2.loc[:,['Loan Amount','Grade','Employment Duration','Verification Status']],dtype=int,drop_first=True)\n",
    "y = df2['Loan Status']"
   ]
  },
  {
   "cell_type": "code",
   "execution_count": null,
   "id": "97cb4541",
   "metadata": {},
   "outputs": [],
   "source": [
    "X_train, X_test, y_train, y_test = train_test_split(X,y,test_size=0.33, random_state=1211)"
   ]
  },
  {
   "cell_type": "markdown",
   "id": "fb179fbd",
   "metadata": {},
   "source": [
    "For this dataset we can build an algorithm to predict the Loan Status given several factors. The algorithms we will use for this are:\n",
    "\n",
    "1. Logistic Regression\n",
    "2. K-Nearest Neighbors\n",
    "\n",
    "Additionally, we will see if there are groupings amongst users based on certain characteristics. For this we will use K-Means clustering"
   ]
  },
  {
   "cell_type": "markdown",
   "id": "d897df41",
   "metadata": {},
   "source": [
    "##### Classification\n",
    "For the classification model, I decided to use a Logistic Regression and KNN algorithm. "
   ]
  },
  {
   "cell_type": "markdown",
   "id": "52a7e3f5",
   "metadata": {},
   "source": [
    "1. Logistic Regression"
   ]
  },
  {
   "cell_type": "code",
   "execution_count": null,
   "id": "438dc1f2",
   "metadata": {},
   "outputs": [
    {
     "data": {
      "text/html": [
       "<style>#sk-container-id-3 {color: black;background-color: white;}#sk-container-id-3 pre{padding: 0;}#sk-container-id-3 div.sk-toggleable {background-color: white;}#sk-container-id-3 label.sk-toggleable__label {cursor: pointer;display: block;width: 100%;margin-bottom: 0;padding: 0.3em;box-sizing: border-box;text-align: center;}#sk-container-id-3 label.sk-toggleable__label-arrow:before {content: \"▸\";float: left;margin-right: 0.25em;color: #696969;}#sk-container-id-3 label.sk-toggleable__label-arrow:hover:before {color: black;}#sk-container-id-3 div.sk-estimator:hover label.sk-toggleable__label-arrow:before {color: black;}#sk-container-id-3 div.sk-toggleable__content {max-height: 0;max-width: 0;overflow: hidden;text-align: left;background-color: #f0f8ff;}#sk-container-id-3 div.sk-toggleable__content pre {margin: 0.2em;color: black;border-radius: 0.25em;background-color: #f0f8ff;}#sk-container-id-3 input.sk-toggleable__control:checked~div.sk-toggleable__content {max-height: 200px;max-width: 100%;overflow: auto;}#sk-container-id-3 input.sk-toggleable__control:checked~label.sk-toggleable__label-arrow:before {content: \"▾\";}#sk-container-id-3 div.sk-estimator input.sk-toggleable__control:checked~label.sk-toggleable__label {background-color: #d4ebff;}#sk-container-id-3 div.sk-label input.sk-toggleable__control:checked~label.sk-toggleable__label {background-color: #d4ebff;}#sk-container-id-3 input.sk-hidden--visually {border: 0;clip: rect(1px 1px 1px 1px);clip: rect(1px, 1px, 1px, 1px);height: 1px;margin: -1px;overflow: hidden;padding: 0;position: absolute;width: 1px;}#sk-container-id-3 div.sk-estimator {font-family: monospace;background-color: #f0f8ff;border: 1px dotted black;border-radius: 0.25em;box-sizing: border-box;margin-bottom: 0.5em;}#sk-container-id-3 div.sk-estimator:hover {background-color: #d4ebff;}#sk-container-id-3 div.sk-parallel-item::after {content: \"\";width: 100%;border-bottom: 1px solid gray;flex-grow: 1;}#sk-container-id-3 div.sk-label:hover label.sk-toggleable__label {background-color: #d4ebff;}#sk-container-id-3 div.sk-serial::before {content: \"\";position: absolute;border-left: 1px solid gray;box-sizing: border-box;top: 0;bottom: 0;left: 50%;z-index: 0;}#sk-container-id-3 div.sk-serial {display: flex;flex-direction: column;align-items: center;background-color: white;padding-right: 0.2em;padding-left: 0.2em;position: relative;}#sk-container-id-3 div.sk-item {position: relative;z-index: 1;}#sk-container-id-3 div.sk-parallel {display: flex;align-items: stretch;justify-content: center;background-color: white;position: relative;}#sk-container-id-3 div.sk-item::before, #sk-container-id-3 div.sk-parallel-item::before {content: \"\";position: absolute;border-left: 1px solid gray;box-sizing: border-box;top: 0;bottom: 0;left: 50%;z-index: -1;}#sk-container-id-3 div.sk-parallel-item {display: flex;flex-direction: column;z-index: 1;position: relative;background-color: white;}#sk-container-id-3 div.sk-parallel-item:first-child::after {align-self: flex-end;width: 50%;}#sk-container-id-3 div.sk-parallel-item:last-child::after {align-self: flex-start;width: 50%;}#sk-container-id-3 div.sk-parallel-item:only-child::after {width: 0;}#sk-container-id-3 div.sk-dashed-wrapped {border: 1px dashed gray;margin: 0 0.4em 0.5em 0.4em;box-sizing: border-box;padding-bottom: 0.4em;background-color: white;}#sk-container-id-3 div.sk-label label {font-family: monospace;font-weight: bold;display: inline-block;line-height: 1.2em;}#sk-container-id-3 div.sk-label-container {text-align: center;}#sk-container-id-3 div.sk-container {/* jupyter's `normalize.less` sets `[hidden] { display: none; }` but bootstrap.min.css set `[hidden] { display: none !important; }` so we also need the `!important` here to be able to override the default hidden behavior on the sphinx rendered scikit-learn.org. See: https://github.com/scikit-learn/scikit-learn/issues/21755 */display: inline-block !important;position: relative;}#sk-container-id-3 div.sk-text-repr-fallback {display: none;}</style><div id=\"sk-container-id-3\" class=\"sk-top-container\"><div class=\"sk-text-repr-fallback\"><pre>LogisticRegression()</pre><b>In a Jupyter environment, please rerun this cell to show the HTML representation or trust the notebook. <br />On GitHub, the HTML representation is unable to render, please try loading this page with nbviewer.org.</b></div><div class=\"sk-container\" hidden><div class=\"sk-item\"><div class=\"sk-estimator sk-toggleable\"><input class=\"sk-toggleable__control sk-hidden--visually\" id=\"sk-estimator-id-3\" type=\"checkbox\" checked><label for=\"sk-estimator-id-3\" class=\"sk-toggleable__label sk-toggleable__label-arrow\">LogisticRegression</label><div class=\"sk-toggleable__content\"><pre>LogisticRegression()</pre></div></div></div></div></div>"
      ],
      "text/plain": [
       "LogisticRegression()"
      ]
     },
     "execution_count": 49,
     "metadata": {},
     "output_type": "execute_result"
    }
   ],
   "source": [
    "clf = LogisticRegression()\n",
    "clf.fit(X_train, y_train)"
   ]
  },
  {
   "cell_type": "code",
   "execution_count": null,
   "id": "27d66b73",
   "metadata": {},
   "outputs": [
    {
     "data": {
      "text/plain": [
       "0.909041908098639"
      ]
     },
     "execution_count": 50,
     "metadata": {},
     "output_type": "execute_result"
    }
   ],
   "source": [
    "clf.score(X_test,y_test)"
   ]
  },
  {
   "cell_type": "markdown",
   "id": "fa0c0ab3",
   "metadata": {},
   "source": [
    "2. K-Nearest Neighbors"
   ]
  },
  {
   "cell_type": "code",
   "execution_count": null,
   "id": "e23c70e4",
   "metadata": {},
   "outputs": [],
   "source": [
    "clf = KNeighborsClassifier(n_neighbors=5)"
   ]
  },
  {
   "cell_type": "code",
   "execution_count": null,
   "id": "7631d881",
   "metadata": {},
   "outputs": [
    {
     "data": {
      "text/html": [
       "<style>#sk-container-id-4 {color: black;background-color: white;}#sk-container-id-4 pre{padding: 0;}#sk-container-id-4 div.sk-toggleable {background-color: white;}#sk-container-id-4 label.sk-toggleable__label {cursor: pointer;display: block;width: 100%;margin-bottom: 0;padding: 0.3em;box-sizing: border-box;text-align: center;}#sk-container-id-4 label.sk-toggleable__label-arrow:before {content: \"▸\";float: left;margin-right: 0.25em;color: #696969;}#sk-container-id-4 label.sk-toggleable__label-arrow:hover:before {color: black;}#sk-container-id-4 div.sk-estimator:hover label.sk-toggleable__label-arrow:before {color: black;}#sk-container-id-4 div.sk-toggleable__content {max-height: 0;max-width: 0;overflow: hidden;text-align: left;background-color: #f0f8ff;}#sk-container-id-4 div.sk-toggleable__content pre {margin: 0.2em;color: black;border-radius: 0.25em;background-color: #f0f8ff;}#sk-container-id-4 input.sk-toggleable__control:checked~div.sk-toggleable__content {max-height: 200px;max-width: 100%;overflow: auto;}#sk-container-id-4 input.sk-toggleable__control:checked~label.sk-toggleable__label-arrow:before {content: \"▾\";}#sk-container-id-4 div.sk-estimator input.sk-toggleable__control:checked~label.sk-toggleable__label {background-color: #d4ebff;}#sk-container-id-4 div.sk-label input.sk-toggleable__control:checked~label.sk-toggleable__label {background-color: #d4ebff;}#sk-container-id-4 input.sk-hidden--visually {border: 0;clip: rect(1px 1px 1px 1px);clip: rect(1px, 1px, 1px, 1px);height: 1px;margin: -1px;overflow: hidden;padding: 0;position: absolute;width: 1px;}#sk-container-id-4 div.sk-estimator {font-family: monospace;background-color: #f0f8ff;border: 1px dotted black;border-radius: 0.25em;box-sizing: border-box;margin-bottom: 0.5em;}#sk-container-id-4 div.sk-estimator:hover {background-color: #d4ebff;}#sk-container-id-4 div.sk-parallel-item::after {content: \"\";width: 100%;border-bottom: 1px solid gray;flex-grow: 1;}#sk-container-id-4 div.sk-label:hover label.sk-toggleable__label {background-color: #d4ebff;}#sk-container-id-4 div.sk-serial::before {content: \"\";position: absolute;border-left: 1px solid gray;box-sizing: border-box;top: 0;bottom: 0;left: 50%;z-index: 0;}#sk-container-id-4 div.sk-serial {display: flex;flex-direction: column;align-items: center;background-color: white;padding-right: 0.2em;padding-left: 0.2em;position: relative;}#sk-container-id-4 div.sk-item {position: relative;z-index: 1;}#sk-container-id-4 div.sk-parallel {display: flex;align-items: stretch;justify-content: center;background-color: white;position: relative;}#sk-container-id-4 div.sk-item::before, #sk-container-id-4 div.sk-parallel-item::before {content: \"\";position: absolute;border-left: 1px solid gray;box-sizing: border-box;top: 0;bottom: 0;left: 50%;z-index: -1;}#sk-container-id-4 div.sk-parallel-item {display: flex;flex-direction: column;z-index: 1;position: relative;background-color: white;}#sk-container-id-4 div.sk-parallel-item:first-child::after {align-self: flex-end;width: 50%;}#sk-container-id-4 div.sk-parallel-item:last-child::after {align-self: flex-start;width: 50%;}#sk-container-id-4 div.sk-parallel-item:only-child::after {width: 0;}#sk-container-id-4 div.sk-dashed-wrapped {border: 1px dashed gray;margin: 0 0.4em 0.5em 0.4em;box-sizing: border-box;padding-bottom: 0.4em;background-color: white;}#sk-container-id-4 div.sk-label label {font-family: monospace;font-weight: bold;display: inline-block;line-height: 1.2em;}#sk-container-id-4 div.sk-label-container {text-align: center;}#sk-container-id-4 div.sk-container {/* jupyter's `normalize.less` sets `[hidden] { display: none; }` but bootstrap.min.css set `[hidden] { display: none !important; }` so we also need the `!important` here to be able to override the default hidden behavior on the sphinx rendered scikit-learn.org. See: https://github.com/scikit-learn/scikit-learn/issues/21755 */display: inline-block !important;position: relative;}#sk-container-id-4 div.sk-text-repr-fallback {display: none;}</style><div id=\"sk-container-id-4\" class=\"sk-top-container\"><div class=\"sk-text-repr-fallback\"><pre>KNeighborsClassifier()</pre><b>In a Jupyter environment, please rerun this cell to show the HTML representation or trust the notebook. <br />On GitHub, the HTML representation is unable to render, please try loading this page with nbviewer.org.</b></div><div class=\"sk-container\" hidden><div class=\"sk-item\"><div class=\"sk-estimator sk-toggleable\"><input class=\"sk-toggleable__control sk-hidden--visually\" id=\"sk-estimator-id-4\" type=\"checkbox\" checked><label for=\"sk-estimator-id-4\" class=\"sk-toggleable__label sk-toggleable__label-arrow\">KNeighborsClassifier</label><div class=\"sk-toggleable__content\"><pre>KNeighborsClassifier()</pre></div></div></div></div></div>"
      ],
      "text/plain": [
       "KNeighborsClassifier()"
      ]
     },
     "execution_count": 52,
     "metadata": {},
     "output_type": "execute_result"
    }
   ],
   "source": [
    "clf.fit(X_train, y_train)"
   ]
  },
  {
   "cell_type": "code",
   "execution_count": null,
   "id": "3488c4f6",
   "metadata": {},
   "outputs": [
    {
     "data": {
      "text/plain": [
       "0.9031127880339577"
      ]
     },
     "execution_count": 53,
     "metadata": {},
     "output_type": "execute_result"
    }
   ],
   "source": [
    "clf.score(X_test, y_test)"
   ]
  },
  {
   "cell_type": "markdown",
   "id": "77e138d5",
   "metadata": {},
   "source": [
    "#### Clustering\n",
    "For the clustering, I decided to use the K-means clustering algorithm"
   ]
  },
  {
   "cell_type": "markdown",
   "id": "5c9488d3",
   "metadata": {},
   "source": [
    "1. K-Means Clustering\n",
    "\n",
    "The idea is that we can use clustering to determine if there are any natural groupings that can be observed based on the data. And if so, we can see if there are any discernible differences in the clusters in terms of how they relate to the underlying data. This can be used to gain insights on the specific groups and their properties"
   ]
  },
  {
   "cell_type": "code",
   "execution_count": null,
   "id": "9c43634b",
   "metadata": {},
   "outputs": [],
   "source": [
    "clf = KMeans(n_clusters=8, n_init='auto')"
   ]
  },
  {
   "cell_type": "code",
   "execution_count": null,
   "id": "d0edea7b",
   "metadata": {},
   "outputs": [
    {
     "data": {
      "text/html": [
       "<style>#sk-container-id-8 {color: black;background-color: white;}#sk-container-id-8 pre{padding: 0;}#sk-container-id-8 div.sk-toggleable {background-color: white;}#sk-container-id-8 label.sk-toggleable__label {cursor: pointer;display: block;width: 100%;margin-bottom: 0;padding: 0.3em;box-sizing: border-box;text-align: center;}#sk-container-id-8 label.sk-toggleable__label-arrow:before {content: \"▸\";float: left;margin-right: 0.25em;color: #696969;}#sk-container-id-8 label.sk-toggleable__label-arrow:hover:before {color: black;}#sk-container-id-8 div.sk-estimator:hover label.sk-toggleable__label-arrow:before {color: black;}#sk-container-id-8 div.sk-toggleable__content {max-height: 0;max-width: 0;overflow: hidden;text-align: left;background-color: #f0f8ff;}#sk-container-id-8 div.sk-toggleable__content pre {margin: 0.2em;color: black;border-radius: 0.25em;background-color: #f0f8ff;}#sk-container-id-8 input.sk-toggleable__control:checked~div.sk-toggleable__content {max-height: 200px;max-width: 100%;overflow: auto;}#sk-container-id-8 input.sk-toggleable__control:checked~label.sk-toggleable__label-arrow:before {content: \"▾\";}#sk-container-id-8 div.sk-estimator input.sk-toggleable__control:checked~label.sk-toggleable__label {background-color: #d4ebff;}#sk-container-id-8 div.sk-label input.sk-toggleable__control:checked~label.sk-toggleable__label {background-color: #d4ebff;}#sk-container-id-8 input.sk-hidden--visually {border: 0;clip: rect(1px 1px 1px 1px);clip: rect(1px, 1px, 1px, 1px);height: 1px;margin: -1px;overflow: hidden;padding: 0;position: absolute;width: 1px;}#sk-container-id-8 div.sk-estimator {font-family: monospace;background-color: #f0f8ff;border: 1px dotted black;border-radius: 0.25em;box-sizing: border-box;margin-bottom: 0.5em;}#sk-container-id-8 div.sk-estimator:hover {background-color: #d4ebff;}#sk-container-id-8 div.sk-parallel-item::after {content: \"\";width: 100%;border-bottom: 1px solid gray;flex-grow: 1;}#sk-container-id-8 div.sk-label:hover label.sk-toggleable__label {background-color: #d4ebff;}#sk-container-id-8 div.sk-serial::before {content: \"\";position: absolute;border-left: 1px solid gray;box-sizing: border-box;top: 0;bottom: 0;left: 50%;z-index: 0;}#sk-container-id-8 div.sk-serial {display: flex;flex-direction: column;align-items: center;background-color: white;padding-right: 0.2em;padding-left: 0.2em;position: relative;}#sk-container-id-8 div.sk-item {position: relative;z-index: 1;}#sk-container-id-8 div.sk-parallel {display: flex;align-items: stretch;justify-content: center;background-color: white;position: relative;}#sk-container-id-8 div.sk-item::before, #sk-container-id-8 div.sk-parallel-item::before {content: \"\";position: absolute;border-left: 1px solid gray;box-sizing: border-box;top: 0;bottom: 0;left: 50%;z-index: -1;}#sk-container-id-8 div.sk-parallel-item {display: flex;flex-direction: column;z-index: 1;position: relative;background-color: white;}#sk-container-id-8 div.sk-parallel-item:first-child::after {align-self: flex-end;width: 50%;}#sk-container-id-8 div.sk-parallel-item:last-child::after {align-self: flex-start;width: 50%;}#sk-container-id-8 div.sk-parallel-item:only-child::after {width: 0;}#sk-container-id-8 div.sk-dashed-wrapped {border: 1px dashed gray;margin: 0 0.4em 0.5em 0.4em;box-sizing: border-box;padding-bottom: 0.4em;background-color: white;}#sk-container-id-8 div.sk-label label {font-family: monospace;font-weight: bold;display: inline-block;line-height: 1.2em;}#sk-container-id-8 div.sk-label-container {text-align: center;}#sk-container-id-8 div.sk-container {/* jupyter's `normalize.less` sets `[hidden] { display: none; }` but bootstrap.min.css set `[hidden] { display: none !important; }` so we also need the `!important` here to be able to override the default hidden behavior on the sphinx rendered scikit-learn.org. See: https://github.com/scikit-learn/scikit-learn/issues/21755 */display: inline-block !important;position: relative;}#sk-container-id-8 div.sk-text-repr-fallback {display: none;}</style><div id=\"sk-container-id-8\" class=\"sk-top-container\"><div class=\"sk-text-repr-fallback\"><pre>KMeans(n_init=&#x27;auto&#x27;)</pre><b>In a Jupyter environment, please rerun this cell to show the HTML representation or trust the notebook. <br />On GitHub, the HTML representation is unable to render, please try loading this page with nbviewer.org.</b></div><div class=\"sk-container\" hidden><div class=\"sk-item\"><div class=\"sk-estimator sk-toggleable\"><input class=\"sk-toggleable__control sk-hidden--visually\" id=\"sk-estimator-id-8\" type=\"checkbox\" checked><label for=\"sk-estimator-id-8\" class=\"sk-toggleable__label sk-toggleable__label-arrow\">KMeans</label><div class=\"sk-toggleable__content\"><pre>KMeans(n_init=&#x27;auto&#x27;)</pre></div></div></div></div></div>"
      ],
      "text/plain": [
       "KMeans(n_init='auto')"
      ]
     },
     "execution_count": 65,
     "metadata": {},
     "output_type": "execute_result"
    }
   ],
   "source": [
    "clf.fit(X)"
   ]
  },
  {
   "cell_type": "code",
   "execution_count": null,
   "id": "182e4090",
   "metadata": {},
   "outputs": [],
   "source": [
    "clf_labels = clf.labels_"
   ]
  },
  {
   "cell_type": "code",
   "execution_count": null,
   "id": "328b83cd",
   "metadata": {},
   "outputs": [],
   "source": [
    "df2['cluster'] = clf_labels"
   ]
  },
  {
   "cell_type": "code",
   "execution_count": null,
   "id": "de6067d4",
   "metadata": {},
   "outputs": [
    {
     "data": {
      "text/html": [
       "<div>\n",
       "<style scoped>\n",
       "    .dataframe tbody tr th:only-of-type {\n",
       "        vertical-align: middle;\n",
       "    }\n",
       "\n",
       "    .dataframe tbody tr th {\n",
       "        vertical-align: top;\n",
       "    }\n",
       "\n",
       "    .dataframe thead th {\n",
       "        text-align: right;\n",
       "    }\n",
       "</style>\n",
       "<table border=\"1\" class=\"dataframe\">\n",
       "  <thead>\n",
       "    <tr style=\"text-align: right;\">\n",
       "      <th></th>\n",
       "      <th>ID</th>\n",
       "      <th>Loan Amount</th>\n",
       "      <th>Funded Amount</th>\n",
       "      <th>Funded Amount Investor</th>\n",
       "      <th>Term</th>\n",
       "      <th>Batch Enrolled</th>\n",
       "      <th>Interest Rate</th>\n",
       "      <th>Grade</th>\n",
       "      <th>Sub Grade</th>\n",
       "      <th>Employment Duration</th>\n",
       "      <th>Home Ownership</th>\n",
       "      <th>Verification Status</th>\n",
       "      <th>Payment Plan</th>\n",
       "      <th>Loan Title</th>\n",
       "      <th>Debit to Income</th>\n",
       "      <th>Delinquency - two years</th>\n",
       "      <th>Inquires - six months</th>\n",
       "      <th>Open Account</th>\n",
       "      <th>Public Record</th>\n",
       "      <th>Revolving Balance</th>\n",
       "      <th>Revolving Utilities</th>\n",
       "      <th>Total Accounts</th>\n",
       "      <th>Initial List Status</th>\n",
       "      <th>Total Received Interest</th>\n",
       "      <th>Total Received Late Fee</th>\n",
       "      <th>Recoveries</th>\n",
       "      <th>Collection Recovery Fee</th>\n",
       "      <th>Collection 12 months Medical</th>\n",
       "      <th>Application Type</th>\n",
       "      <th>Last week Pay</th>\n",
       "      <th>Accounts Delinquent</th>\n",
       "      <th>Total Collection Amount</th>\n",
       "      <th>Total Current Balance</th>\n",
       "      <th>Total Revolving Credit Limit</th>\n",
       "      <th>Loan Status</th>\n",
       "      <th>cluster</th>\n",
       "    </tr>\n",
       "  </thead>\n",
       "  <tbody>\n",
       "    <tr>\n",
       "      <th>0</th>\n",
       "      <td>65087372</td>\n",
       "      <td>10000</td>\n",
       "      <td>32236</td>\n",
       "      <td>12329.36286</td>\n",
       "      <td>59</td>\n",
       "      <td>BAT2522922</td>\n",
       "      <td>11.135007</td>\n",
       "      <td>B</td>\n",
       "      <td>C4</td>\n",
       "      <td>MORTGAGE</td>\n",
       "      <td>176346.62670</td>\n",
       "      <td>Not Verified</td>\n",
       "      <td>n</td>\n",
       "      <td>Debt Consolidation</td>\n",
       "      <td>16.284758</td>\n",
       "      <td>1</td>\n",
       "      <td>0</td>\n",
       "      <td>13</td>\n",
       "      <td>0</td>\n",
       "      <td>24246</td>\n",
       "      <td>74.932551</td>\n",
       "      <td>7</td>\n",
       "      <td>w</td>\n",
       "      <td>2929.646315</td>\n",
       "      <td>0.102055</td>\n",
       "      <td>2.498291</td>\n",
       "      <td>0.793724</td>\n",
       "      <td>0</td>\n",
       "      <td>INDIVIDUAL</td>\n",
       "      <td>49</td>\n",
       "      <td>0</td>\n",
       "      <td>31</td>\n",
       "      <td>311301</td>\n",
       "      <td>6619</td>\n",
       "      <td>0</td>\n",
       "      <td>6</td>\n",
       "    </tr>\n",
       "    <tr>\n",
       "      <th>1</th>\n",
       "      <td>1450153</td>\n",
       "      <td>3609</td>\n",
       "      <td>11940</td>\n",
       "      <td>12191.99692</td>\n",
       "      <td>59</td>\n",
       "      <td>BAT1586599</td>\n",
       "      <td>12.237563</td>\n",
       "      <td>C</td>\n",
       "      <td>D3</td>\n",
       "      <td>RENT</td>\n",
       "      <td>39833.92100</td>\n",
       "      <td>Source Verified</td>\n",
       "      <td>n</td>\n",
       "      <td>Debt consolidation</td>\n",
       "      <td>15.412409</td>\n",
       "      <td>0</td>\n",
       "      <td>0</td>\n",
       "      <td>12</td>\n",
       "      <td>0</td>\n",
       "      <td>812</td>\n",
       "      <td>78.297186</td>\n",
       "      <td>13</td>\n",
       "      <td>f</td>\n",
       "      <td>772.769385</td>\n",
       "      <td>0.036181</td>\n",
       "      <td>2.377215</td>\n",
       "      <td>0.974821</td>\n",
       "      <td>0</td>\n",
       "      <td>INDIVIDUAL</td>\n",
       "      <td>109</td>\n",
       "      <td>0</td>\n",
       "      <td>53</td>\n",
       "      <td>182610</td>\n",
       "      <td>20885</td>\n",
       "      <td>0</td>\n",
       "      <td>1</td>\n",
       "    </tr>\n",
       "    <tr>\n",
       "      <th>2</th>\n",
       "      <td>1969101</td>\n",
       "      <td>28276</td>\n",
       "      <td>9311</td>\n",
       "      <td>21603.22455</td>\n",
       "      <td>59</td>\n",
       "      <td>BAT2136391</td>\n",
       "      <td>12.545884</td>\n",
       "      <td>F</td>\n",
       "      <td>D4</td>\n",
       "      <td>MORTGAGE</td>\n",
       "      <td>91506.69105</td>\n",
       "      <td>Source Verified</td>\n",
       "      <td>n</td>\n",
       "      <td>Debt Consolidation</td>\n",
       "      <td>28.137619</td>\n",
       "      <td>0</td>\n",
       "      <td>0</td>\n",
       "      <td>14</td>\n",
       "      <td>0</td>\n",
       "      <td>1843</td>\n",
       "      <td>2.073040</td>\n",
       "      <td>20</td>\n",
       "      <td>w</td>\n",
       "      <td>863.324396</td>\n",
       "      <td>18.778660</td>\n",
       "      <td>4.316277</td>\n",
       "      <td>1.020075</td>\n",
       "      <td>0</td>\n",
       "      <td>INDIVIDUAL</td>\n",
       "      <td>66</td>\n",
       "      <td>0</td>\n",
       "      <td>34</td>\n",
       "      <td>89801</td>\n",
       "      <td>26155</td>\n",
       "      <td>0</td>\n",
       "      <td>7</td>\n",
       "    </tr>\n",
       "    <tr>\n",
       "      <th>3</th>\n",
       "      <td>6651430</td>\n",
       "      <td>11170</td>\n",
       "      <td>6954</td>\n",
       "      <td>17877.15585</td>\n",
       "      <td>59</td>\n",
       "      <td>BAT2428731</td>\n",
       "      <td>16.731201</td>\n",
       "      <td>C</td>\n",
       "      <td>C3</td>\n",
       "      <td>MORTGAGE</td>\n",
       "      <td>108286.57590</td>\n",
       "      <td>Source Verified</td>\n",
       "      <td>n</td>\n",
       "      <td>Debt consolidation</td>\n",
       "      <td>18.043730</td>\n",
       "      <td>1</td>\n",
       "      <td>0</td>\n",
       "      <td>7</td>\n",
       "      <td>0</td>\n",
       "      <td>13819</td>\n",
       "      <td>67.467951</td>\n",
       "      <td>12</td>\n",
       "      <td>w</td>\n",
       "      <td>288.173196</td>\n",
       "      <td>0.044131</td>\n",
       "      <td>0.107020</td>\n",
       "      <td>0.749971</td>\n",
       "      <td>0</td>\n",
       "      <td>INDIVIDUAL</td>\n",
       "      <td>39</td>\n",
       "      <td>0</td>\n",
       "      <td>40</td>\n",
       "      <td>9189</td>\n",
       "      <td>60214</td>\n",
       "      <td>0</td>\n",
       "      <td>6</td>\n",
       "    </tr>\n",
       "    <tr>\n",
       "      <th>4</th>\n",
       "      <td>14354669</td>\n",
       "      <td>16890</td>\n",
       "      <td>13226</td>\n",
       "      <td>13539.92667</td>\n",
       "      <td>59</td>\n",
       "      <td>BAT5341619</td>\n",
       "      <td>15.008300</td>\n",
       "      <td>C</td>\n",
       "      <td>D4</td>\n",
       "      <td>MORTGAGE</td>\n",
       "      <td>44234.82545</td>\n",
       "      <td>Source Verified</td>\n",
       "      <td>n</td>\n",
       "      <td>Credit card refinancing</td>\n",
       "      <td>17.209886</td>\n",
       "      <td>1</td>\n",
       "      <td>3</td>\n",
       "      <td>13</td>\n",
       "      <td>1</td>\n",
       "      <td>1544</td>\n",
       "      <td>85.250761</td>\n",
       "      <td>22</td>\n",
       "      <td>w</td>\n",
       "      <td>129.239553</td>\n",
       "      <td>19.306646</td>\n",
       "      <td>1294.818751</td>\n",
       "      <td>0.368953</td>\n",
       "      <td>0</td>\n",
       "      <td>INDIVIDUAL</td>\n",
       "      <td>18</td>\n",
       "      <td>0</td>\n",
       "      <td>430</td>\n",
       "      <td>126029</td>\n",
       "      <td>22579</td>\n",
       "      <td>0</td>\n",
       "      <td>0</td>\n",
       "    </tr>\n",
       "    <tr>\n",
       "      <th>...</th>\n",
       "      <td>...</td>\n",
       "      <td>...</td>\n",
       "      <td>...</td>\n",
       "      <td>...</td>\n",
       "      <td>...</td>\n",
       "      <td>...</td>\n",
       "      <td>...</td>\n",
       "      <td>...</td>\n",
       "      <td>...</td>\n",
       "      <td>...</td>\n",
       "      <td>...</td>\n",
       "      <td>...</td>\n",
       "      <td>...</td>\n",
       "      <td>...</td>\n",
       "      <td>...</td>\n",
       "      <td>...</td>\n",
       "      <td>...</td>\n",
       "      <td>...</td>\n",
       "      <td>...</td>\n",
       "      <td>...</td>\n",
       "      <td>...</td>\n",
       "      <td>...</td>\n",
       "      <td>...</td>\n",
       "      <td>...</td>\n",
       "      <td>...</td>\n",
       "      <td>...</td>\n",
       "      <td>...</td>\n",
       "      <td>...</td>\n",
       "      <td>...</td>\n",
       "      <td>...</td>\n",
       "      <td>...</td>\n",
       "      <td>...</td>\n",
       "      <td>...</td>\n",
       "      <td>...</td>\n",
       "      <td>...</td>\n",
       "      <td>...</td>\n",
       "    </tr>\n",
       "    <tr>\n",
       "      <th>67458</th>\n",
       "      <td>16164945</td>\n",
       "      <td>13601</td>\n",
       "      <td>6848</td>\n",
       "      <td>13175.28583</td>\n",
       "      <td>59</td>\n",
       "      <td>BAT3193689</td>\n",
       "      <td>9.408858</td>\n",
       "      <td>C</td>\n",
       "      <td>A4</td>\n",
       "      <td>MORTGAGE</td>\n",
       "      <td>83961.15003</td>\n",
       "      <td>Verified</td>\n",
       "      <td>n</td>\n",
       "      <td>Credit card refinancing</td>\n",
       "      <td>28.105127</td>\n",
       "      <td>1</td>\n",
       "      <td>0</td>\n",
       "      <td>13</td>\n",
       "      <td>0</td>\n",
       "      <td>4112</td>\n",
       "      <td>97.779389</td>\n",
       "      <td>19</td>\n",
       "      <td>w</td>\n",
       "      <td>1978.945960</td>\n",
       "      <td>0.023478</td>\n",
       "      <td>564.614852</td>\n",
       "      <td>0.865230</td>\n",
       "      <td>0</td>\n",
       "      <td>INDIVIDUAL</td>\n",
       "      <td>69</td>\n",
       "      <td>0</td>\n",
       "      <td>48</td>\n",
       "      <td>181775</td>\n",
       "      <td>34301</td>\n",
       "      <td>1</td>\n",
       "      <td>6</td>\n",
       "    </tr>\n",
       "    <tr>\n",
       "      <th>67459</th>\n",
       "      <td>35182714</td>\n",
       "      <td>8323</td>\n",
       "      <td>11046</td>\n",
       "      <td>15637.46301</td>\n",
       "      <td>59</td>\n",
       "      <td>BAT1780517</td>\n",
       "      <td>9.972104</td>\n",
       "      <td>C</td>\n",
       "      <td>B3</td>\n",
       "      <td>RENT</td>\n",
       "      <td>65491.12817</td>\n",
       "      <td>Source Verified</td>\n",
       "      <td>n</td>\n",
       "      <td>Credit card refinancing</td>\n",
       "      <td>17.694279</td>\n",
       "      <td>0</td>\n",
       "      <td>0</td>\n",
       "      <td>12</td>\n",
       "      <td>0</td>\n",
       "      <td>9737</td>\n",
       "      <td>15.690703</td>\n",
       "      <td>14</td>\n",
       "      <td>w</td>\n",
       "      <td>3100.803125</td>\n",
       "      <td>0.027095</td>\n",
       "      <td>2.015494</td>\n",
       "      <td>1.403368</td>\n",
       "      <td>0</td>\n",
       "      <td>INDIVIDUAL</td>\n",
       "      <td>14</td>\n",
       "      <td>0</td>\n",
       "      <td>37</td>\n",
       "      <td>22692</td>\n",
       "      <td>8714</td>\n",
       "      <td>0</td>\n",
       "      <td>3</td>\n",
       "    </tr>\n",
       "    <tr>\n",
       "      <th>67460</th>\n",
       "      <td>16435904</td>\n",
       "      <td>15897</td>\n",
       "      <td>32921</td>\n",
       "      <td>12329.45775</td>\n",
       "      <td>59</td>\n",
       "      <td>BAT1761981</td>\n",
       "      <td>19.650943</td>\n",
       "      <td>A</td>\n",
       "      <td>F3</td>\n",
       "      <td>MORTGAGE</td>\n",
       "      <td>34813.96985</td>\n",
       "      <td>Verified</td>\n",
       "      <td>n</td>\n",
       "      <td>Lending loan</td>\n",
       "      <td>10.295774</td>\n",
       "      <td>0</td>\n",
       "      <td>0</td>\n",
       "      <td>7</td>\n",
       "      <td>1</td>\n",
       "      <td>2195</td>\n",
       "      <td>1.500090</td>\n",
       "      <td>9</td>\n",
       "      <td>w</td>\n",
       "      <td>2691.995532</td>\n",
       "      <td>0.028212</td>\n",
       "      <td>5.673092</td>\n",
       "      <td>1.607093</td>\n",
       "      <td>0</td>\n",
       "      <td>INDIVIDUAL</td>\n",
       "      <td>137</td>\n",
       "      <td>0</td>\n",
       "      <td>17</td>\n",
       "      <td>176857</td>\n",
       "      <td>42330</td>\n",
       "      <td>0</td>\n",
       "      <td>0</td>\n",
       "    </tr>\n",
       "    <tr>\n",
       "      <th>67461</th>\n",
       "      <td>5300325</td>\n",
       "      <td>16567</td>\n",
       "      <td>4975</td>\n",
       "      <td>21353.68465</td>\n",
       "      <td>59</td>\n",
       "      <td>BAT2333412</td>\n",
       "      <td>13.169095</td>\n",
       "      <td>D</td>\n",
       "      <td>E3</td>\n",
       "      <td>OWN</td>\n",
       "      <td>96938.83564</td>\n",
       "      <td>Not Verified</td>\n",
       "      <td>n</td>\n",
       "      <td>Debt consolidation</td>\n",
       "      <td>7.614624</td>\n",
       "      <td>0</td>\n",
       "      <td>0</td>\n",
       "      <td>14</td>\n",
       "      <td>0</td>\n",
       "      <td>1172</td>\n",
       "      <td>68.481882</td>\n",
       "      <td>15</td>\n",
       "      <td>f</td>\n",
       "      <td>3659.334202</td>\n",
       "      <td>0.074508</td>\n",
       "      <td>1.157454</td>\n",
       "      <td>0.207608</td>\n",
       "      <td>0</td>\n",
       "      <td>INDIVIDUAL</td>\n",
       "      <td>73</td>\n",
       "      <td>0</td>\n",
       "      <td>61</td>\n",
       "      <td>361339</td>\n",
       "      <td>39075</td>\n",
       "      <td>0</td>\n",
       "      <td>0</td>\n",
       "    </tr>\n",
       "    <tr>\n",
       "      <th>67462</th>\n",
       "      <td>65443173</td>\n",
       "      <td>15353</td>\n",
       "      <td>29875</td>\n",
       "      <td>14207.44860</td>\n",
       "      <td>59</td>\n",
       "      <td>BAT1930365</td>\n",
       "      <td>16.034631</td>\n",
       "      <td>B</td>\n",
       "      <td>D1</td>\n",
       "      <td>MORTGAGE</td>\n",
       "      <td>105123.15580</td>\n",
       "      <td>Verified</td>\n",
       "      <td>n</td>\n",
       "      <td>Debt consolidation</td>\n",
       "      <td>16.052112</td>\n",
       "      <td>0</td>\n",
       "      <td>0</td>\n",
       "      <td>30</td>\n",
       "      <td>0</td>\n",
       "      <td>8762</td>\n",
       "      <td>81.692328</td>\n",
       "      <td>16</td>\n",
       "      <td>f</td>\n",
       "      <td>1324.255922</td>\n",
       "      <td>0.000671</td>\n",
       "      <td>1.856480</td>\n",
       "      <td>0.366386</td>\n",
       "      <td>0</td>\n",
       "      <td>INDIVIDUAL</td>\n",
       "      <td>54</td>\n",
       "      <td>0</td>\n",
       "      <td>47</td>\n",
       "      <td>196960</td>\n",
       "      <td>66060</td>\n",
       "      <td>0</td>\n",
       "      <td>0</td>\n",
       "    </tr>\n",
       "  </tbody>\n",
       "</table>\n",
       "<p>67463 rows × 36 columns</p>\n",
       "</div>"
      ],
      "text/plain": [
       "             ID  Loan Amount  Funded Amount  Funded Amount Investor  Term  \\\n",
       "0      65087372        10000          32236             12329.36286    59   \n",
       "1       1450153         3609          11940             12191.99692    59   \n",
       "2       1969101        28276           9311             21603.22455    59   \n",
       "3       6651430        11170           6954             17877.15585    59   \n",
       "4      14354669        16890          13226             13539.92667    59   \n",
       "...         ...          ...            ...                     ...   ...   \n",
       "67458  16164945        13601           6848             13175.28583    59   \n",
       "67459  35182714         8323          11046             15637.46301    59   \n",
       "67460  16435904        15897          32921             12329.45775    59   \n",
       "67461   5300325        16567           4975             21353.68465    59   \n",
       "67462  65443173        15353          29875             14207.44860    59   \n",
       "\n",
       "      Batch Enrolled  Interest Rate Grade Sub Grade Employment Duration  \\\n",
       "0         BAT2522922      11.135007     B        C4            MORTGAGE   \n",
       "1         BAT1586599      12.237563     C        D3                RENT   \n",
       "2         BAT2136391      12.545884     F        D4            MORTGAGE   \n",
       "3         BAT2428731      16.731201     C        C3            MORTGAGE   \n",
       "4         BAT5341619      15.008300     C        D4            MORTGAGE   \n",
       "...              ...            ...   ...       ...                 ...   \n",
       "67458     BAT3193689       9.408858     C        A4            MORTGAGE   \n",
       "67459     BAT1780517       9.972104     C        B3                RENT   \n",
       "67460     BAT1761981      19.650943     A        F3            MORTGAGE   \n",
       "67461     BAT2333412      13.169095     D        E3                 OWN   \n",
       "67462     BAT1930365      16.034631     B        D1            MORTGAGE   \n",
       "\n",
       "       Home Ownership Verification Status Payment Plan  \\\n",
       "0        176346.62670        Not Verified            n   \n",
       "1         39833.92100     Source Verified            n   \n",
       "2         91506.69105     Source Verified            n   \n",
       "3        108286.57590     Source Verified            n   \n",
       "4         44234.82545     Source Verified            n   \n",
       "...               ...                 ...          ...   \n",
       "67458     83961.15003            Verified            n   \n",
       "67459     65491.12817     Source Verified            n   \n",
       "67460     34813.96985            Verified            n   \n",
       "67461     96938.83564        Not Verified            n   \n",
       "67462    105123.15580            Verified            n   \n",
       "\n",
       "                    Loan Title  Debit to Income  Delinquency - two years  \\\n",
       "0           Debt Consolidation        16.284758                        1   \n",
       "1           Debt consolidation        15.412409                        0   \n",
       "2           Debt Consolidation        28.137619                        0   \n",
       "3           Debt consolidation        18.043730                        1   \n",
       "4      Credit card refinancing        17.209886                        1   \n",
       "...                        ...              ...                      ...   \n",
       "67458  Credit card refinancing        28.105127                        1   \n",
       "67459  Credit card refinancing        17.694279                        0   \n",
       "67460             Lending loan        10.295774                        0   \n",
       "67461       Debt consolidation         7.614624                        0   \n",
       "67462       Debt consolidation        16.052112                        0   \n",
       "\n",
       "       Inquires - six months  Open Account  Public Record  Revolving Balance  \\\n",
       "0                          0            13              0              24246   \n",
       "1                          0            12              0                812   \n",
       "2                          0            14              0               1843   \n",
       "3                          0             7              0              13819   \n",
       "4                          3            13              1               1544   \n",
       "...                      ...           ...            ...                ...   \n",
       "67458                      0            13              0               4112   \n",
       "67459                      0            12              0               9737   \n",
       "67460                      0             7              1               2195   \n",
       "67461                      0            14              0               1172   \n",
       "67462                      0            30              0               8762   \n",
       "\n",
       "       Revolving Utilities  Total Accounts Initial List Status  \\\n",
       "0                74.932551               7                   w   \n",
       "1                78.297186              13                   f   \n",
       "2                 2.073040              20                   w   \n",
       "3                67.467951              12                   w   \n",
       "4                85.250761              22                   w   \n",
       "...                    ...             ...                 ...   \n",
       "67458            97.779389              19                   w   \n",
       "67459            15.690703              14                   w   \n",
       "67460             1.500090               9                   w   \n",
       "67461            68.481882              15                   f   \n",
       "67462            81.692328              16                   f   \n",
       "\n",
       "       Total Received Interest  Total Received Late Fee   Recoveries  \\\n",
       "0                  2929.646315                 0.102055     2.498291   \n",
       "1                   772.769385                 0.036181     2.377215   \n",
       "2                   863.324396                18.778660     4.316277   \n",
       "3                   288.173196                 0.044131     0.107020   \n",
       "4                   129.239553                19.306646  1294.818751   \n",
       "...                        ...                      ...          ...   \n",
       "67458              1978.945960                 0.023478   564.614852   \n",
       "67459              3100.803125                 0.027095     2.015494   \n",
       "67460              2691.995532                 0.028212     5.673092   \n",
       "67461              3659.334202                 0.074508     1.157454   \n",
       "67462              1324.255922                 0.000671     1.856480   \n",
       "\n",
       "       Collection Recovery Fee  Collection 12 months Medical Application Type  \\\n",
       "0                     0.793724                             0       INDIVIDUAL   \n",
       "1                     0.974821                             0       INDIVIDUAL   \n",
       "2                     1.020075                             0       INDIVIDUAL   \n",
       "3                     0.749971                             0       INDIVIDUAL   \n",
       "4                     0.368953                             0       INDIVIDUAL   \n",
       "...                        ...                           ...              ...   \n",
       "67458                 0.865230                             0       INDIVIDUAL   \n",
       "67459                 1.403368                             0       INDIVIDUAL   \n",
       "67460                 1.607093                             0       INDIVIDUAL   \n",
       "67461                 0.207608                             0       INDIVIDUAL   \n",
       "67462                 0.366386                             0       INDIVIDUAL   \n",
       "\n",
       "       Last week Pay  Accounts Delinquent  Total Collection Amount  \\\n",
       "0                 49                    0                       31   \n",
       "1                109                    0                       53   \n",
       "2                 66                    0                       34   \n",
       "3                 39                    0                       40   \n",
       "4                 18                    0                      430   \n",
       "...              ...                  ...                      ...   \n",
       "67458             69                    0                       48   \n",
       "67459             14                    0                       37   \n",
       "67460            137                    0                       17   \n",
       "67461             73                    0                       61   \n",
       "67462             54                    0                       47   \n",
       "\n",
       "       Total Current Balance  Total Revolving Credit Limit  Loan Status  \\\n",
       "0                     311301                          6619            0   \n",
       "1                     182610                         20885            0   \n",
       "2                      89801                         26155            0   \n",
       "3                       9189                         60214            0   \n",
       "4                     126029                         22579            0   \n",
       "...                      ...                           ...          ...   \n",
       "67458                 181775                         34301            1   \n",
       "67459                  22692                          8714            0   \n",
       "67460                 176857                         42330            0   \n",
       "67461                 361339                         39075            0   \n",
       "67462                 196960                         66060            0   \n",
       "\n",
       "       cluster  \n",
       "0            6  \n",
       "1            1  \n",
       "2            7  \n",
       "3            6  \n",
       "4            0  \n",
       "...        ...  \n",
       "67458        6  \n",
       "67459        3  \n",
       "67460        0  \n",
       "67461        0  \n",
       "67462        0  \n",
       "\n",
       "[67463 rows x 36 columns]"
      ]
     },
     "execution_count": 71,
     "metadata": {},
     "output_type": "execute_result"
    }
   ],
   "source": [
    "df2"
   ]
  },
  {
   "cell_type": "markdown",
   "id": "d092c0fc",
   "metadata": {},
   "source": [
    "### Conclusion\n",
    "- Are the columns of your data correlated?\n",
    "- Are there labels in your data? Did that impact your choice of algorithm?\n",
    "- What are the pros and cons of each algorithm you selected?\n",
    "- How your choice of algorithm relates to the datasets (was your choice of algorithm impacted by the datasets you chose)?\n",
    "- Which result will you trust if you need to make a business decision?\n",
    "- Do you think an analysis could be prone to errors when using too much data, or when using the least amount possible?\n",
    "- How does the analysis between data sets compare?\n"
   ]
  }
 ],
 "metadata": {
  "kernelspec": {
   "display_name": "Python 3 (ipykernel)",
   "language": "python",
   "name": "python3"
  },
  "language_info": {
   "codemirror_mode": {
    "name": "ipython",
    "version": 3
   },
   "file_extension": ".py",
   "mimetype": "text/x-python",
   "name": "python",
   "nbconvert_exporter": "python",
   "pygments_lexer": "ipython3",
   "version": "3.11.7"
  }
 },
 "nbformat": 4,
 "nbformat_minor": 5
}
