{
 "cells": [
  {
   "cell_type": "markdown",
   "metadata": {},
   "source": [
    "#### **DATA 622 - Assignment 3 - Decision Trees vs Support Vector Machines**\n",
    "\n",
    "Author: Kory Martin     \n",
    "Date: 4/27/2024\n"
   ]
  },
  {
   "cell_type": "markdown",
   "metadata": {},
   "source": [
    "**Instructions:**\n",
    "\n",
    "Pre-work:  \n",
    "- Read the following articles:  \n",
    "    - https://www.hindawi.com/journals/complexity/2021/5550344/  \n",
    "    - https://www.ncbi.nlm.nih.gov/pmc/articles/PMC8137961/  \n",
    "- Search for academic content (at least 3 articles) that compare the use of decision trees vs SVMs in your current area of expertise. \n",
    "    - Discuss the articles provided (1 A & B, above), the 3 you chose, and how they relate to your your area of interest\n",
    "\n",
    "Deliverables:\n",
    "- Perform an analysis of the dataset used in Homework #2 using the SVM algorithm.  \n",
    "- Compare the results with the results from previous homework.  \n",
    "    - Answer questions, such as:  \n",
    "        - Which algorithm is recommended to get more accurate results?  \n",
    "        - Is it better for classification or regression scenarios?  \n",
    "        - Do you agree with the recommendations?  \n",
    "        - Why?  "
   ]
  },
  {
   "cell_type": "markdown",
   "metadata": {},
   "source": [
    "#### **1. Import Libraries**"
   ]
  },
  {
   "cell_type": "code",
   "execution_count": 1,
   "metadata": {},
   "outputs": [],
   "source": [
    "import pandas as pd\n",
    "from plotnine import *\n",
    "from datetime import datetime as dt\n",
    "import re"
   ]
  },
  {
   "cell_type": "code",
   "execution_count": 2,
   "metadata": {},
   "outputs": [],
   "source": [
    "from sklearn.tree import DecisionTreeClassifier\n",
    "from sklearn.ensemble import RandomForestClassifier\n",
    "from sklearn.svm import LinearSVC, SVC, NuSVC\n",
    "from sklearn.model_selection import train_test_split\n",
    "from sklearn.preprocessing import StandardScaler\n",
    "from sklearn.pipeline import make_pipeline"
   ]
  },
  {
   "cell_type": "markdown",
   "metadata": {},
   "source": [
    "#### **2. Import Data**\n",
    "\n",
    "For this assignment, I pulled the [eCommerce Customer Service Satisfaction](https://www.kaggle.com/datasets/ddosad/ecommerce-customer-service-satisfaction) data from Kaggle. This dataset provides a list of customer satisfaction scores and information for various customer inquiries. The output variable that we will use for this assignment is the final CSAT score that the user gave the support agent. \n",
    "\n",
    "Given the richness of the dataset, our goal will be to build a model that can predict the CSAT score based on the input features."
   ]
  },
  {
   "cell_type": "code",
   "execution_count": 3,
   "metadata": {},
   "outputs": [],
   "source": [
    "cust_satisfaction_df = pd.read_csv('Customer_support_data.csv')"
   ]
  },
  {
   "cell_type": "markdown",
   "metadata": {},
   "source": [
    "#### **3. Exploratory Analysis**"
   ]
  },
  {
   "cell_type": "code",
   "execution_count": 4,
   "metadata": {},
   "outputs": [
    {
     "data": {
      "text/plain": [
       "(85907, 20)"
      ]
     },
     "execution_count": 4,
     "metadata": {},
     "output_type": "execute_result"
    }
   ],
   "source": [
    "cust_satisfaction_df.shape"
   ]
  },
  {
   "cell_type": "markdown",
   "metadata": {},
   "source": [
    "We see that the dataset has 85K rows and 20 different fields, which are a mix of data types including dates, strings and categorical variables. When we look at the first few rows of the data, we also notice that there are NA values in the data, and also there are some variables that are specific to the data in the row, but that we would assume may not have much generalizable characteristics that would make it worth keeping in our final data table"
   ]
  },
  {
   "cell_type": "code",
   "execution_count": 5,
   "metadata": {},
   "outputs": [
    {
     "data": {
      "text/html": [
       "<div>\n",
       "<style scoped>\n",
       "    .dataframe tbody tr th:only-of-type {\n",
       "        vertical-align: middle;\n",
       "    }\n",
       "\n",
       "    .dataframe tbody tr th {\n",
       "        vertical-align: top;\n",
       "    }\n",
       "\n",
       "    .dataframe thead th {\n",
       "        text-align: right;\n",
       "    }\n",
       "</style>\n",
       "<table border=\"1\" class=\"dataframe\">\n",
       "  <thead>\n",
       "    <tr style=\"text-align: right;\">\n",
       "      <th></th>\n",
       "      <th>Unique id</th>\n",
       "      <th>channel_name</th>\n",
       "      <th>category</th>\n",
       "      <th>Sub-category</th>\n",
       "      <th>Customer Remarks</th>\n",
       "      <th>Order_id</th>\n",
       "      <th>order_date_time</th>\n",
       "      <th>Issue_reported at</th>\n",
       "      <th>issue_responded</th>\n",
       "      <th>Survey_response_Date</th>\n",
       "      <th>Customer_City</th>\n",
       "      <th>Product_category</th>\n",
       "      <th>Item_price</th>\n",
       "      <th>connected_handling_time</th>\n",
       "      <th>Agent_name</th>\n",
       "      <th>Supervisor</th>\n",
       "      <th>Manager</th>\n",
       "      <th>Tenure Bucket</th>\n",
       "      <th>Agent Shift</th>\n",
       "      <th>CSAT Score</th>\n",
       "    </tr>\n",
       "  </thead>\n",
       "  <tbody>\n",
       "    <tr>\n",
       "      <th>0</th>\n",
       "      <td>7e9ae164-6a8b-4521-a2d4-58f7c9fff13f</td>\n",
       "      <td>Outcall</td>\n",
       "      <td>Product Queries</td>\n",
       "      <td>Life Insurance</td>\n",
       "      <td>NaN</td>\n",
       "      <td>c27c9bb4-fa36-4140-9f1f-21009254ffdb</td>\n",
       "      <td>NaN</td>\n",
       "      <td>01/08/2023 11:13</td>\n",
       "      <td>01/08/2023 11:47</td>\n",
       "      <td>01-Aug-23</td>\n",
       "      <td>NaN</td>\n",
       "      <td>NaN</td>\n",
       "      <td>NaN</td>\n",
       "      <td>NaN</td>\n",
       "      <td>Richard Buchanan</td>\n",
       "      <td>Mason Gupta</td>\n",
       "      <td>Jennifer Nguyen</td>\n",
       "      <td>On Job Training</td>\n",
       "      <td>Morning</td>\n",
       "      <td>5</td>\n",
       "    </tr>\n",
       "    <tr>\n",
       "      <th>1</th>\n",
       "      <td>b07ec1b0-f376-43b6-86df-ec03da3b2e16</td>\n",
       "      <td>Outcall</td>\n",
       "      <td>Product Queries</td>\n",
       "      <td>Product Specific Information</td>\n",
       "      <td>NaN</td>\n",
       "      <td>d406b0c7-ce17-4654-b9de-f08d421254bd</td>\n",
       "      <td>NaN</td>\n",
       "      <td>01/08/2023 12:52</td>\n",
       "      <td>01/08/2023 12:54</td>\n",
       "      <td>01-Aug-23</td>\n",
       "      <td>NaN</td>\n",
       "      <td>NaN</td>\n",
       "      <td>NaN</td>\n",
       "      <td>NaN</td>\n",
       "      <td>Vicki Collins</td>\n",
       "      <td>Dylan Kim</td>\n",
       "      <td>Michael Lee</td>\n",
       "      <td>&gt;90</td>\n",
       "      <td>Morning</td>\n",
       "      <td>5</td>\n",
       "    </tr>\n",
       "    <tr>\n",
       "      <th>2</th>\n",
       "      <td>200814dd-27c7-4149-ba2b-bd3af3092880</td>\n",
       "      <td>Inbound</td>\n",
       "      <td>Order Related</td>\n",
       "      <td>Installation/demo</td>\n",
       "      <td>NaN</td>\n",
       "      <td>c273368d-b961-44cb-beaf-62d6fd6c00d5</td>\n",
       "      <td>NaN</td>\n",
       "      <td>01/08/2023 20:16</td>\n",
       "      <td>01/08/2023 20:38</td>\n",
       "      <td>01-Aug-23</td>\n",
       "      <td>NaN</td>\n",
       "      <td>NaN</td>\n",
       "      <td>NaN</td>\n",
       "      <td>NaN</td>\n",
       "      <td>Duane Norman</td>\n",
       "      <td>Jackson Park</td>\n",
       "      <td>William Kim</td>\n",
       "      <td>On Job Training</td>\n",
       "      <td>Evening</td>\n",
       "      <td>5</td>\n",
       "    </tr>\n",
       "    <tr>\n",
       "      <th>3</th>\n",
       "      <td>eb0d3e53-c1ca-42d3-8486-e42c8d622135</td>\n",
       "      <td>Inbound</td>\n",
       "      <td>Returns</td>\n",
       "      <td>Reverse Pickup Enquiry</td>\n",
       "      <td>NaN</td>\n",
       "      <td>5aed0059-55a4-4ec6-bb54-97942092020a</td>\n",
       "      <td>NaN</td>\n",
       "      <td>01/08/2023 20:56</td>\n",
       "      <td>01/08/2023 21:16</td>\n",
       "      <td>01-Aug-23</td>\n",
       "      <td>NaN</td>\n",
       "      <td>NaN</td>\n",
       "      <td>NaN</td>\n",
       "      <td>NaN</td>\n",
       "      <td>Patrick Flores</td>\n",
       "      <td>Olivia Wang</td>\n",
       "      <td>John Smith</td>\n",
       "      <td>&gt;90</td>\n",
       "      <td>Evening</td>\n",
       "      <td>5</td>\n",
       "    </tr>\n",
       "    <tr>\n",
       "      <th>4</th>\n",
       "      <td>ba903143-1e54-406c-b969-46c52f92e5df</td>\n",
       "      <td>Inbound</td>\n",
       "      <td>Cancellation</td>\n",
       "      <td>Not Needed</td>\n",
       "      <td>NaN</td>\n",
       "      <td>e8bed5a9-6933-4aff-9dc6-ccefd7dcde59</td>\n",
       "      <td>NaN</td>\n",
       "      <td>01/08/2023 10:30</td>\n",
       "      <td>01/08/2023 10:32</td>\n",
       "      <td>01-Aug-23</td>\n",
       "      <td>NaN</td>\n",
       "      <td>NaN</td>\n",
       "      <td>NaN</td>\n",
       "      <td>NaN</td>\n",
       "      <td>Christopher Sanchez</td>\n",
       "      <td>Austin Johnson</td>\n",
       "      <td>Michael Lee</td>\n",
       "      <td>0-30</td>\n",
       "      <td>Morning</td>\n",
       "      <td>5</td>\n",
       "    </tr>\n",
       "  </tbody>\n",
       "</table>\n",
       "</div>"
      ],
      "text/plain": [
       "                              Unique id channel_name         category  \\\n",
       "0  7e9ae164-6a8b-4521-a2d4-58f7c9fff13f      Outcall  Product Queries   \n",
       "1  b07ec1b0-f376-43b6-86df-ec03da3b2e16      Outcall  Product Queries   \n",
       "2  200814dd-27c7-4149-ba2b-bd3af3092880      Inbound    Order Related   \n",
       "3  eb0d3e53-c1ca-42d3-8486-e42c8d622135      Inbound          Returns   \n",
       "4  ba903143-1e54-406c-b969-46c52f92e5df      Inbound     Cancellation   \n",
       "\n",
       "                   Sub-category Customer Remarks  \\\n",
       "0                Life Insurance              NaN   \n",
       "1  Product Specific Information              NaN   \n",
       "2             Installation/demo              NaN   \n",
       "3        Reverse Pickup Enquiry              NaN   \n",
       "4                    Not Needed              NaN   \n",
       "\n",
       "                               Order_id order_date_time Issue_reported at  \\\n",
       "0  c27c9bb4-fa36-4140-9f1f-21009254ffdb             NaN  01/08/2023 11:13   \n",
       "1  d406b0c7-ce17-4654-b9de-f08d421254bd             NaN  01/08/2023 12:52   \n",
       "2  c273368d-b961-44cb-beaf-62d6fd6c00d5             NaN  01/08/2023 20:16   \n",
       "3  5aed0059-55a4-4ec6-bb54-97942092020a             NaN  01/08/2023 20:56   \n",
       "4  e8bed5a9-6933-4aff-9dc6-ccefd7dcde59             NaN  01/08/2023 10:30   \n",
       "\n",
       "    issue_responded Survey_response_Date Customer_City Product_category  \\\n",
       "0  01/08/2023 11:47            01-Aug-23           NaN              NaN   \n",
       "1  01/08/2023 12:54            01-Aug-23           NaN              NaN   \n",
       "2  01/08/2023 20:38            01-Aug-23           NaN              NaN   \n",
       "3  01/08/2023 21:16            01-Aug-23           NaN              NaN   \n",
       "4  01/08/2023 10:32            01-Aug-23           NaN              NaN   \n",
       "\n",
       "   Item_price  connected_handling_time           Agent_name      Supervisor  \\\n",
       "0         NaN                      NaN     Richard Buchanan     Mason Gupta   \n",
       "1         NaN                      NaN        Vicki Collins       Dylan Kim   \n",
       "2         NaN                      NaN         Duane Norman    Jackson Park   \n",
       "3         NaN                      NaN       Patrick Flores     Olivia Wang   \n",
       "4         NaN                      NaN  Christopher Sanchez  Austin Johnson   \n",
       "\n",
       "           Manager    Tenure Bucket Agent Shift  CSAT Score  \n",
       "0  Jennifer Nguyen  On Job Training     Morning           5  \n",
       "1      Michael Lee              >90     Morning           5  \n",
       "2      William Kim  On Job Training     Evening           5  \n",
       "3       John Smith              >90     Evening           5  \n",
       "4      Michael Lee             0-30     Morning           5  "
      ]
     },
     "execution_count": 5,
     "metadata": {},
     "output_type": "execute_result"
    }
   ],
   "source": [
    "cust_satisfaction_df.head()"
   ]
  },
  {
   "cell_type": "markdown",
   "metadata": {},
   "source": [
    "As we noticed during the previous of the table, there are at least seven fields that have NA values; with a number of these having a significant majority or near-majority of their values that are NA. ***connected_handling_time*** has only 242 non-null values."
   ]
  },
  {
   "cell_type": "code",
   "execution_count": 6,
   "metadata": {},
   "outputs": [
    {
     "name": "stdout",
     "output_type": "stream",
     "text": [
      "<class 'pandas.core.frame.DataFrame'>\n",
      "RangeIndex: 85907 entries, 0 to 85906\n",
      "Data columns (total 20 columns):\n",
      " #   Column                   Non-Null Count  Dtype  \n",
      "---  ------                   --------------  -----  \n",
      " 0   Unique id                85907 non-null  object \n",
      " 1   channel_name             85907 non-null  object \n",
      " 2   category                 85907 non-null  object \n",
      " 3   Sub-category             85907 non-null  object \n",
      " 4   Customer Remarks         28742 non-null  object \n",
      " 5   Order_id                 67675 non-null  object \n",
      " 6   order_date_time          17214 non-null  object \n",
      " 7   Issue_reported at        85907 non-null  object \n",
      " 8   issue_responded          85907 non-null  object \n",
      " 9   Survey_response_Date     85907 non-null  object \n",
      " 10  Customer_City            17079 non-null  object \n",
      " 11  Product_category         17196 non-null  object \n",
      " 12  Item_price               17206 non-null  float64\n",
      " 13  connected_handling_time  242 non-null    float64\n",
      " 14  Agent_name               85907 non-null  object \n",
      " 15  Supervisor               85907 non-null  object \n",
      " 16  Manager                  85907 non-null  object \n",
      " 17  Tenure Bucket            85907 non-null  object \n",
      " 18  Agent Shift              85907 non-null  object \n",
      " 19  CSAT Score               85907 non-null  int64  \n",
      "dtypes: float64(2), int64(1), object(17)\n",
      "memory usage: 13.1+ MB\n"
     ]
    }
   ],
   "source": [
    "cust_satisfaction_df.info()"
   ]
  },
  {
   "cell_type": "markdown",
   "metadata": {},
   "source": [
    "I noticed that the date strings were not in a standard US date format, so went ahead and updated the strings. The thinking is that it may be valuable to create a feature that represents the amount of time between an issue being reported and when it was resolved."
   ]
  },
  {
   "cell_type": "code",
   "execution_count": 7,
   "metadata": {},
   "outputs": [],
   "source": [
    "cust_satisfaction_df['order_date'] = cust_satisfaction_df['order_date_time'].apply(lambda x: dt.strptime(str(x)[:10],'%d/%m/%Y') if not pd.isna(x) else x).copy()\n",
    "cust_satisfaction_df['response_date'] = cust_satisfaction_df['issue_responded'].apply(lambda x: dt.strptime(str(x)[:16],'%d/%m/%Y %H:%M') if not pd.isna(x) else x).copy()\n",
    "cust_satisfaction_df['issue_date'] = cust_satisfaction_df['Issue_reported at'].apply(lambda x: dt.strptime(str(x)[:16],'%d/%m/%Y %H:%M') if not pd.isna(x) else x).copy()\n"
   ]
  },
  {
   "cell_type": "markdown",
   "metadata": {},
   "source": [
    "Create additional variables to evaluate the response time in days and minutes"
   ]
  },
  {
   "cell_type": "code",
   "execution_count": 8,
   "metadata": {},
   "outputs": [],
   "source": [
    "cust_satisfaction_df['response_time_days'] = cust_satisfaction_df.apply(lambda x: (x['response_date']-x['issue_date']).days,axis=1)\n",
    "cust_satisfaction_df['response_time_minutes'] = cust_satisfaction_df.apply(lambda x: (x['response_date']-x['issue_date']).seconds/60,axis=1)"
   ]
  },
  {
   "cell_type": "markdown",
   "metadata": {},
   "source": [
    "I have a preference for consisting naming conventions for feature names, so I'm going to update the column names to a consistent format"
   ]
  },
  {
   "cell_type": "code",
   "execution_count": 9,
   "metadata": {},
   "outputs": [],
   "source": [
    "col_names = [col.lower() for col in cust_satisfaction_df.columns]\n",
    "col_names = [re.sub('[-\\s]',\"_\",col) for col in col_names]\n",
    "cust_satisfaction_df = cust_satisfaction_df.set_axis(col_names, axis='columns')"
   ]
  },
  {
   "cell_type": "code",
   "execution_count": 10,
   "metadata": {},
   "outputs": [
    {
     "data": {
      "text/html": [
       "<div>\n",
       "<style scoped>\n",
       "    .dataframe tbody tr th:only-of-type {\n",
       "        vertical-align: middle;\n",
       "    }\n",
       "\n",
       "    .dataframe tbody tr th {\n",
       "        vertical-align: top;\n",
       "    }\n",
       "\n",
       "    .dataframe thead th {\n",
       "        text-align: right;\n",
       "    }\n",
       "</style>\n",
       "<table border=\"1\" class=\"dataframe\">\n",
       "  <thead>\n",
       "    <tr style=\"text-align: right;\">\n",
       "      <th></th>\n",
       "      <th>unique_id</th>\n",
       "      <th>channel_name</th>\n",
       "      <th>category</th>\n",
       "      <th>sub_category</th>\n",
       "      <th>customer_remarks</th>\n",
       "      <th>order_id</th>\n",
       "      <th>order_date_time</th>\n",
       "      <th>issue_reported_at</th>\n",
       "      <th>issue_responded</th>\n",
       "      <th>survey_response_date</th>\n",
       "      <th>...</th>\n",
       "      <th>supervisor</th>\n",
       "      <th>manager</th>\n",
       "      <th>tenure_bucket</th>\n",
       "      <th>agent_shift</th>\n",
       "      <th>csat_score</th>\n",
       "      <th>order_date</th>\n",
       "      <th>response_date</th>\n",
       "      <th>issue_date</th>\n",
       "      <th>response_time_days</th>\n",
       "      <th>response_time_minutes</th>\n",
       "    </tr>\n",
       "  </thead>\n",
       "  <tbody>\n",
       "    <tr>\n",
       "      <th>0</th>\n",
       "      <td>7e9ae164-6a8b-4521-a2d4-58f7c9fff13f</td>\n",
       "      <td>Outcall</td>\n",
       "      <td>Product Queries</td>\n",
       "      <td>Life Insurance</td>\n",
       "      <td>NaN</td>\n",
       "      <td>c27c9bb4-fa36-4140-9f1f-21009254ffdb</td>\n",
       "      <td>NaN</td>\n",
       "      <td>01/08/2023 11:13</td>\n",
       "      <td>01/08/2023 11:47</td>\n",
       "      <td>01-Aug-23</td>\n",
       "      <td>...</td>\n",
       "      <td>Mason Gupta</td>\n",
       "      <td>Jennifer Nguyen</td>\n",
       "      <td>On Job Training</td>\n",
       "      <td>Morning</td>\n",
       "      <td>5</td>\n",
       "      <td>NaT</td>\n",
       "      <td>2023-08-01 11:47:00</td>\n",
       "      <td>2023-08-01 11:13:00</td>\n",
       "      <td>0</td>\n",
       "      <td>34.0</td>\n",
       "    </tr>\n",
       "    <tr>\n",
       "      <th>1</th>\n",
       "      <td>b07ec1b0-f376-43b6-86df-ec03da3b2e16</td>\n",
       "      <td>Outcall</td>\n",
       "      <td>Product Queries</td>\n",
       "      <td>Product Specific Information</td>\n",
       "      <td>NaN</td>\n",
       "      <td>d406b0c7-ce17-4654-b9de-f08d421254bd</td>\n",
       "      <td>NaN</td>\n",
       "      <td>01/08/2023 12:52</td>\n",
       "      <td>01/08/2023 12:54</td>\n",
       "      <td>01-Aug-23</td>\n",
       "      <td>...</td>\n",
       "      <td>Dylan Kim</td>\n",
       "      <td>Michael Lee</td>\n",
       "      <td>&gt;90</td>\n",
       "      <td>Morning</td>\n",
       "      <td>5</td>\n",
       "      <td>NaT</td>\n",
       "      <td>2023-08-01 12:54:00</td>\n",
       "      <td>2023-08-01 12:52:00</td>\n",
       "      <td>0</td>\n",
       "      <td>2.0</td>\n",
       "    </tr>\n",
       "    <tr>\n",
       "      <th>2</th>\n",
       "      <td>200814dd-27c7-4149-ba2b-bd3af3092880</td>\n",
       "      <td>Inbound</td>\n",
       "      <td>Order Related</td>\n",
       "      <td>Installation/demo</td>\n",
       "      <td>NaN</td>\n",
       "      <td>c273368d-b961-44cb-beaf-62d6fd6c00d5</td>\n",
       "      <td>NaN</td>\n",
       "      <td>01/08/2023 20:16</td>\n",
       "      <td>01/08/2023 20:38</td>\n",
       "      <td>01-Aug-23</td>\n",
       "      <td>...</td>\n",
       "      <td>Jackson Park</td>\n",
       "      <td>William Kim</td>\n",
       "      <td>On Job Training</td>\n",
       "      <td>Evening</td>\n",
       "      <td>5</td>\n",
       "      <td>NaT</td>\n",
       "      <td>2023-08-01 20:38:00</td>\n",
       "      <td>2023-08-01 20:16:00</td>\n",
       "      <td>0</td>\n",
       "      <td>22.0</td>\n",
       "    </tr>\n",
       "    <tr>\n",
       "      <th>3</th>\n",
       "      <td>eb0d3e53-c1ca-42d3-8486-e42c8d622135</td>\n",
       "      <td>Inbound</td>\n",
       "      <td>Returns</td>\n",
       "      <td>Reverse Pickup Enquiry</td>\n",
       "      <td>NaN</td>\n",
       "      <td>5aed0059-55a4-4ec6-bb54-97942092020a</td>\n",
       "      <td>NaN</td>\n",
       "      <td>01/08/2023 20:56</td>\n",
       "      <td>01/08/2023 21:16</td>\n",
       "      <td>01-Aug-23</td>\n",
       "      <td>...</td>\n",
       "      <td>Olivia Wang</td>\n",
       "      <td>John Smith</td>\n",
       "      <td>&gt;90</td>\n",
       "      <td>Evening</td>\n",
       "      <td>5</td>\n",
       "      <td>NaT</td>\n",
       "      <td>2023-08-01 21:16:00</td>\n",
       "      <td>2023-08-01 20:56:00</td>\n",
       "      <td>0</td>\n",
       "      <td>20.0</td>\n",
       "    </tr>\n",
       "    <tr>\n",
       "      <th>4</th>\n",
       "      <td>ba903143-1e54-406c-b969-46c52f92e5df</td>\n",
       "      <td>Inbound</td>\n",
       "      <td>Cancellation</td>\n",
       "      <td>Not Needed</td>\n",
       "      <td>NaN</td>\n",
       "      <td>e8bed5a9-6933-4aff-9dc6-ccefd7dcde59</td>\n",
       "      <td>NaN</td>\n",
       "      <td>01/08/2023 10:30</td>\n",
       "      <td>01/08/2023 10:32</td>\n",
       "      <td>01-Aug-23</td>\n",
       "      <td>...</td>\n",
       "      <td>Austin Johnson</td>\n",
       "      <td>Michael Lee</td>\n",
       "      <td>0-30</td>\n",
       "      <td>Morning</td>\n",
       "      <td>5</td>\n",
       "      <td>NaT</td>\n",
       "      <td>2023-08-01 10:32:00</td>\n",
       "      <td>2023-08-01 10:30:00</td>\n",
       "      <td>0</td>\n",
       "      <td>2.0</td>\n",
       "    </tr>\n",
       "  </tbody>\n",
       "</table>\n",
       "<p>5 rows × 25 columns</p>\n",
       "</div>"
      ],
      "text/plain": [
       "                              unique_id channel_name         category  \\\n",
       "0  7e9ae164-6a8b-4521-a2d4-58f7c9fff13f      Outcall  Product Queries   \n",
       "1  b07ec1b0-f376-43b6-86df-ec03da3b2e16      Outcall  Product Queries   \n",
       "2  200814dd-27c7-4149-ba2b-bd3af3092880      Inbound    Order Related   \n",
       "3  eb0d3e53-c1ca-42d3-8486-e42c8d622135      Inbound          Returns   \n",
       "4  ba903143-1e54-406c-b969-46c52f92e5df      Inbound     Cancellation   \n",
       "\n",
       "                   sub_category customer_remarks  \\\n",
       "0                Life Insurance              NaN   \n",
       "1  Product Specific Information              NaN   \n",
       "2             Installation/demo              NaN   \n",
       "3        Reverse Pickup Enquiry              NaN   \n",
       "4                    Not Needed              NaN   \n",
       "\n",
       "                               order_id order_date_time issue_reported_at  \\\n",
       "0  c27c9bb4-fa36-4140-9f1f-21009254ffdb             NaN  01/08/2023 11:13   \n",
       "1  d406b0c7-ce17-4654-b9de-f08d421254bd             NaN  01/08/2023 12:52   \n",
       "2  c273368d-b961-44cb-beaf-62d6fd6c00d5             NaN  01/08/2023 20:16   \n",
       "3  5aed0059-55a4-4ec6-bb54-97942092020a             NaN  01/08/2023 20:56   \n",
       "4  e8bed5a9-6933-4aff-9dc6-ccefd7dcde59             NaN  01/08/2023 10:30   \n",
       "\n",
       "    issue_responded survey_response_date  ...      supervisor  \\\n",
       "0  01/08/2023 11:47            01-Aug-23  ...     Mason Gupta   \n",
       "1  01/08/2023 12:54            01-Aug-23  ...       Dylan Kim   \n",
       "2  01/08/2023 20:38            01-Aug-23  ...    Jackson Park   \n",
       "3  01/08/2023 21:16            01-Aug-23  ...     Olivia Wang   \n",
       "4  01/08/2023 10:32            01-Aug-23  ...  Austin Johnson   \n",
       "\n",
       "           manager    tenure_bucket  agent_shift csat_score order_date  \\\n",
       "0  Jennifer Nguyen  On Job Training      Morning          5        NaT   \n",
       "1      Michael Lee              >90      Morning          5        NaT   \n",
       "2      William Kim  On Job Training      Evening          5        NaT   \n",
       "3       John Smith              >90      Evening          5        NaT   \n",
       "4      Michael Lee             0-30      Morning          5        NaT   \n",
       "\n",
       "        response_date          issue_date response_time_days  \\\n",
       "0 2023-08-01 11:47:00 2023-08-01 11:13:00                  0   \n",
       "1 2023-08-01 12:54:00 2023-08-01 12:52:00                  0   \n",
       "2 2023-08-01 20:38:00 2023-08-01 20:16:00                  0   \n",
       "3 2023-08-01 21:16:00 2023-08-01 20:56:00                  0   \n",
       "4 2023-08-01 10:32:00 2023-08-01 10:30:00                  0   \n",
       "\n",
       "   response_time_minutes  \n",
       "0                   34.0  \n",
       "1                    2.0  \n",
       "2                   22.0  \n",
       "3                   20.0  \n",
       "4                    2.0  \n",
       "\n",
       "[5 rows x 25 columns]"
      ]
     },
     "execution_count": 10,
     "metadata": {},
     "output_type": "execute_result"
    }
   ],
   "source": [
    "cust_satisfaction_df.head()"
   ]
  },
  {
   "cell_type": "markdown",
   "metadata": {},
   "source": [
    "Now that we've done some initial pre-processing and cleaning of the data, we can begin to explore the data and look for interesting insights that may be able to inform how we build our models. \n",
    "\n",
    "Some interesting questions that we can answer based on this data are:\n",
    "- Are there any significant differences in CSAT score based on the categorical variables?\n",
    "- Are there significant differences in the CSAT score based on the agents supervisors and managers associated with the response? "
   ]
  },
  {
   "cell_type": "markdown",
   "metadata": {},
   "source": [
    "##### *3.1 Average CSAT Score based on Channel*"
   ]
  },
  {
   "cell_type": "code",
   "execution_count": 11,
   "metadata": {},
   "outputs": [
    {
     "data": {
      "text/html": [
       "<div>\n",
       "<style scoped>\n",
       "    .dataframe tbody tr th:only-of-type {\n",
       "        vertical-align: middle;\n",
       "    }\n",
       "\n",
       "    .dataframe tbody tr th {\n",
       "        vertical-align: top;\n",
       "    }\n",
       "\n",
       "    .dataframe thead th {\n",
       "        text-align: right;\n",
       "    }\n",
       "</style>\n",
       "<table border=\"1\" class=\"dataframe\">\n",
       "  <thead>\n",
       "    <tr style=\"text-align: right;\">\n",
       "      <th></th>\n",
       "      <th>csat_score</th>\n",
       "    </tr>\n",
       "    <tr>\n",
       "      <th>channel_name</th>\n",
       "      <th></th>\n",
       "    </tr>\n",
       "  </thead>\n",
       "  <tbody>\n",
       "    <tr>\n",
       "      <th>Email</th>\n",
       "      <td>3.899107</td>\n",
       "    </tr>\n",
       "    <tr>\n",
       "      <th>Inbound</th>\n",
       "      <td>4.251372</td>\n",
       "    </tr>\n",
       "    <tr>\n",
       "      <th>Outcall</th>\n",
       "      <td>4.269909</td>\n",
       "    </tr>\n",
       "  </tbody>\n",
       "</table>\n",
       "</div>"
      ],
      "text/plain": [
       "              csat_score\n",
       "channel_name            \n",
       "Email           3.899107\n",
       "Inbound         4.251372\n",
       "Outcall         4.269909"
      ]
     },
     "execution_count": 11,
     "metadata": {},
     "output_type": "execute_result"
    }
   ],
   "source": [
    "cust_satisfaction_df.pivot_table(index=['channel_name'], values=['csat_score'])"
   ]
  },
  {
   "cell_type": "markdown",
   "metadata": {},
   "source": [
    "##### *3.2 Average CSAT Score based on Customer Issue*"
   ]
  },
  {
   "cell_type": "code",
   "execution_count": 12,
   "metadata": {},
   "outputs": [
    {
     "data": {
      "text/html": [
       "<div>\n",
       "<style scoped>\n",
       "    .dataframe tbody tr th:only-of-type {\n",
       "        vertical-align: middle;\n",
       "    }\n",
       "\n",
       "    .dataframe tbody tr th {\n",
       "        vertical-align: top;\n",
       "    }\n",
       "\n",
       "    .dataframe thead th {\n",
       "        text-align: right;\n",
       "    }\n",
       "</style>\n",
       "<table border=\"1\" class=\"dataframe\">\n",
       "  <thead>\n",
       "    <tr style=\"text-align: right;\">\n",
       "      <th></th>\n",
       "      <th>csat_score</th>\n",
       "    </tr>\n",
       "    <tr>\n",
       "      <th>category</th>\n",
       "      <th></th>\n",
       "    </tr>\n",
       "  </thead>\n",
       "  <tbody>\n",
       "    <tr>\n",
       "      <th>App/website</th>\n",
       "      <td>4.404762</td>\n",
       "    </tr>\n",
       "    <tr>\n",
       "      <th>Payments related</th>\n",
       "      <td>4.354534</td>\n",
       "    </tr>\n",
       "    <tr>\n",
       "      <th>Returns</th>\n",
       "      <td>4.346350</td>\n",
       "    </tr>\n",
       "    <tr>\n",
       "      <th>Shopzilla Related</th>\n",
       "      <td>4.306948</td>\n",
       "    </tr>\n",
       "    <tr>\n",
       "      <th>Onboarding related</th>\n",
       "      <td>4.261538</td>\n",
       "    </tr>\n",
       "    <tr>\n",
       "      <th>Refund Related</th>\n",
       "      <td>4.226813</td>\n",
       "    </tr>\n",
       "    <tr>\n",
       "      <th>Offers &amp; Cashback</th>\n",
       "      <td>4.210417</td>\n",
       "    </tr>\n",
       "    <tr>\n",
       "      <th>Feedback</th>\n",
       "      <td>4.158675</td>\n",
       "    </tr>\n",
       "    <tr>\n",
       "      <th>Order Related</th>\n",
       "      <td>4.096059</td>\n",
       "    </tr>\n",
       "    <tr>\n",
       "      <th>Product Queries</th>\n",
       "      <td>4.039816</td>\n",
       "    </tr>\n",
       "    <tr>\n",
       "      <th>Cancellation</th>\n",
       "      <td>3.990506</td>\n",
       "    </tr>\n",
       "    <tr>\n",
       "      <th>Others</th>\n",
       "      <td>3.434343</td>\n",
       "    </tr>\n",
       "  </tbody>\n",
       "</table>\n",
       "</div>"
      ],
      "text/plain": [
       "                    csat_score\n",
       "category                      \n",
       "App/website           4.404762\n",
       "Payments related      4.354534\n",
       "Returns               4.346350\n",
       "Shopzilla Related     4.306948\n",
       "Onboarding related    4.261538\n",
       "Refund Related        4.226813\n",
       "Offers & Cashback     4.210417\n",
       "Feedback              4.158675\n",
       "Order Related         4.096059\n",
       "Product Queries       4.039816\n",
       "Cancellation          3.990506\n",
       "Others                3.434343"
      ]
     },
     "execution_count": 12,
     "metadata": {},
     "output_type": "execute_result"
    }
   ],
   "source": [
    "cust_satisfaction_df.pivot_table(index=['category'], values=['csat_score']).sort_values(by='csat_score',ascending=False)"
   ]
  },
  {
   "cell_type": "code",
   "execution_count": 13,
   "metadata": {},
   "outputs": [],
   "source": [
    "temp_df = cust_satisfaction_df.pivot_table(index=['category'], values=['csat_score']).reset_index()"
   ]
  },
  {
   "cell_type": "code",
   "execution_count": 14,
   "metadata": {},
   "outputs": [
    {
     "data": {
      "image/png": "[encoded data removed]"
     },
     "metadata": {
      "image/png": {
       "height": 600,
       "width": 800
      }
     },
     "output_type": "display_data"
    }
   ],
   "source": [
    "(\n",
    "    ggplot(temp_df)\n",
    "    + aes(x='category', y='csat_score', fill='category')\n",
    "    + geom_bar(stat='identity')\n",
    "    + theme(axis_text_x=(element_text(rotation=90)), figure_size=(8,6))\n",
    "    + labs(title=\"Average CSAT Score by Customer Issue\", y='CSAT Score', x='Customer Issue')\n",
    "\n",
    ")\n"
   ]
  },
  {
   "cell_type": "markdown",
   "metadata": {},
   "source": [
    "##### *3.3 Average CSAT Score based on Supervisor*\n",
    "\n",
    "For this we look to see if there are any significant differences in the CSAT score based on the supervisor of the associated agent"
   ]
  },
  {
   "cell_type": "code",
   "execution_count": 15,
   "metadata": {},
   "outputs": [],
   "source": [
    "temp_df = cust_satisfaction_df.pivot_table(index=['supervisor'], values=['csat_score']).reset_index()"
   ]
  },
  {
   "cell_type": "code",
   "execution_count": 16,
   "metadata": {},
   "outputs": [
    {
     "data": {
      "text/plain": [
       "4.365244769944317"
      ]
     },
     "execution_count": 16,
     "metadata": {},
     "output_type": "execute_result"
    }
   ],
   "source": [
    "temp_df.sort_values(by='csat_score', ascending=False).head(10)['csat_score'].mean()"
   ]
  },
  {
   "cell_type": "code",
   "execution_count": 17,
   "metadata": {},
   "outputs": [
    {
     "data": {
      "text/plain": [
       "4.02003806008935"
      ]
     },
     "execution_count": 17,
     "metadata": {},
     "output_type": "execute_result"
    }
   ],
   "source": [
    "temp_df.sort_values(by='csat_score', ascending=False).tail(10)['csat_score'].mean()"
   ]
  },
  {
   "cell_type": "markdown",
   "metadata": {},
   "source": [
    "Looking at the average CSAT scores for customer inquiries for agents supervised by supervisors in the top10 of customer satisfaction scores vs. the bottom 10, we see that there's a difference in nearly 35 bps between the the two tiers or groups of agents. This suggests that there may be some differences either in the quality of leadership or possibly there may be other differences between the agents on certain teams that is evident when we evaluate the performance based on the agents supervisor"
   ]
  },
  {
   "cell_type": "markdown",
   "metadata": {},
   "source": [
    "##### *3.4 Average CSAT Score based on Manager*\n"
   ]
  },
  {
   "cell_type": "code",
   "execution_count": 18,
   "metadata": {},
   "outputs": [
    {
     "data": {
      "text/html": [
       "<div>\n",
       "<style scoped>\n",
       "    .dataframe tbody tr th:only-of-type {\n",
       "        vertical-align: middle;\n",
       "    }\n",
       "\n",
       "    .dataframe tbody tr th {\n",
       "        vertical-align: top;\n",
       "    }\n",
       "\n",
       "    .dataframe thead th {\n",
       "        text-align: right;\n",
       "    }\n",
       "</style>\n",
       "<table border=\"1\" class=\"dataframe\">\n",
       "  <thead>\n",
       "    <tr style=\"text-align: right;\">\n",
       "      <th></th>\n",
       "      <th>manager</th>\n",
       "      <th>csat_score</th>\n",
       "    </tr>\n",
       "  </thead>\n",
       "  <tbody>\n",
       "    <tr>\n",
       "      <th>0</th>\n",
       "      <td>Emily Chen</td>\n",
       "      <td>4.379107</td>\n",
       "    </tr>\n",
       "    <tr>\n",
       "      <th>1</th>\n",
       "      <td>Jennifer Nguyen</td>\n",
       "      <td>4.158583</td>\n",
       "    </tr>\n",
       "    <tr>\n",
       "      <th>2</th>\n",
       "      <td>John Smith</td>\n",
       "      <td>4.270694</td>\n",
       "    </tr>\n",
       "    <tr>\n",
       "      <th>3</th>\n",
       "      <td>Michael Lee</td>\n",
       "      <td>4.259602</td>\n",
       "    </tr>\n",
       "    <tr>\n",
       "      <th>4</th>\n",
       "      <td>Olivia Tan</td>\n",
       "      <td>4.112193</td>\n",
       "    </tr>\n",
       "    <tr>\n",
       "      <th>5</th>\n",
       "      <td>William Kim</td>\n",
       "      <td>4.121032</td>\n",
       "    </tr>\n",
       "  </tbody>\n",
       "</table>\n",
       "</div>"
      ],
      "text/plain": [
       "           manager  csat_score\n",
       "0       Emily Chen    4.379107\n",
       "1  Jennifer Nguyen    4.158583\n",
       "2       John Smith    4.270694\n",
       "3      Michael Lee    4.259602\n",
       "4       Olivia Tan    4.112193\n",
       "5      William Kim    4.121032"
      ]
     },
     "execution_count": 18,
     "metadata": {},
     "output_type": "execute_result"
    }
   ],
   "source": [
    "cust_satisfaction_df.pivot_table(index=['manager'], values=['csat_score']).reset_index()"
   ]
  },
  {
   "cell_type": "markdown",
   "metadata": {},
   "source": [
    "##### *3.5 Average CSAT Score based on Tenure Bucket*\n"
   ]
  },
  {
   "cell_type": "code",
   "execution_count": 19,
   "metadata": {},
   "outputs": [
    {
     "data": {
      "text/html": [
       "<div>\n",
       "<style scoped>\n",
       "    .dataframe tbody tr th:only-of-type {\n",
       "        vertical-align: middle;\n",
       "    }\n",
       "\n",
       "    .dataframe tbody tr th {\n",
       "        vertical-align: top;\n",
       "    }\n",
       "\n",
       "    .dataframe thead th {\n",
       "        text-align: right;\n",
       "    }\n",
       "</style>\n",
       "<table border=\"1\" class=\"dataframe\">\n",
       "  <thead>\n",
       "    <tr style=\"text-align: right;\">\n",
       "      <th></th>\n",
       "      <th>tenure_bucket</th>\n",
       "      <th>csat_score</th>\n",
       "    </tr>\n",
       "  </thead>\n",
       "  <tbody>\n",
       "    <tr>\n",
       "      <th>0</th>\n",
       "      <td>0-30</td>\n",
       "      <td>4.258791</td>\n",
       "    </tr>\n",
       "    <tr>\n",
       "      <th>1</th>\n",
       "      <td>31-60</td>\n",
       "      <td>4.296185</td>\n",
       "    </tr>\n",
       "    <tr>\n",
       "      <th>2</th>\n",
       "      <td>61-90</td>\n",
       "      <td>4.346536</td>\n",
       "    </tr>\n",
       "    <tr>\n",
       "      <th>3</th>\n",
       "      <td>&gt;90</td>\n",
       "      <td>4.273190</td>\n",
       "    </tr>\n",
       "    <tr>\n",
       "      <th>4</th>\n",
       "      <td>On Job Training</td>\n",
       "      <td>4.145242</td>\n",
       "    </tr>\n",
       "  </tbody>\n",
       "</table>\n",
       "</div>"
      ],
      "text/plain": [
       "     tenure_bucket  csat_score\n",
       "0             0-30    4.258791\n",
       "1            31-60    4.296185\n",
       "2            61-90    4.346536\n",
       "3              >90    4.273190\n",
       "4  On Job Training    4.145242"
      ]
     },
     "execution_count": 19,
     "metadata": {},
     "output_type": "execute_result"
    }
   ],
   "source": [
    "cust_satisfaction_df.pivot_table(index=['tenure_bucket'], values=['csat_score']).reset_index()"
   ]
  },
  {
   "cell_type": "markdown",
   "metadata": {},
   "source": [
    "When we sort the csat score based on agent tenure, we see that CSAT Scores are lower amongst longer tenured agents vs. those who have been there between 31 and 90 days. I suspect that this is most likely due to the fact that the scores are maybe brought down by agents who have much longer tenures than 90-days, and who may be more apathetic. Additionally, it's likely that agents are on their best behavior during their 90-day probationary period, and then become a bit more relaxed once they past this threshold"
   ]
  },
  {
   "cell_type": "code",
   "execution_count": 20,
   "metadata": {},
   "outputs": [
    {
     "data": {
      "text/html": [
       "<div>\n",
       "<style scoped>\n",
       "    .dataframe tbody tr th:only-of-type {\n",
       "        vertical-align: middle;\n",
       "    }\n",
       "\n",
       "    .dataframe tbody tr th {\n",
       "        vertical-align: top;\n",
       "    }\n",
       "\n",
       "    .dataframe thead th {\n",
       "        text-align: right;\n",
       "    }\n",
       "</style>\n",
       "<table border=\"1\" class=\"dataframe\">\n",
       "  <thead>\n",
       "    <tr style=\"text-align: right;\">\n",
       "      <th></th>\n",
       "      <th>tenure_bucket</th>\n",
       "      <th>csat_score</th>\n",
       "    </tr>\n",
       "  </thead>\n",
       "  <tbody>\n",
       "    <tr>\n",
       "      <th>2</th>\n",
       "      <td>61-90</td>\n",
       "      <td>4.346536</td>\n",
       "    </tr>\n",
       "    <tr>\n",
       "      <th>1</th>\n",
       "      <td>31-60</td>\n",
       "      <td>4.296185</td>\n",
       "    </tr>\n",
       "    <tr>\n",
       "      <th>3</th>\n",
       "      <td>&gt;90</td>\n",
       "      <td>4.273190</td>\n",
       "    </tr>\n",
       "    <tr>\n",
       "      <th>0</th>\n",
       "      <td>0-30</td>\n",
       "      <td>4.258791</td>\n",
       "    </tr>\n",
       "    <tr>\n",
       "      <th>4</th>\n",
       "      <td>On Job Training</td>\n",
       "      <td>4.145242</td>\n",
       "    </tr>\n",
       "  </tbody>\n",
       "</table>\n",
       "</div>"
      ],
      "text/plain": [
       "     tenure_bucket  csat_score\n",
       "2            61-90    4.346536\n",
       "1            31-60    4.296185\n",
       "3              >90    4.273190\n",
       "0             0-30    4.258791\n",
       "4  On Job Training    4.145242"
      ]
     },
     "execution_count": 20,
     "metadata": {},
     "output_type": "execute_result"
    }
   ],
   "source": [
    "cust_satisfaction_df.pivot_table(index=['tenure_bucket'], values=['csat_score']).\\\n",
    "    reset_index().sort_values(by='csat_score', ascending=False)"
   ]
  },
  {
   "cell_type": "markdown",
   "metadata": {},
   "source": [
    "##### *3.6 Average CSAT Score based on Agent Shift*\n"
   ]
  },
  {
   "cell_type": "code",
   "execution_count": 21,
   "metadata": {},
   "outputs": [
    {
     "data": {
      "text/html": [
       "<div>\n",
       "<style scoped>\n",
       "    .dataframe tbody tr th:only-of-type {\n",
       "        vertical-align: middle;\n",
       "    }\n",
       "\n",
       "    .dataframe tbody tr th {\n",
       "        vertical-align: top;\n",
       "    }\n",
       "\n",
       "    .dataframe thead th {\n",
       "        text-align: right;\n",
       "    }\n",
       "</style>\n",
       "<table border=\"1\" class=\"dataframe\">\n",
       "  <thead>\n",
       "    <tr style=\"text-align: right;\">\n",
       "      <th></th>\n",
       "      <th>agent_shift</th>\n",
       "      <th>csat_score</th>\n",
       "    </tr>\n",
       "  </thead>\n",
       "  <tbody>\n",
       "    <tr>\n",
       "      <th>0</th>\n",
       "      <td>Afternoon</td>\n",
       "      <td>4.292295</td>\n",
       "    </tr>\n",
       "    <tr>\n",
       "      <th>1</th>\n",
       "      <td>Evening</td>\n",
       "      <td>4.276361</td>\n",
       "    </tr>\n",
       "    <tr>\n",
       "      <th>2</th>\n",
       "      <td>Morning</td>\n",
       "      <td>4.189495</td>\n",
       "    </tr>\n",
       "    <tr>\n",
       "      <th>3</th>\n",
       "      <td>Night</td>\n",
       "      <td>4.288754</td>\n",
       "    </tr>\n",
       "    <tr>\n",
       "      <th>4</th>\n",
       "      <td>Split</td>\n",
       "      <td>4.427357</td>\n",
       "    </tr>\n",
       "  </tbody>\n",
       "</table>\n",
       "</div>"
      ],
      "text/plain": [
       "  agent_shift  csat_score\n",
       "0   Afternoon    4.292295\n",
       "1     Evening    4.276361\n",
       "2     Morning    4.189495\n",
       "3       Night    4.288754\n",
       "4       Split    4.427357"
      ]
     },
     "execution_count": 21,
     "metadata": {},
     "output_type": "execute_result"
    }
   ],
   "source": [
    "cust_satisfaction_df.pivot_table(index=['agent_shift'], values=['csat_score']).reset_index()"
   ]
  },
  {
   "cell_type": "markdown",
   "metadata": {},
   "source": [
    "It makes sense that the scores would be a bit lower in the morning compared to other shifts. This is probably a function of the agents being tired and the customers themselves are probably a bit more agitated and frustrated if they are having to spend their mornings dealing with customer service matters. "
   ]
  },
  {
   "cell_type": "code",
   "execution_count": 22,
   "metadata": {},
   "outputs": [
    {
     "data": {
      "text/html": [
       "<div>\n",
       "<style scoped>\n",
       "    .dataframe tbody tr th:only-of-type {\n",
       "        vertical-align: middle;\n",
       "    }\n",
       "\n",
       "    .dataframe tbody tr th {\n",
       "        vertical-align: top;\n",
       "    }\n",
       "\n",
       "    .dataframe thead th {\n",
       "        text-align: right;\n",
       "    }\n",
       "</style>\n",
       "<table border=\"1\" class=\"dataframe\">\n",
       "  <thead>\n",
       "    <tr style=\"text-align: right;\">\n",
       "      <th></th>\n",
       "      <th>agent_shift</th>\n",
       "      <th>csat_score</th>\n",
       "    </tr>\n",
       "  </thead>\n",
       "  <tbody>\n",
       "    <tr>\n",
       "      <th>4</th>\n",
       "      <td>Split</td>\n",
       "      <td>4.427357</td>\n",
       "    </tr>\n",
       "    <tr>\n",
       "      <th>0</th>\n",
       "      <td>Afternoon</td>\n",
       "      <td>4.292295</td>\n",
       "    </tr>\n",
       "    <tr>\n",
       "      <th>3</th>\n",
       "      <td>Night</td>\n",
       "      <td>4.288754</td>\n",
       "    </tr>\n",
       "    <tr>\n",
       "      <th>1</th>\n",
       "      <td>Evening</td>\n",
       "      <td>4.276361</td>\n",
       "    </tr>\n",
       "    <tr>\n",
       "      <th>2</th>\n",
       "      <td>Morning</td>\n",
       "      <td>4.189495</td>\n",
       "    </tr>\n",
       "  </tbody>\n",
       "</table>\n",
       "</div>"
      ],
      "text/plain": [
       "  agent_shift  csat_score\n",
       "4       Split    4.427357\n",
       "0   Afternoon    4.292295\n",
       "3       Night    4.288754\n",
       "1     Evening    4.276361\n",
       "2     Morning    4.189495"
      ]
     },
     "execution_count": 22,
     "metadata": {},
     "output_type": "execute_result"
    }
   ],
   "source": [
    "cust_satisfaction_df.pivot_table(index=['agent_shift'], values=['csat_score']).\\\n",
    "    reset_index().sort_values(by='csat_score', ascending=False)"
   ]
  },
  {
   "cell_type": "markdown",
   "metadata": {},
   "source": [
    "In addition to evaluating differences in the CSAT score based on different quualitative factors, I think it's also worth evaluating if there are certain responses that are more prevelant than others and if there are certain shifts that receive more calls then others. This information could be helpful to the organization to evaluate staffing needs as well as to identify if there are any particular product issues or categories that generate more complaints"
   ]
  },
  {
   "cell_type": "markdown",
   "metadata": {},
   "source": [
    "##### *3.6 Number of Issues by Category*"
   ]
  },
  {
   "cell_type": "code",
   "execution_count": 23,
   "metadata": {},
   "outputs": [],
   "source": [
    "temp_df = pd.DataFrame(cust_satisfaction_df['category'].value_counts()).reset_index()"
   ]
  },
  {
   "cell_type": "code",
   "execution_count": 24,
   "metadata": {},
   "outputs": [],
   "source": [
    "total_issues = temp_df['count'].sum()"
   ]
  },
  {
   "cell_type": "code",
   "execution_count": 25,
   "metadata": {},
   "outputs": [],
   "source": [
    "temp_df['pct_total'] = temp_df.apply(lambda x: x['count']/total_issues, axis=1)"
   ]
  },
  {
   "cell_type": "code",
   "execution_count": 26,
   "metadata": {},
   "outputs": [],
   "source": [
    "temp_df['cum_pct'] = temp_df['pct_total'].cumsum()"
   ]
  },
  {
   "cell_type": "code",
   "execution_count": 27,
   "metadata": {},
   "outputs": [
    {
     "data": {
      "text/html": [
       "<div>\n",
       "<style scoped>\n",
       "    .dataframe tbody tr th:only-of-type {\n",
       "        vertical-align: middle;\n",
       "    }\n",
       "\n",
       "    .dataframe tbody tr th {\n",
       "        vertical-align: top;\n",
       "    }\n",
       "\n",
       "    .dataframe thead th {\n",
       "        text-align: right;\n",
       "    }\n",
       "</style>\n",
       "<table border=\"1\" class=\"dataframe\">\n",
       "  <thead>\n",
       "    <tr style=\"text-align: right;\">\n",
       "      <th></th>\n",
       "      <th>category</th>\n",
       "      <th>count</th>\n",
       "      <th>pct_total</th>\n",
       "      <th>cum_pct</th>\n",
       "    </tr>\n",
       "  </thead>\n",
       "  <tbody>\n",
       "    <tr>\n",
       "      <th>11</th>\n",
       "      <td>Onboarding related</td>\n",
       "      <td>65</td>\n",
       "      <td>0.000757</td>\n",
       "      <td>1.000000</td>\n",
       "    </tr>\n",
       "    <tr>\n",
       "      <th>10</th>\n",
       "      <td>App/website</td>\n",
       "      <td>84</td>\n",
       "      <td>0.000978</td>\n",
       "      <td>0.999243</td>\n",
       "    </tr>\n",
       "    <tr>\n",
       "      <th>9</th>\n",
       "      <td>Others</td>\n",
       "      <td>99</td>\n",
       "      <td>0.001152</td>\n",
       "      <td>0.998266</td>\n",
       "    </tr>\n",
       "    <tr>\n",
       "      <th>8</th>\n",
       "      <td>Offers &amp; Cashback</td>\n",
       "      <td>480</td>\n",
       "      <td>0.005587</td>\n",
       "      <td>0.997113</td>\n",
       "    </tr>\n",
       "    <tr>\n",
       "      <th>7</th>\n",
       "      <td>Cancellation</td>\n",
       "      <td>2212</td>\n",
       "      <td>0.025749</td>\n",
       "      <td>0.991526</td>\n",
       "    </tr>\n",
       "    <tr>\n",
       "      <th>6</th>\n",
       "      <td>Feedback</td>\n",
       "      <td>2294</td>\n",
       "      <td>0.026703</td>\n",
       "      <td>0.965777</td>\n",
       "    </tr>\n",
       "    <tr>\n",
       "      <th>5</th>\n",
       "      <td>Payments related</td>\n",
       "      <td>2327</td>\n",
       "      <td>0.027087</td>\n",
       "      <td>0.939074</td>\n",
       "    </tr>\n",
       "    <tr>\n",
       "      <th>4</th>\n",
       "      <td>Shopzilla Related</td>\n",
       "      <td>2792</td>\n",
       "      <td>0.032500</td>\n",
       "      <td>0.911986</td>\n",
       "    </tr>\n",
       "    <tr>\n",
       "      <th>3</th>\n",
       "      <td>Product Queries</td>\n",
       "      <td>3692</td>\n",
       "      <td>0.042977</td>\n",
       "      <td>0.879486</td>\n",
       "    </tr>\n",
       "    <tr>\n",
       "      <th>2</th>\n",
       "      <td>Refund Related</td>\n",
       "      <td>4550</td>\n",
       "      <td>0.052964</td>\n",
       "      <td>0.836509</td>\n",
       "    </tr>\n",
       "    <tr>\n",
       "      <th>1</th>\n",
       "      <td>Order Related</td>\n",
       "      <td>23215</td>\n",
       "      <td>0.270234</td>\n",
       "      <td>0.783545</td>\n",
       "    </tr>\n",
       "    <tr>\n",
       "      <th>0</th>\n",
       "      <td>Returns</td>\n",
       "      <td>44097</td>\n",
       "      <td>0.513311</td>\n",
       "      <td>0.513311</td>\n",
       "    </tr>\n",
       "  </tbody>\n",
       "</table>\n",
       "</div>"
      ],
      "text/plain": [
       "              category  count  pct_total   cum_pct\n",
       "11  Onboarding related     65   0.000757  1.000000\n",
       "10         App/website     84   0.000978  0.999243\n",
       "9               Others     99   0.001152  0.998266\n",
       "8    Offers & Cashback    480   0.005587  0.997113\n",
       "7         Cancellation   2212   0.025749  0.991526\n",
       "6             Feedback   2294   0.026703  0.965777\n",
       "5     Payments related   2327   0.027087  0.939074\n",
       "4    Shopzilla Related   2792   0.032500  0.911986\n",
       "3      Product Queries   3692   0.042977  0.879486\n",
       "2       Refund Related   4550   0.052964  0.836509\n",
       "1        Order Related  23215   0.270234  0.783545\n",
       "0              Returns  44097   0.513311  0.513311"
      ]
     },
     "execution_count": 27,
     "metadata": {},
     "output_type": "execute_result"
    }
   ],
   "source": [
    "temp_df.sort_values(by='pct_total')"
   ]
  },
  {
   "cell_type": "code",
   "execution_count": 28,
   "metadata": {},
   "outputs": [
    {
     "data": {
      "text/plain": [
       "0                Returns\n",
       "1          Order Related\n",
       "2         Refund Related\n",
       "3        Product Queries\n",
       "4      Shopzilla Related\n",
       "5       Payments related\n",
       "6               Feedback\n",
       "7           Cancellation\n",
       "8      Offers & Cashback\n",
       "9                 Others\n",
       "10           App/website\n",
       "11    Onboarding related\n",
       "Name: category, dtype: object"
      ]
     },
     "execution_count": 28,
     "metadata": {},
     "output_type": "execute_result"
    }
   ],
   "source": [
    "temp_df.category"
   ]
  },
  {
   "cell_type": "code",
   "execution_count": 29,
   "metadata": {},
   "outputs": [],
   "source": [
    "temp_df['sorted_cats'] = pd.Categorical(temp_df.category, pd.unique(temp_df.sort_values(by='pct_total').category),ordered=True)"
   ]
  },
  {
   "cell_type": "code",
   "execution_count": 30,
   "metadata": {},
   "outputs": [
    {
     "data": {
      "text/html": [
       "<div>\n",
       "<style scoped>\n",
       "    .dataframe tbody tr th:only-of-type {\n",
       "        vertical-align: middle;\n",
       "    }\n",
       "\n",
       "    .dataframe tbody tr th {\n",
       "        vertical-align: top;\n",
       "    }\n",
       "\n",
       "    .dataframe thead th {\n",
       "        text-align: right;\n",
       "    }\n",
       "</style>\n",
       "<table border=\"1\" class=\"dataframe\">\n",
       "  <thead>\n",
       "    <tr style=\"text-align: right;\">\n",
       "      <th></th>\n",
       "      <th>category</th>\n",
       "      <th>count</th>\n",
       "      <th>pct_total</th>\n",
       "      <th>cum_pct</th>\n",
       "      <th>sorted_cats</th>\n",
       "    </tr>\n",
       "  </thead>\n",
       "  <tbody>\n",
       "    <tr>\n",
       "      <th>0</th>\n",
       "      <td>Returns</td>\n",
       "      <td>44097</td>\n",
       "      <td>0.513311</td>\n",
       "      <td>0.513311</td>\n",
       "      <td>Returns</td>\n",
       "    </tr>\n",
       "    <tr>\n",
       "      <th>1</th>\n",
       "      <td>Order Related</td>\n",
       "      <td>23215</td>\n",
       "      <td>0.270234</td>\n",
       "      <td>0.783545</td>\n",
       "      <td>Order Related</td>\n",
       "    </tr>\n",
       "    <tr>\n",
       "      <th>2</th>\n",
       "      <td>Refund Related</td>\n",
       "      <td>4550</td>\n",
       "      <td>0.052964</td>\n",
       "      <td>0.836509</td>\n",
       "      <td>Refund Related</td>\n",
       "    </tr>\n",
       "    <tr>\n",
       "      <th>3</th>\n",
       "      <td>Product Queries</td>\n",
       "      <td>3692</td>\n",
       "      <td>0.042977</td>\n",
       "      <td>0.879486</td>\n",
       "      <td>Product Queries</td>\n",
       "    </tr>\n",
       "    <tr>\n",
       "      <th>4</th>\n",
       "      <td>Shopzilla Related</td>\n",
       "      <td>2792</td>\n",
       "      <td>0.032500</td>\n",
       "      <td>0.911986</td>\n",
       "      <td>Shopzilla Related</td>\n",
       "    </tr>\n",
       "    <tr>\n",
       "      <th>5</th>\n",
       "      <td>Payments related</td>\n",
       "      <td>2327</td>\n",
       "      <td>0.027087</td>\n",
       "      <td>0.939074</td>\n",
       "      <td>Payments related</td>\n",
       "    </tr>\n",
       "    <tr>\n",
       "      <th>6</th>\n",
       "      <td>Feedback</td>\n",
       "      <td>2294</td>\n",
       "      <td>0.026703</td>\n",
       "      <td>0.965777</td>\n",
       "      <td>Feedback</td>\n",
       "    </tr>\n",
       "    <tr>\n",
       "      <th>7</th>\n",
       "      <td>Cancellation</td>\n",
       "      <td>2212</td>\n",
       "      <td>0.025749</td>\n",
       "      <td>0.991526</td>\n",
       "      <td>Cancellation</td>\n",
       "    </tr>\n",
       "    <tr>\n",
       "      <th>8</th>\n",
       "      <td>Offers &amp; Cashback</td>\n",
       "      <td>480</td>\n",
       "      <td>0.005587</td>\n",
       "      <td>0.997113</td>\n",
       "      <td>Offers &amp; Cashback</td>\n",
       "    </tr>\n",
       "    <tr>\n",
       "      <th>9</th>\n",
       "      <td>Others</td>\n",
       "      <td>99</td>\n",
       "      <td>0.001152</td>\n",
       "      <td>0.998266</td>\n",
       "      <td>Others</td>\n",
       "    </tr>\n",
       "    <tr>\n",
       "      <th>10</th>\n",
       "      <td>App/website</td>\n",
       "      <td>84</td>\n",
       "      <td>0.000978</td>\n",
       "      <td>0.999243</td>\n",
       "      <td>App/website</td>\n",
       "    </tr>\n",
       "    <tr>\n",
       "      <th>11</th>\n",
       "      <td>Onboarding related</td>\n",
       "      <td>65</td>\n",
       "      <td>0.000757</td>\n",
       "      <td>1.000000</td>\n",
       "      <td>Onboarding related</td>\n",
       "    </tr>\n",
       "  </tbody>\n",
       "</table>\n",
       "</div>"
      ],
      "text/plain": [
       "              category  count  pct_total   cum_pct         sorted_cats\n",
       "0              Returns  44097   0.513311  0.513311             Returns\n",
       "1        Order Related  23215   0.270234  0.783545       Order Related\n",
       "2       Refund Related   4550   0.052964  0.836509      Refund Related\n",
       "3      Product Queries   3692   0.042977  0.879486     Product Queries\n",
       "4    Shopzilla Related   2792   0.032500  0.911986   Shopzilla Related\n",
       "5     Payments related   2327   0.027087  0.939074    Payments related\n",
       "6             Feedback   2294   0.026703  0.965777            Feedback\n",
       "7         Cancellation   2212   0.025749  0.991526        Cancellation\n",
       "8    Offers & Cashback    480   0.005587  0.997113   Offers & Cashback\n",
       "9               Others     99   0.001152  0.998266              Others\n",
       "10         App/website     84   0.000978  0.999243         App/website\n",
       "11  Onboarding related     65   0.000757  1.000000  Onboarding related"
      ]
     },
     "execution_count": 30,
     "metadata": {},
     "output_type": "execute_result"
    }
   ],
   "source": [
    "temp_df"
   ]
  },
  {
   "cell_type": "code",
   "execution_count": 31,
   "metadata": {},
   "outputs": [
    {
     "data": {
      "image/png": "[encoded data removed]"
     },
     "metadata": {
      "image/png": {
       "height": 600,
       "width": 800
      }
     },
     "output_type": "display_data"
    }
   ],
   "source": [
    "(\n",
    "    ggplot(temp_df)\n",
    "    + aes(x='sorted_cats',y='pct_total', fill='sorted_cats')\n",
    "    + geom_bar(stat='identity')\n",
    "    + theme(axis_text_x=element_text(rotation=90), figure_size=(8,6))\n",
    "    + labs(title=\"Number of Customer Inquiries by Category\", x='Category',y='Percent of Total Inquiries')\n",
    ")"
   ]
  },
  {
   "cell_type": "markdown",
   "metadata": {},
   "source": [
    "Basedd on our data, we see that the overwhelming number of customer inquiries are in the category Returns and Order Related. These two categories account for 80% of all customer inquiries"
   ]
  },
  {
   "cell_type": "markdown",
   "metadata": {},
   "source": [
    "##### *3.7 Number of Issues by Shift*"
   ]
  },
  {
   "cell_type": "code",
   "execution_count": 32,
   "metadata": {},
   "outputs": [
    {
     "data": {
      "text/html": [
       "<div>\n",
       "<style scoped>\n",
       "    .dataframe tbody tr th:only-of-type {\n",
       "        vertical-align: middle;\n",
       "    }\n",
       "\n",
       "    .dataframe tbody tr th {\n",
       "        vertical-align: top;\n",
       "    }\n",
       "\n",
       "    .dataframe thead th {\n",
       "        text-align: right;\n",
       "    }\n",
       "</style>\n",
       "<table border=\"1\" class=\"dataframe\">\n",
       "  <thead>\n",
       "    <tr style=\"text-align: right;\">\n",
       "      <th></th>\n",
       "      <th>agent_shift</th>\n",
       "      <th>count</th>\n",
       "    </tr>\n",
       "  </thead>\n",
       "  <tbody>\n",
       "    <tr>\n",
       "      <th>0</th>\n",
       "      <td>Morning</td>\n",
       "      <td>41426</td>\n",
       "    </tr>\n",
       "    <tr>\n",
       "      <th>1</th>\n",
       "      <td>Evening</td>\n",
       "      <td>33677</td>\n",
       "    </tr>\n",
       "    <tr>\n",
       "      <th>2</th>\n",
       "      <td>Afternoon</td>\n",
       "      <td>5840</td>\n",
       "    </tr>\n",
       "    <tr>\n",
       "      <th>3</th>\n",
       "      <td>Split</td>\n",
       "      <td>3648</td>\n",
       "    </tr>\n",
       "    <tr>\n",
       "      <th>4</th>\n",
       "      <td>Night</td>\n",
       "      <td>1316</td>\n",
       "    </tr>\n",
       "  </tbody>\n",
       "</table>\n",
       "</div>"
      ],
      "text/plain": [
       "  agent_shift  count\n",
       "0     Morning  41426\n",
       "1     Evening  33677\n",
       "2   Afternoon   5840\n",
       "3       Split   3648\n",
       "4       Night   1316"
      ]
     },
     "execution_count": 32,
     "metadata": {},
     "output_type": "execute_result"
    }
   ],
   "source": [
    "pd.DataFrame(cust_satisfaction_df['agent_shift'].value_counts()).reset_index()"
   ]
  },
  {
   "cell_type": "markdown",
   "metadata": {},
   "source": [
    "One final set of analysis is to see the distribution of the time it takes to resolve an issue in days and in minutes"
   ]
  },
  {
   "cell_type": "markdown",
   "metadata": {},
   "source": [
    "##### 3.8 Distribution of Issues by Resolution Time"
   ]
  },
  {
   "cell_type": "code",
   "execution_count": 33,
   "metadata": {},
   "outputs": [],
   "source": [
    "temp_df = cust_satisfaction_df.loc[cust_satisfaction_df['response_time_days'] >= 0].copy()\n",
    "temp_df['response_time_days'] = temp_df['response_time_days'].astype('category')"
   ]
  },
  {
   "cell_type": "code",
   "execution_count": 34,
   "metadata": {},
   "outputs": [
    {
     "data": {
      "image/png": "[encoded data removed]"
     },
     "metadata": {
      "image/png": {
       "height": 480,
       "width": 640
      }
     },
     "output_type": "display_data"
    }
   ],
   "source": [
    "\n",
    "(\n",
    "    ggplot(temp_df)\n",
    "    + aes(x='response_time_days', fill='response_time_days')\n",
    "    + geom_bar() \n",
    "    + labs(title='Count of Response Times by Days to Response', y='Response Time Days')\n",
    ")"
   ]
  },
  {
   "cell_type": "markdown",
   "metadata": {},
   "source": [
    "We see that there's a dramatic change in the csat score when we go from a same-day response time to a longer period."
   ]
  },
  {
   "cell_type": "code",
   "execution_count": 35,
   "metadata": {},
   "outputs": [],
   "source": [
    "temp_df2 = temp_df.pivot_table(index='response_time_days', values=['csat_score']).reset_index().copy()"
   ]
  },
  {
   "cell_type": "code",
   "execution_count": 36,
   "metadata": {},
   "outputs": [
    {
     "data": {
      "text/html": [
       "<div>\n",
       "<style scoped>\n",
       "    .dataframe tbody tr th:only-of-type {\n",
       "        vertical-align: middle;\n",
       "    }\n",
       "\n",
       "    .dataframe tbody tr th {\n",
       "        vertical-align: top;\n",
       "    }\n",
       "\n",
       "    .dataframe thead th {\n",
       "        text-align: right;\n",
       "    }\n",
       "</style>\n",
       "<table border=\"1\" class=\"dataframe\">\n",
       "  <thead>\n",
       "    <tr style=\"text-align: right;\">\n",
       "      <th></th>\n",
       "      <th>response_time_days</th>\n",
       "      <th>csat_score</th>\n",
       "    </tr>\n",
       "  </thead>\n",
       "  <tbody>\n",
       "    <tr>\n",
       "      <th>0</th>\n",
       "      <td>0</td>\n",
       "      <td>4.267028</td>\n",
       "    </tr>\n",
       "    <tr>\n",
       "      <th>1</th>\n",
       "      <td>1</td>\n",
       "      <td>3.477152</td>\n",
       "    </tr>\n",
       "    <tr>\n",
       "      <th>2</th>\n",
       "      <td>2</td>\n",
       "      <td>3.278426</td>\n",
       "    </tr>\n",
       "    <tr>\n",
       "      <th>3</th>\n",
       "      <td>3</td>\n",
       "      <td>3.150160</td>\n",
       "    </tr>\n",
       "  </tbody>\n",
       "</table>\n",
       "</div>"
      ],
      "text/plain": [
       "  response_time_days  csat_score\n",
       "0                  0    4.267028\n",
       "1                  1    3.477152\n",
       "2                  2    3.278426\n",
       "3                  3    3.150160"
      ]
     },
     "execution_count": 36,
     "metadata": {},
     "output_type": "execute_result"
    }
   ],
   "source": [
    "temp_df2"
   ]
  },
  {
   "cell_type": "code",
   "execution_count": 37,
   "metadata": {},
   "outputs": [
    {
     "data": {
      "image/png": "[encoded data removed]"
     },
     "metadata": {
      "image/png": {
       "height": 480,
       "width": 640
      }
     },
     "output_type": "display_data"
    }
   ],
   "source": [
    "(\n",
    "    ggplot(temp_df2)\n",
    "    + aes(x='response_time_days', y='csat_score', fill='response_time_days')\n",
    "    + geom_bar(stat='identity') \n",
    "    + labs(title=\"Average CSAT Score based on Response Time Days\", x='Response Time Days', y='Average CSAT Score')\n",
    ")"
   ]
  },
  {
   "cell_type": "markdown",
   "metadata": {},
   "source": [
    "We see that the Morning shift is a heavy period for customer inquiries, which makes more sense as to why we would see that the customer satisfaction scores would be lower during that period"
   ]
  },
  {
   "cell_type": "markdown",
   "metadata": {},
   "source": [
    "#### **4. Machine Learning**\n",
    "\n",
    "\n",
    "Our pre-processing is focused on simplifying our dataframe to only include the features that I feel are actually relevant to the problem of predicting the CSAT score. \n",
    "For the machine learning portion, we are going to build a decision tree to predict the CSAT Score. Before we do this, we'll need to do some pre-processing to develop a data set that is best equipped to handle this request"
   ]
  },
  {
   "cell_type": "code",
   "execution_count": 38,
   "metadata": {},
   "outputs": [
    {
     "data": {
      "text/html": [
       "<div>\n",
       "<style scoped>\n",
       "    .dataframe tbody tr th:only-of-type {\n",
       "        vertical-align: middle;\n",
       "    }\n",
       "\n",
       "    .dataframe tbody tr th {\n",
       "        vertical-align: top;\n",
       "    }\n",
       "\n",
       "    .dataframe thead th {\n",
       "        text-align: right;\n",
       "    }\n",
       "</style>\n",
       "<table border=\"1\" class=\"dataframe\">\n",
       "  <thead>\n",
       "    <tr style=\"text-align: right;\">\n",
       "      <th></th>\n",
       "      <th>unique_id</th>\n",
       "      <th>channel_name</th>\n",
       "      <th>category</th>\n",
       "      <th>sub_category</th>\n",
       "      <th>customer_remarks</th>\n",
       "      <th>order_id</th>\n",
       "      <th>order_date_time</th>\n",
       "      <th>issue_reported_at</th>\n",
       "      <th>issue_responded</th>\n",
       "      <th>survey_response_date</th>\n",
       "      <th>...</th>\n",
       "      <th>supervisor</th>\n",
       "      <th>manager</th>\n",
       "      <th>tenure_bucket</th>\n",
       "      <th>agent_shift</th>\n",
       "      <th>csat_score</th>\n",
       "      <th>order_date</th>\n",
       "      <th>response_date</th>\n",
       "      <th>issue_date</th>\n",
       "      <th>response_time_days</th>\n",
       "      <th>response_time_minutes</th>\n",
       "    </tr>\n",
       "  </thead>\n",
       "  <tbody>\n",
       "    <tr>\n",
       "      <th>0</th>\n",
       "      <td>7e9ae164-6a8b-4521-a2d4-58f7c9fff13f</td>\n",
       "      <td>Outcall</td>\n",
       "      <td>Product Queries</td>\n",
       "      <td>Life Insurance</td>\n",
       "      <td>NaN</td>\n",
       "      <td>c27c9bb4-fa36-4140-9f1f-21009254ffdb</td>\n",
       "      <td>NaN</td>\n",
       "      <td>01/08/2023 11:13</td>\n",
       "      <td>01/08/2023 11:47</td>\n",
       "      <td>01-Aug-23</td>\n",
       "      <td>...</td>\n",
       "      <td>Mason Gupta</td>\n",
       "      <td>Jennifer Nguyen</td>\n",
       "      <td>On Job Training</td>\n",
       "      <td>Morning</td>\n",
       "      <td>5</td>\n",
       "      <td>NaT</td>\n",
       "      <td>2023-08-01 11:47:00</td>\n",
       "      <td>2023-08-01 11:13:00</td>\n",
       "      <td>0</td>\n",
       "      <td>34.0</td>\n",
       "    </tr>\n",
       "    <tr>\n",
       "      <th>1</th>\n",
       "      <td>b07ec1b0-f376-43b6-86df-ec03da3b2e16</td>\n",
       "      <td>Outcall</td>\n",
       "      <td>Product Queries</td>\n",
       "      <td>Product Specific Information</td>\n",
       "      <td>NaN</td>\n",
       "      <td>d406b0c7-ce17-4654-b9de-f08d421254bd</td>\n",
       "      <td>NaN</td>\n",
       "      <td>01/08/2023 12:52</td>\n",
       "      <td>01/08/2023 12:54</td>\n",
       "      <td>01-Aug-23</td>\n",
       "      <td>...</td>\n",
       "      <td>Dylan Kim</td>\n",
       "      <td>Michael Lee</td>\n",
       "      <td>&gt;90</td>\n",
       "      <td>Morning</td>\n",
       "      <td>5</td>\n",
       "      <td>NaT</td>\n",
       "      <td>2023-08-01 12:54:00</td>\n",
       "      <td>2023-08-01 12:52:00</td>\n",
       "      <td>0</td>\n",
       "      <td>2.0</td>\n",
       "    </tr>\n",
       "    <tr>\n",
       "      <th>2</th>\n",
       "      <td>200814dd-27c7-4149-ba2b-bd3af3092880</td>\n",
       "      <td>Inbound</td>\n",
       "      <td>Order Related</td>\n",
       "      <td>Installation/demo</td>\n",
       "      <td>NaN</td>\n",
       "      <td>c273368d-b961-44cb-beaf-62d6fd6c00d5</td>\n",
       "      <td>NaN</td>\n",
       "      <td>01/08/2023 20:16</td>\n",
       "      <td>01/08/2023 20:38</td>\n",
       "      <td>01-Aug-23</td>\n",
       "      <td>...</td>\n",
       "      <td>Jackson Park</td>\n",
       "      <td>William Kim</td>\n",
       "      <td>On Job Training</td>\n",
       "      <td>Evening</td>\n",
       "      <td>5</td>\n",
       "      <td>NaT</td>\n",
       "      <td>2023-08-01 20:38:00</td>\n",
       "      <td>2023-08-01 20:16:00</td>\n",
       "      <td>0</td>\n",
       "      <td>22.0</td>\n",
       "    </tr>\n",
       "    <tr>\n",
       "      <th>3</th>\n",
       "      <td>eb0d3e53-c1ca-42d3-8486-e42c8d622135</td>\n",
       "      <td>Inbound</td>\n",
       "      <td>Returns</td>\n",
       "      <td>Reverse Pickup Enquiry</td>\n",
       "      <td>NaN</td>\n",
       "      <td>5aed0059-55a4-4ec6-bb54-97942092020a</td>\n",
       "      <td>NaN</td>\n",
       "      <td>01/08/2023 20:56</td>\n",
       "      <td>01/08/2023 21:16</td>\n",
       "      <td>01-Aug-23</td>\n",
       "      <td>...</td>\n",
       "      <td>Olivia Wang</td>\n",
       "      <td>John Smith</td>\n",
       "      <td>&gt;90</td>\n",
       "      <td>Evening</td>\n",
       "      <td>5</td>\n",
       "      <td>NaT</td>\n",
       "      <td>2023-08-01 21:16:00</td>\n",
       "      <td>2023-08-01 20:56:00</td>\n",
       "      <td>0</td>\n",
       "      <td>20.0</td>\n",
       "    </tr>\n",
       "    <tr>\n",
       "      <th>4</th>\n",
       "      <td>ba903143-1e54-406c-b969-46c52f92e5df</td>\n",
       "      <td>Inbound</td>\n",
       "      <td>Cancellation</td>\n",
       "      <td>Not Needed</td>\n",
       "      <td>NaN</td>\n",
       "      <td>e8bed5a9-6933-4aff-9dc6-ccefd7dcde59</td>\n",
       "      <td>NaN</td>\n",
       "      <td>01/08/2023 10:30</td>\n",
       "      <td>01/08/2023 10:32</td>\n",
       "      <td>01-Aug-23</td>\n",
       "      <td>...</td>\n",
       "      <td>Austin Johnson</td>\n",
       "      <td>Michael Lee</td>\n",
       "      <td>0-30</td>\n",
       "      <td>Morning</td>\n",
       "      <td>5</td>\n",
       "      <td>NaT</td>\n",
       "      <td>2023-08-01 10:32:00</td>\n",
       "      <td>2023-08-01 10:30:00</td>\n",
       "      <td>0</td>\n",
       "      <td>2.0</td>\n",
       "    </tr>\n",
       "  </tbody>\n",
       "</table>\n",
       "<p>5 rows × 25 columns</p>\n",
       "</div>"
      ],
      "text/plain": [
       "                              unique_id channel_name         category  \\\n",
       "0  7e9ae164-6a8b-4521-a2d4-58f7c9fff13f      Outcall  Product Queries   \n",
       "1  b07ec1b0-f376-43b6-86df-ec03da3b2e16      Outcall  Product Queries   \n",
       "2  200814dd-27c7-4149-ba2b-bd3af3092880      Inbound    Order Related   \n",
       "3  eb0d3e53-c1ca-42d3-8486-e42c8d622135      Inbound          Returns   \n",
       "4  ba903143-1e54-406c-b969-46c52f92e5df      Inbound     Cancellation   \n",
       "\n",
       "                   sub_category customer_remarks  \\\n",
       "0                Life Insurance              NaN   \n",
       "1  Product Specific Information              NaN   \n",
       "2             Installation/demo              NaN   \n",
       "3        Reverse Pickup Enquiry              NaN   \n",
       "4                    Not Needed              NaN   \n",
       "\n",
       "                               order_id order_date_time issue_reported_at  \\\n",
       "0  c27c9bb4-fa36-4140-9f1f-21009254ffdb             NaN  01/08/2023 11:13   \n",
       "1  d406b0c7-ce17-4654-b9de-f08d421254bd             NaN  01/08/2023 12:52   \n",
       "2  c273368d-b961-44cb-beaf-62d6fd6c00d5             NaN  01/08/2023 20:16   \n",
       "3  5aed0059-55a4-4ec6-bb54-97942092020a             NaN  01/08/2023 20:56   \n",
       "4  e8bed5a9-6933-4aff-9dc6-ccefd7dcde59             NaN  01/08/2023 10:30   \n",
       "\n",
       "    issue_responded survey_response_date  ...      supervisor  \\\n",
       "0  01/08/2023 11:47            01-Aug-23  ...     Mason Gupta   \n",
       "1  01/08/2023 12:54            01-Aug-23  ...       Dylan Kim   \n",
       "2  01/08/2023 20:38            01-Aug-23  ...    Jackson Park   \n",
       "3  01/08/2023 21:16            01-Aug-23  ...     Olivia Wang   \n",
       "4  01/08/2023 10:32            01-Aug-23  ...  Austin Johnson   \n",
       "\n",
       "           manager    tenure_bucket  agent_shift csat_score order_date  \\\n",
       "0  Jennifer Nguyen  On Job Training      Morning          5        NaT   \n",
       "1      Michael Lee              >90      Morning          5        NaT   \n",
       "2      William Kim  On Job Training      Evening          5        NaT   \n",
       "3       John Smith              >90      Evening          5        NaT   \n",
       "4      Michael Lee             0-30      Morning          5        NaT   \n",
       "\n",
       "        response_date          issue_date response_time_days  \\\n",
       "0 2023-08-01 11:47:00 2023-08-01 11:13:00                  0   \n",
       "1 2023-08-01 12:54:00 2023-08-01 12:52:00                  0   \n",
       "2 2023-08-01 20:38:00 2023-08-01 20:16:00                  0   \n",
       "3 2023-08-01 21:16:00 2023-08-01 20:56:00                  0   \n",
       "4 2023-08-01 10:32:00 2023-08-01 10:30:00                  0   \n",
       "\n",
       "   response_time_minutes  \n",
       "0                   34.0  \n",
       "1                    2.0  \n",
       "2                   22.0  \n",
       "3                   20.0  \n",
       "4                    2.0  \n",
       "\n",
       "[5 rows x 25 columns]"
      ]
     },
     "execution_count": 38,
     "metadata": {},
     "output_type": "execute_result"
    }
   ],
   "source": [
    "cust_satisfaction_df.head()"
   ]
  },
  {
   "cell_type": "markdown",
   "metadata": {},
   "source": [
    "Here we list out the different variables and their index so we can easily remove them from our simplified dataframe"
   ]
  },
  {
   "cell_type": "code",
   "execution_count": 39,
   "metadata": {},
   "outputs": [
    {
     "data": {
      "text/html": [
       "<div>\n",
       "<style scoped>\n",
       "    .dataframe tbody tr th:only-of-type {\n",
       "        vertical-align: middle;\n",
       "    }\n",
       "\n",
       "    .dataframe tbody tr th {\n",
       "        vertical-align: top;\n",
       "    }\n",
       "\n",
       "    .dataframe thead th {\n",
       "        text-align: right;\n",
       "    }\n",
       "</style>\n",
       "<table border=\"1\" class=\"dataframe\">\n",
       "  <thead>\n",
       "    <tr style=\"text-align: right;\">\n",
       "      <th></th>\n",
       "      <th>0</th>\n",
       "    </tr>\n",
       "  </thead>\n",
       "  <tbody>\n",
       "    <tr>\n",
       "      <th>0</th>\n",
       "      <td>unique_id</td>\n",
       "    </tr>\n",
       "    <tr>\n",
       "      <th>1</th>\n",
       "      <td>channel_name</td>\n",
       "    </tr>\n",
       "    <tr>\n",
       "      <th>2</th>\n",
       "      <td>category</td>\n",
       "    </tr>\n",
       "    <tr>\n",
       "      <th>3</th>\n",
       "      <td>sub_category</td>\n",
       "    </tr>\n",
       "    <tr>\n",
       "      <th>4</th>\n",
       "      <td>customer_remarks</td>\n",
       "    </tr>\n",
       "    <tr>\n",
       "      <th>5</th>\n",
       "      <td>order_id</td>\n",
       "    </tr>\n",
       "    <tr>\n",
       "      <th>6</th>\n",
       "      <td>order_date_time</td>\n",
       "    </tr>\n",
       "    <tr>\n",
       "      <th>7</th>\n",
       "      <td>issue_reported_at</td>\n",
       "    </tr>\n",
       "    <tr>\n",
       "      <th>8</th>\n",
       "      <td>issue_responded</td>\n",
       "    </tr>\n",
       "    <tr>\n",
       "      <th>9</th>\n",
       "      <td>survey_response_date</td>\n",
       "    </tr>\n",
       "    <tr>\n",
       "      <th>10</th>\n",
       "      <td>customer_city</td>\n",
       "    </tr>\n",
       "    <tr>\n",
       "      <th>11</th>\n",
       "      <td>product_category</td>\n",
       "    </tr>\n",
       "    <tr>\n",
       "      <th>12</th>\n",
       "      <td>item_price</td>\n",
       "    </tr>\n",
       "    <tr>\n",
       "      <th>13</th>\n",
       "      <td>connected_handling_time</td>\n",
       "    </tr>\n",
       "    <tr>\n",
       "      <th>14</th>\n",
       "      <td>agent_name</td>\n",
       "    </tr>\n",
       "    <tr>\n",
       "      <th>15</th>\n",
       "      <td>supervisor</td>\n",
       "    </tr>\n",
       "    <tr>\n",
       "      <th>16</th>\n",
       "      <td>manager</td>\n",
       "    </tr>\n",
       "    <tr>\n",
       "      <th>17</th>\n",
       "      <td>tenure_bucket</td>\n",
       "    </tr>\n",
       "    <tr>\n",
       "      <th>18</th>\n",
       "      <td>agent_shift</td>\n",
       "    </tr>\n",
       "    <tr>\n",
       "      <th>19</th>\n",
       "      <td>csat_score</td>\n",
       "    </tr>\n",
       "    <tr>\n",
       "      <th>20</th>\n",
       "      <td>order_date</td>\n",
       "    </tr>\n",
       "    <tr>\n",
       "      <th>21</th>\n",
       "      <td>response_date</td>\n",
       "    </tr>\n",
       "    <tr>\n",
       "      <th>22</th>\n",
       "      <td>issue_date</td>\n",
       "    </tr>\n",
       "    <tr>\n",
       "      <th>23</th>\n",
       "      <td>response_time_days</td>\n",
       "    </tr>\n",
       "    <tr>\n",
       "      <th>24</th>\n",
       "      <td>response_time_minutes</td>\n",
       "    </tr>\n",
       "  </tbody>\n",
       "</table>\n",
       "</div>"
      ],
      "text/plain": [
       "                          0\n",
       "0                 unique_id\n",
       "1              channel_name\n",
       "2                  category\n",
       "3              sub_category\n",
       "4          customer_remarks\n",
       "5                  order_id\n",
       "6           order_date_time\n",
       "7         issue_reported_at\n",
       "8           issue_responded\n",
       "9      survey_response_date\n",
       "10            customer_city\n",
       "11         product_category\n",
       "12               item_price\n",
       "13  connected_handling_time\n",
       "14               agent_name\n",
       "15               supervisor\n",
       "16                  manager\n",
       "17            tenure_bucket\n",
       "18              agent_shift\n",
       "19               csat_score\n",
       "20               order_date\n",
       "21            response_date\n",
       "22               issue_date\n",
       "23       response_time_days\n",
       "24    response_time_minutes"
      ]
     },
     "execution_count": 39,
     "metadata": {},
     "output_type": "execute_result"
    }
   ],
   "source": [
    "pd.DataFrame(cust_satisfaction_df.columns)"
   ]
  },
  {
   "cell_type": "code",
   "execution_count": 40,
   "metadata": {},
   "outputs": [],
   "source": [
    "keep_cols = [1,2,3,10,11,14,15,16,17,18,23,24,19]"
   ]
  },
  {
   "cell_type": "code",
   "execution_count": 41,
   "metadata": {},
   "outputs": [],
   "source": [
    "csat_df = cust_satisfaction_df.iloc[:,keep_cols]"
   ]
  },
  {
   "cell_type": "code",
   "execution_count": 42,
   "metadata": {},
   "outputs": [
    {
     "data": {
      "text/html": [
       "<div>\n",
       "<style scoped>\n",
       "    .dataframe tbody tr th:only-of-type {\n",
       "        vertical-align: middle;\n",
       "    }\n",
       "\n",
       "    .dataframe tbody tr th {\n",
       "        vertical-align: top;\n",
       "    }\n",
       "\n",
       "    .dataframe thead th {\n",
       "        text-align: right;\n",
       "    }\n",
       "</style>\n",
       "<table border=\"1\" class=\"dataframe\">\n",
       "  <thead>\n",
       "    <tr style=\"text-align: right;\">\n",
       "      <th></th>\n",
       "      <th>channel_name</th>\n",
       "      <th>category</th>\n",
       "      <th>sub_category</th>\n",
       "      <th>customer_city</th>\n",
       "      <th>product_category</th>\n",
       "      <th>agent_name</th>\n",
       "      <th>supervisor</th>\n",
       "      <th>manager</th>\n",
       "      <th>tenure_bucket</th>\n",
       "      <th>agent_shift</th>\n",
       "      <th>response_time_days</th>\n",
       "      <th>response_time_minutes</th>\n",
       "      <th>csat_score</th>\n",
       "    </tr>\n",
       "  </thead>\n",
       "  <tbody>\n",
       "    <tr>\n",
       "      <th>0</th>\n",
       "      <td>Outcall</td>\n",
       "      <td>Product Queries</td>\n",
       "      <td>Life Insurance</td>\n",
       "      <td>NaN</td>\n",
       "      <td>NaN</td>\n",
       "      <td>Richard Buchanan</td>\n",
       "      <td>Mason Gupta</td>\n",
       "      <td>Jennifer Nguyen</td>\n",
       "      <td>On Job Training</td>\n",
       "      <td>Morning</td>\n",
       "      <td>0</td>\n",
       "      <td>34.0</td>\n",
       "      <td>5</td>\n",
       "    </tr>\n",
       "    <tr>\n",
       "      <th>1</th>\n",
       "      <td>Outcall</td>\n",
       "      <td>Product Queries</td>\n",
       "      <td>Product Specific Information</td>\n",
       "      <td>NaN</td>\n",
       "      <td>NaN</td>\n",
       "      <td>Vicki Collins</td>\n",
       "      <td>Dylan Kim</td>\n",
       "      <td>Michael Lee</td>\n",
       "      <td>&gt;90</td>\n",
       "      <td>Morning</td>\n",
       "      <td>0</td>\n",
       "      <td>2.0</td>\n",
       "      <td>5</td>\n",
       "    </tr>\n",
       "    <tr>\n",
       "      <th>2</th>\n",
       "      <td>Inbound</td>\n",
       "      <td>Order Related</td>\n",
       "      <td>Installation/demo</td>\n",
       "      <td>NaN</td>\n",
       "      <td>NaN</td>\n",
       "      <td>Duane Norman</td>\n",
       "      <td>Jackson Park</td>\n",
       "      <td>William Kim</td>\n",
       "      <td>On Job Training</td>\n",
       "      <td>Evening</td>\n",
       "      <td>0</td>\n",
       "      <td>22.0</td>\n",
       "      <td>5</td>\n",
       "    </tr>\n",
       "    <tr>\n",
       "      <th>3</th>\n",
       "      <td>Inbound</td>\n",
       "      <td>Returns</td>\n",
       "      <td>Reverse Pickup Enquiry</td>\n",
       "      <td>NaN</td>\n",
       "      <td>NaN</td>\n",
       "      <td>Patrick Flores</td>\n",
       "      <td>Olivia Wang</td>\n",
       "      <td>John Smith</td>\n",
       "      <td>&gt;90</td>\n",
       "      <td>Evening</td>\n",
       "      <td>0</td>\n",
       "      <td>20.0</td>\n",
       "      <td>5</td>\n",
       "    </tr>\n",
       "    <tr>\n",
       "      <th>4</th>\n",
       "      <td>Inbound</td>\n",
       "      <td>Cancellation</td>\n",
       "      <td>Not Needed</td>\n",
       "      <td>NaN</td>\n",
       "      <td>NaN</td>\n",
       "      <td>Christopher Sanchez</td>\n",
       "      <td>Austin Johnson</td>\n",
       "      <td>Michael Lee</td>\n",
       "      <td>0-30</td>\n",
       "      <td>Morning</td>\n",
       "      <td>0</td>\n",
       "      <td>2.0</td>\n",
       "      <td>5</td>\n",
       "    </tr>\n",
       "  </tbody>\n",
       "</table>\n",
       "</div>"
      ],
      "text/plain": [
       "  channel_name         category                  sub_category customer_city  \\\n",
       "0      Outcall  Product Queries                Life Insurance           NaN   \n",
       "1      Outcall  Product Queries  Product Specific Information           NaN   \n",
       "2      Inbound    Order Related             Installation/demo           NaN   \n",
       "3      Inbound          Returns        Reverse Pickup Enquiry           NaN   \n",
       "4      Inbound     Cancellation                    Not Needed           NaN   \n",
       "\n",
       "  product_category           agent_name      supervisor          manager  \\\n",
       "0              NaN     Richard Buchanan     Mason Gupta  Jennifer Nguyen   \n",
       "1              NaN        Vicki Collins       Dylan Kim      Michael Lee   \n",
       "2              NaN         Duane Norman    Jackson Park      William Kim   \n",
       "3              NaN       Patrick Flores     Olivia Wang       John Smith   \n",
       "4              NaN  Christopher Sanchez  Austin Johnson      Michael Lee   \n",
       "\n",
       "     tenure_bucket agent_shift  response_time_days  response_time_minutes  \\\n",
       "0  On Job Training     Morning                   0                   34.0   \n",
       "1              >90     Morning                   0                    2.0   \n",
       "2  On Job Training     Evening                   0                   22.0   \n",
       "3              >90     Evening                   0                   20.0   \n",
       "4             0-30     Morning                   0                    2.0   \n",
       "\n",
       "   csat_score  \n",
       "0           5  \n",
       "1           5  \n",
       "2           5  \n",
       "3           5  \n",
       "4           5  "
      ]
     },
     "execution_count": 42,
     "metadata": {},
     "output_type": "execute_result"
    }
   ],
   "source": [
    "csat_df.head(5)"
   ]
  },
  {
   "cell_type": "markdown",
   "metadata": {},
   "source": [
    "Now I'll make a few additional modififications to the simplified dataframe. \n",
    "\n",
    "1. customer_city --> Remove this field since it has a lot of NA values\n",
    "2. item_price --> Remove this field since it had a lot of NA values\n",
    "3. product_category --> Remove this field since it has a lot of NA values\n",
    "4. csat_score --> Change to categorical\n",
    "5. response_time_days --> remove the values that are < 0"
   ]
  },
  {
   "cell_type": "code",
   "execution_count": 43,
   "metadata": {},
   "outputs": [],
   "source": [
    "csat_df_mod = csat_df.loc[:,~csat_df.columns.isin(['customer_city','item_price','product_category'])].copy()"
   ]
  },
  {
   "cell_type": "code",
   "execution_count": 44,
   "metadata": {},
   "outputs": [
    {
     "data": {
      "text/html": [
       "<div>\n",
       "<style scoped>\n",
       "    .dataframe tbody tr th:only-of-type {\n",
       "        vertical-align: middle;\n",
       "    }\n",
       "\n",
       "    .dataframe tbody tr th {\n",
       "        vertical-align: top;\n",
       "    }\n",
       "\n",
       "    .dataframe thead th {\n",
       "        text-align: right;\n",
       "    }\n",
       "</style>\n",
       "<table border=\"1\" class=\"dataframe\">\n",
       "  <thead>\n",
       "    <tr style=\"text-align: right;\">\n",
       "      <th></th>\n",
       "      <th>channel_name</th>\n",
       "      <th>category</th>\n",
       "      <th>sub_category</th>\n",
       "      <th>agent_name</th>\n",
       "      <th>supervisor</th>\n",
       "      <th>manager</th>\n",
       "      <th>tenure_bucket</th>\n",
       "      <th>agent_shift</th>\n",
       "      <th>response_time_days</th>\n",
       "      <th>response_time_minutes</th>\n",
       "      <th>csat_score</th>\n",
       "    </tr>\n",
       "  </thead>\n",
       "  <tbody>\n",
       "    <tr>\n",
       "      <th>0</th>\n",
       "      <td>Outcall</td>\n",
       "      <td>Product Queries</td>\n",
       "      <td>Life Insurance</td>\n",
       "      <td>Richard Buchanan</td>\n",
       "      <td>Mason Gupta</td>\n",
       "      <td>Jennifer Nguyen</td>\n",
       "      <td>On Job Training</td>\n",
       "      <td>Morning</td>\n",
       "      <td>0</td>\n",
       "      <td>34.0</td>\n",
       "      <td>5</td>\n",
       "    </tr>\n",
       "    <tr>\n",
       "      <th>1</th>\n",
       "      <td>Outcall</td>\n",
       "      <td>Product Queries</td>\n",
       "      <td>Product Specific Information</td>\n",
       "      <td>Vicki Collins</td>\n",
       "      <td>Dylan Kim</td>\n",
       "      <td>Michael Lee</td>\n",
       "      <td>&gt;90</td>\n",
       "      <td>Morning</td>\n",
       "      <td>0</td>\n",
       "      <td>2.0</td>\n",
       "      <td>5</td>\n",
       "    </tr>\n",
       "    <tr>\n",
       "      <th>2</th>\n",
       "      <td>Inbound</td>\n",
       "      <td>Order Related</td>\n",
       "      <td>Installation/demo</td>\n",
       "      <td>Duane Norman</td>\n",
       "      <td>Jackson Park</td>\n",
       "      <td>William Kim</td>\n",
       "      <td>On Job Training</td>\n",
       "      <td>Evening</td>\n",
       "      <td>0</td>\n",
       "      <td>22.0</td>\n",
       "      <td>5</td>\n",
       "    </tr>\n",
       "    <tr>\n",
       "      <th>3</th>\n",
       "      <td>Inbound</td>\n",
       "      <td>Returns</td>\n",
       "      <td>Reverse Pickup Enquiry</td>\n",
       "      <td>Patrick Flores</td>\n",
       "      <td>Olivia Wang</td>\n",
       "      <td>John Smith</td>\n",
       "      <td>&gt;90</td>\n",
       "      <td>Evening</td>\n",
       "      <td>0</td>\n",
       "      <td>20.0</td>\n",
       "      <td>5</td>\n",
       "    </tr>\n",
       "    <tr>\n",
       "      <th>4</th>\n",
       "      <td>Inbound</td>\n",
       "      <td>Cancellation</td>\n",
       "      <td>Not Needed</td>\n",
       "      <td>Christopher Sanchez</td>\n",
       "      <td>Austin Johnson</td>\n",
       "      <td>Michael Lee</td>\n",
       "      <td>0-30</td>\n",
       "      <td>Morning</td>\n",
       "      <td>0</td>\n",
       "      <td>2.0</td>\n",
       "      <td>5</td>\n",
       "    </tr>\n",
       "  </tbody>\n",
       "</table>\n",
       "</div>"
      ],
      "text/plain": [
       "  channel_name         category                  sub_category  \\\n",
       "0      Outcall  Product Queries                Life Insurance   \n",
       "1      Outcall  Product Queries  Product Specific Information   \n",
       "2      Inbound    Order Related             Installation/demo   \n",
       "3      Inbound          Returns        Reverse Pickup Enquiry   \n",
       "4      Inbound     Cancellation                    Not Needed   \n",
       "\n",
       "            agent_name      supervisor          manager    tenure_bucket  \\\n",
       "0     Richard Buchanan     Mason Gupta  Jennifer Nguyen  On Job Training   \n",
       "1        Vicki Collins       Dylan Kim      Michael Lee              >90   \n",
       "2         Duane Norman    Jackson Park      William Kim  On Job Training   \n",
       "3       Patrick Flores     Olivia Wang       John Smith              >90   \n",
       "4  Christopher Sanchez  Austin Johnson      Michael Lee             0-30   \n",
       "\n",
       "  agent_shift  response_time_days  response_time_minutes  csat_score  \n",
       "0     Morning                   0                   34.0           5  \n",
       "1     Morning                   0                    2.0           5  \n",
       "2     Evening                   0                   22.0           5  \n",
       "3     Evening                   0                   20.0           5  \n",
       "4     Morning                   0                    2.0           5  "
      ]
     },
     "execution_count": 44,
     "metadata": {},
     "output_type": "execute_result"
    }
   ],
   "source": [
    "csat_df_mod.head()"
   ]
  },
  {
   "cell_type": "code",
   "execution_count": 45,
   "metadata": {},
   "outputs": [
    {
     "data": {
      "text/plain": [
       "(85907, 11)"
      ]
     },
     "execution_count": 45,
     "metadata": {},
     "output_type": "execute_result"
    }
   ],
   "source": [
    "csat_df_mod.shape"
   ]
  },
  {
   "cell_type": "markdown",
   "metadata": {},
   "source": [
    "As mentioned before, we will now create a variable that represents the time to response"
   ]
  },
  {
   "cell_type": "code",
   "execution_count": 46,
   "metadata": {},
   "outputs": [],
   "source": [
    "csat_df_mod = csat_df_mod.loc[csat_df_mod['response_time_days'] >= 0].copy()"
   ]
  },
  {
   "cell_type": "markdown",
   "metadata": {},
   "source": [
    "Finnaly, we will convert our **csat_score** variable into a categorical variable"
   ]
  },
  {
   "cell_type": "code",
   "execution_count": 47,
   "metadata": {},
   "outputs": [],
   "source": [
    "csat_df_mod['csat_score'] = pd.Categorical(csat_df_mod['csat_score'])"
   ]
  },
  {
   "cell_type": "code",
   "execution_count": 48,
   "metadata": {},
   "outputs": [
    {
     "data": {
      "text/html": [
       "<div>\n",
       "<style scoped>\n",
       "    .dataframe tbody tr th:only-of-type {\n",
       "        vertical-align: middle;\n",
       "    }\n",
       "\n",
       "    .dataframe tbody tr th {\n",
       "        vertical-align: top;\n",
       "    }\n",
       "\n",
       "    .dataframe thead th {\n",
       "        text-align: right;\n",
       "    }\n",
       "</style>\n",
       "<table border=\"1\" class=\"dataframe\">\n",
       "  <thead>\n",
       "    <tr style=\"text-align: right;\">\n",
       "      <th></th>\n",
       "      <th>channel_name</th>\n",
       "      <th>category</th>\n",
       "      <th>sub_category</th>\n",
       "      <th>agent_name</th>\n",
       "      <th>supervisor</th>\n",
       "      <th>manager</th>\n",
       "      <th>tenure_bucket</th>\n",
       "      <th>agent_shift</th>\n",
       "      <th>response_time_days</th>\n",
       "      <th>response_time_minutes</th>\n",
       "      <th>csat_score</th>\n",
       "    </tr>\n",
       "  </thead>\n",
       "  <tbody>\n",
       "    <tr>\n",
       "      <th>0</th>\n",
       "      <td>Outcall</td>\n",
       "      <td>Product Queries</td>\n",
       "      <td>Life Insurance</td>\n",
       "      <td>Richard Buchanan</td>\n",
       "      <td>Mason Gupta</td>\n",
       "      <td>Jennifer Nguyen</td>\n",
       "      <td>On Job Training</td>\n",
       "      <td>Morning</td>\n",
       "      <td>0</td>\n",
       "      <td>34.0</td>\n",
       "      <td>5</td>\n",
       "    </tr>\n",
       "    <tr>\n",
       "      <th>1</th>\n",
       "      <td>Outcall</td>\n",
       "      <td>Product Queries</td>\n",
       "      <td>Product Specific Information</td>\n",
       "      <td>Vicki Collins</td>\n",
       "      <td>Dylan Kim</td>\n",
       "      <td>Michael Lee</td>\n",
       "      <td>&gt;90</td>\n",
       "      <td>Morning</td>\n",
       "      <td>0</td>\n",
       "      <td>2.0</td>\n",
       "      <td>5</td>\n",
       "    </tr>\n",
       "    <tr>\n",
       "      <th>2</th>\n",
       "      <td>Inbound</td>\n",
       "      <td>Order Related</td>\n",
       "      <td>Installation/demo</td>\n",
       "      <td>Duane Norman</td>\n",
       "      <td>Jackson Park</td>\n",
       "      <td>William Kim</td>\n",
       "      <td>On Job Training</td>\n",
       "      <td>Evening</td>\n",
       "      <td>0</td>\n",
       "      <td>22.0</td>\n",
       "      <td>5</td>\n",
       "    </tr>\n",
       "    <tr>\n",
       "      <th>3</th>\n",
       "      <td>Inbound</td>\n",
       "      <td>Returns</td>\n",
       "      <td>Reverse Pickup Enquiry</td>\n",
       "      <td>Patrick Flores</td>\n",
       "      <td>Olivia Wang</td>\n",
       "      <td>John Smith</td>\n",
       "      <td>&gt;90</td>\n",
       "      <td>Evening</td>\n",
       "      <td>0</td>\n",
       "      <td>20.0</td>\n",
       "      <td>5</td>\n",
       "    </tr>\n",
       "    <tr>\n",
       "      <th>4</th>\n",
       "      <td>Inbound</td>\n",
       "      <td>Cancellation</td>\n",
       "      <td>Not Needed</td>\n",
       "      <td>Christopher Sanchez</td>\n",
       "      <td>Austin Johnson</td>\n",
       "      <td>Michael Lee</td>\n",
       "      <td>0-30</td>\n",
       "      <td>Morning</td>\n",
       "      <td>0</td>\n",
       "      <td>2.0</td>\n",
       "      <td>5</td>\n",
       "    </tr>\n",
       "    <tr>\n",
       "      <th>5</th>\n",
       "      <td>Email</td>\n",
       "      <td>Returns</td>\n",
       "      <td>Fraudulent User</td>\n",
       "      <td>Desiree Newton</td>\n",
       "      <td>Emma Park</td>\n",
       "      <td>John Smith</td>\n",
       "      <td>0-30</td>\n",
       "      <td>Morning</td>\n",
       "      <td>0</td>\n",
       "      <td>206.0</td>\n",
       "      <td>5</td>\n",
       "    </tr>\n",
       "    <tr>\n",
       "      <th>6</th>\n",
       "      <td>Outcall</td>\n",
       "      <td>Product Queries</td>\n",
       "      <td>Product Specific Information</td>\n",
       "      <td>Shannon Hicks</td>\n",
       "      <td>Aiden Patel</td>\n",
       "      <td>Olivia Tan</td>\n",
       "      <td>&gt;90</td>\n",
       "      <td>Morning</td>\n",
       "      <td>0</td>\n",
       "      <td>501.0</td>\n",
       "      <td>5</td>\n",
       "    </tr>\n",
       "    <tr>\n",
       "      <th>7</th>\n",
       "      <td>Inbound</td>\n",
       "      <td>Returns</td>\n",
       "      <td>Exchange / Replacement</td>\n",
       "      <td>Laura Smith</td>\n",
       "      <td>Evelyn Kimura</td>\n",
       "      <td>Jennifer Nguyen</td>\n",
       "      <td>On Job Training</td>\n",
       "      <td>Evening</td>\n",
       "      <td>0</td>\n",
       "      <td>6.0</td>\n",
       "      <td>5</td>\n",
       "    </tr>\n",
       "  </tbody>\n",
       "</table>\n",
       "</div>"
      ],
      "text/plain": [
       "  channel_name         category                  sub_category  \\\n",
       "0      Outcall  Product Queries                Life Insurance   \n",
       "1      Outcall  Product Queries  Product Specific Information   \n",
       "2      Inbound    Order Related             Installation/demo   \n",
       "3      Inbound          Returns        Reverse Pickup Enquiry   \n",
       "4      Inbound     Cancellation                    Not Needed   \n",
       "5        Email          Returns               Fraudulent User   \n",
       "6      Outcall  Product Queries  Product Specific Information   \n",
       "7      Inbound          Returns        Exchange / Replacement   \n",
       "\n",
       "            agent_name      supervisor          manager    tenure_bucket  \\\n",
       "0     Richard Buchanan     Mason Gupta  Jennifer Nguyen  On Job Training   \n",
       "1        Vicki Collins       Dylan Kim      Michael Lee              >90   \n",
       "2         Duane Norman    Jackson Park      William Kim  On Job Training   \n",
       "3       Patrick Flores     Olivia Wang       John Smith              >90   \n",
       "4  Christopher Sanchez  Austin Johnson      Michael Lee             0-30   \n",
       "5       Desiree Newton       Emma Park       John Smith             0-30   \n",
       "6        Shannon Hicks     Aiden Patel       Olivia Tan              >90   \n",
       "7          Laura Smith   Evelyn Kimura  Jennifer Nguyen  On Job Training   \n",
       "\n",
       "  agent_shift  response_time_days  response_time_minutes csat_score  \n",
       "0     Morning                   0                   34.0          5  \n",
       "1     Morning                   0                    2.0          5  \n",
       "2     Evening                   0                   22.0          5  \n",
       "3     Evening                   0                   20.0          5  \n",
       "4     Morning                   0                    2.0          5  \n",
       "5     Morning                   0                  206.0          5  \n",
       "6     Morning                   0                  501.0          5  \n",
       "7     Evening                   0                    6.0          5  "
      ]
     },
     "execution_count": 48,
     "metadata": {},
     "output_type": "execute_result"
    }
   ],
   "source": [
    "csat_df_mod.head(8)"
   ]
  },
  {
   "cell_type": "markdown",
   "metadata": {},
   "source": [
    "#### 4.1 Decision Tree"
   ]
  },
  {
   "cell_type": "code",
   "execution_count": 88,
   "metadata": {},
   "outputs": [],
   "source": [
    "X = csat_df_mod.iloc[:,~csat_df_mod.columns.isin(['csat_score'])]\n",
    "X_mod = X.iloc[:,[0,1,6,7,8,9]].copy()\n",
    "y = csat_df_mod['csat_score']\n",
    "X_dummies = pd.get_dummies(X_mod,dtype='int')\n",
    "X_train, X_test, y_train, y_test = train_test_split(X_dummies, y,test_size=0.7)"
   ]
  },
  {
   "cell_type": "code",
   "execution_count": 90,
   "metadata": {},
   "outputs": [
    {
     "data": {
      "text/html": [
       "<style>#sk-container-id-2 {color: black;background-color: white;}#sk-container-id-2 pre{padding: 0;}#sk-container-id-2 div.sk-toggleable {background-color: white;}#sk-container-id-2 label.sk-toggleable__label {cursor: pointer;display: block;width: 100%;margin-bottom: 0;padding: 0.3em;box-sizing: border-box;text-align: center;}#sk-container-id-2 label.sk-toggleable__label-arrow:before {content: \"▸\";float: left;margin-right: 0.25em;color: #696969;}#sk-container-id-2 label.sk-toggleable__label-arrow:hover:before {color: black;}#sk-container-id-2 div.sk-estimator:hover label.sk-toggleable__label-arrow:before {color: black;}#sk-container-id-2 div.sk-toggleable__content {max-height: 0;max-width: 0;overflow: hidden;text-align: left;background-color: #f0f8ff;}#sk-container-id-2 div.sk-toggleable__content pre {margin: 0.2em;color: black;border-radius: 0.25em;background-color: #f0f8ff;}#sk-container-id-2 input.sk-toggleable__control:checked~div.sk-toggleable__content {max-height: 200px;max-width: 100%;overflow: auto;}#sk-container-id-2 input.sk-toggleable__control:checked~label.sk-toggleable__label-arrow:before {content: \"▾\";}#sk-container-id-2 div.sk-estimator input.sk-toggleable__control:checked~label.sk-toggleable__label {background-color: #d4ebff;}#sk-container-id-2 div.sk-label input.sk-toggleable__control:checked~label.sk-toggleable__label {background-color: #d4ebff;}#sk-container-id-2 input.sk-hidden--visually {border: 0;clip: rect(1px 1px 1px 1px);clip: rect(1px, 1px, 1px, 1px);height: 1px;margin: -1px;overflow: hidden;padding: 0;position: absolute;width: 1px;}#sk-container-id-2 div.sk-estimator {font-family: monospace;background-color: #f0f8ff;border: 1px dotted black;border-radius: 0.25em;box-sizing: border-box;margin-bottom: 0.5em;}#sk-container-id-2 div.sk-estimator:hover {background-color: #d4ebff;}#sk-container-id-2 div.sk-parallel-item::after {content: \"\";width: 100%;border-bottom: 1px solid gray;flex-grow: 1;}#sk-container-id-2 div.sk-label:hover label.sk-toggleable__label {background-color: #d4ebff;}#sk-container-id-2 div.sk-serial::before {content: \"\";position: absolute;border-left: 1px solid gray;box-sizing: border-box;top: 0;bottom: 0;left: 50%;z-index: 0;}#sk-container-id-2 div.sk-serial {display: flex;flex-direction: column;align-items: center;background-color: white;padding-right: 0.2em;padding-left: 0.2em;position: relative;}#sk-container-id-2 div.sk-item {position: relative;z-index: 1;}#sk-container-id-2 div.sk-parallel {display: flex;align-items: stretch;justify-content: center;background-color: white;position: relative;}#sk-container-id-2 div.sk-item::before, #sk-container-id-2 div.sk-parallel-item::before {content: \"\";position: absolute;border-left: 1px solid gray;box-sizing: border-box;top: 0;bottom: 0;left: 50%;z-index: -1;}#sk-container-id-2 div.sk-parallel-item {display: flex;flex-direction: column;z-index: 1;position: relative;background-color: white;}#sk-container-id-2 div.sk-parallel-item:first-child::after {align-self: flex-end;width: 50%;}#sk-container-id-2 div.sk-parallel-item:last-child::after {align-self: flex-start;width: 50%;}#sk-container-id-2 div.sk-parallel-item:only-child::after {width: 0;}#sk-container-id-2 div.sk-dashed-wrapped {border: 1px dashed gray;margin: 0 0.4em 0.5em 0.4em;box-sizing: border-box;padding-bottom: 0.4em;background-color: white;}#sk-container-id-2 div.sk-label label {font-family: monospace;font-weight: bold;display: inline-block;line-height: 1.2em;}#sk-container-id-2 div.sk-label-container {text-align: center;}#sk-container-id-2 div.sk-container {/* jupyter's `normalize.less` sets `[hidden] { display: none; }` but bootstrap.min.css set `[hidden] { display: none !important; }` so we also need the `!important` here to be able to override the default hidden behavior on the sphinx rendered scikit-learn.org. See: https://github.com/scikit-learn/scikit-learn/issues/21755 */display: inline-block !important;position: relative;}#sk-container-id-2 div.sk-text-repr-fallback {display: none;}</style><div id=\"sk-container-id-2\" class=\"sk-top-container\"><div class=\"sk-text-repr-fallback\"><pre>DecisionTreeClassifier(min_samples_split=5, random_state=1211)</pre><b>In a Jupyter environment, please rerun this cell to show the HTML representation or trust the notebook. <br />On GitHub, the HTML representation is unable to render, please try loading this page with nbviewer.org.</b></div><div class=\"sk-container\" hidden><div class=\"sk-item\"><div class=\"sk-estimator sk-toggleable\"><input class=\"sk-toggleable__control sk-hidden--visually\" id=\"sk-estimator-id-2\" type=\"checkbox\" checked><label for=\"sk-estimator-id-2\" class=\"sk-toggleable__label sk-toggleable__label-arrow\">DecisionTreeClassifier</label><div class=\"sk-toggleable__content\"><pre>DecisionTreeClassifier(min_samples_split=5, random_state=1211)</pre></div></div></div></div></div>"
      ],
      "text/plain": [
       "DecisionTreeClassifier(min_samples_split=5, random_state=1211)"
      ]
     },
     "execution_count": 90,
     "metadata": {},
     "output_type": "execute_result"
    }
   ],
   "source": [
    "dt_clf = DecisionTreeClassifier(min_samples_split=5, random_state=1211)\n",
    "dt_clf.fit(X_train,y_train)"
   ]
  },
  {
   "cell_type": "code",
   "execution_count": 91,
   "metadata": {},
   "outputs": [
    {
     "data": {
      "text/plain": [
       "0.6083767645739137"
      ]
     },
     "execution_count": 91,
     "metadata": {},
     "output_type": "execute_result"
    }
   ],
   "source": [
    "dt_clf.score(X_test, y_test)"
   ]
  },
  {
   "cell_type": "code",
   "execution_count": 92,
   "metadata": {},
   "outputs": [
    {
     "data": {
      "text/plain": [
       "43"
      ]
     },
     "execution_count": 92,
     "metadata": {},
     "output_type": "execute_result"
    }
   ],
   "source": [
    "dt_clf.get_depth()"
   ]
  },
  {
   "cell_type": "markdown",
   "metadata": {},
   "source": [
    "#### 4.2 Random Forest"
   ]
  },
  {
   "cell_type": "code",
   "execution_count": 93,
   "metadata": {},
   "outputs": [
    {
     "data": {
      "text/plain": [
       "0.6263762813654091"
      ]
     },
     "execution_count": 93,
     "metadata": {},
     "output_type": "execute_result"
    }
   ],
   "source": [
    "rf_clf = RandomForestClassifier(n_estimators = 50, random_state=1211)\n",
    "rf_clf.fit(X_train, y_train)\n",
    "rf_clf.score(X_test, y_test)\n"
   ]
  },
  {
   "cell_type": "markdown",
   "metadata": {},
   "source": [
    "#### 4.3 Support Vector Machine"
   ]
  },
  {
   "cell_type": "code",
   "execution_count": 94,
   "metadata": {},
   "outputs": [
    {
     "data": {
      "text/plain": [
       "0.6939391847582231"
      ]
     },
     "execution_count": 94,
     "metadata": {},
     "output_type": "execute_result"
    }
   ],
   "source": [
    "svm_clf = make_pipeline(StandardScaler(),LinearSVC(max_iter=1000000, random_state=1211,multi_class='crammer_singer',dual=False))\n",
    "svm_clf.fit(X_train, y_train)\n",
    "svm_clf.score(X_test, y_test)"
   ]
  },
  {
   "cell_type": "markdown",
   "metadata": {},
   "source": [
    "#### 5. Conclusion & Writeup\n",
    "\n",
    "##### _Review of Essays_\n",
    "In the first article titled “Decision Tree Ensembles to Predict Coronavirus Disease 2019 Infection: A Comparative Study”, the author explores how decision trees can be used in predicting COVID-19 infections and highlights the challenges of making predictions on imbalanced datasets, where the number of positive cases is significantly lower than the number of negative cases. In this article we are reminded of the fact that decision tree ensembles are robust and perform well on imbalanced datasets, and that different ensembles - like Random Forest, XGBoost, and others - generally outperform standard decision tree models. \n",
    "\n",
    "In the second article titled “A novel approach to predict COVID-19 using support vector machine”, we see an example of how support vector machines (SVM) can be used to predict COVID-19 infections, by classifying cases into three categories: not infected, mildly infected, and severely infected, based on a selected set of symptoms and their severity. When compared to other machine learning models, we find that the SVM model is highlighted as superior in handling the prediction task due to its effective handling of the high-dimensional space and the critical nature of the disease symptoms.\n",
    "\n",
    "Currently I work in the area of marketing and as an analyst I’m oftentimes looking at ways to explain relationships between various marketing tactics and customer features that can help to drive us towards our desired marketing outcomes - such as acquiring new customers, driving increased engagement, and retaining customers. In the three articles that I selected, the authors explored the use of machine learning in general and in some instances SVMs in particular to address certain key aspects found in this domain.\n",
    "\n",
    "In the first article titled \"Using Support Vector Machines for Survey Research\", we see a detailed introduction to the application of Support Vector Machines (SVMs) in survey research, focusing on their usefulness in classifying binary outcomes such as survey participation. The author’s state that SVMs have been particularly useful in survey research for predicting responses and non-responses, offering a solid alternative to traditional logistic regression, where they’ve been shown to achieve superior performance in terms of classification accuracy and handling unbalanced data. Furthermore, they express that while SVMs can be considered versatile - unlike some other machine learning methods that may rely on local minima, they can be computationally intensive and appear as \"black boxes\" because they do not provide a straightforward functional form or coefficients for interpretation.\n",
    "\n",
    "The second article that I reviewed related to machine learning and SVMs in the marketing domain, was titled “Machine learning and marketing” and it explored the application of machine learning techniques in marketing, and provided an overview of the distinct advantages of using ML over traditional econometric methods primarily in predictive tasks. It suggests that ML is well-suited for making accurate out-of-sample predictions, which is crucial in marketing for tasks like ad targeting and product recommendations. In exploring the application of decision trees and SVMs in this area, the article does a good job of discussing their respective benefits in handling various types of data and modeling scenarios.\n",
    "\n",
    "In the final article titled \"Customer Response Model in Direct Marketing: Solving the Problem of Unbalanced Dataset with a Balanced Support Vector Machine”, we see an example of how SVMs can be used to address the challenge of unbalanced datasets in customer response models used in direct marketing. These models, which are crucial for targeting customers likely to respond to marketing campaigns, often suffer from an imbalance where few customers respond positively compared to the majority who do not, thus potentially skewing the model’s accuracy and effectiveness. The authors’ propose using a Balanced Support Vector Machine (B-SVM) approach, which involves a combination of random undersampling and SVM classification, which they are able to use to significantly improve the predictive performance of base models used in customer response predictions based on metrics like accuracy, sensitivity, and the Area Under Curve (AUC). The application of these findings can be particularly relevant for online marketing efforts, as they provide a more efficient way to target potential customers, potentially increasing campaign profitability while reducing marketing costs due to more precise targeting.\n"
   ]
  },
  {
   "cell_type": "markdown",
   "metadata": {},
   "source": [
    "\n",
    "##### _Exploratory Analysis_\n",
    "For this assignment, I used a e-Commerce Customer Satisfaction dataset obtained from Kaggle. This dataset had 85K records and 20 features, with each record providing the customer satisfaction scores for a specific customer inquiry. The data was relatively rich with a number of useful qualitative variables that could be used to highlight potential sources of difference in the CSAT scores that were generated.\n",
    "\n",
    "Prior to doing some exploratory analysis, I created three additional variables order_date, response_date and issue_date, to convert the existing date type variables from their day-month-year format into the more common (in the US) date format of month-day-year. This also was done to allow for the creation of a response_time variable to represent the number of days before an issue was responded to and/or resolved.\n",
    "\n",
    "For the exploratory analysis, I focused on looking at the relationship between the CSAT scores and the different qualitative variables in the dataset. As shown in the notebook, there appears to be some level of variation in the average CSAT scores based on the customer issue type, with average scores ranging from a high of 4.4 to a low of 3.4. Additionally, the Supervisor of an agent also appears to be a source of variation in the average CSAT score, with supervisors whose agents are in the top 10 average scores having a group average of 4.4 vs those in the bottom 10, whose average score is 4.0. Finally, another very interesting observation is the impact that time to response (days) has on the average CSAT score. For issues that are responded to within a 24-hour period, the average CSAT score is 4.3. However, if we get past this 24-hour window, the average CSAT score plummets to 3.5 if it takes one day to respond. Luckily, based on the distribution of response times, nearly all of the issues have a same-day response time.\n"
   ]
  },
  {
   "cell_type": "markdown",
   "metadata": {},
   "source": [
    "\n",
    "##### _Model Evaluation_\n",
    "Finally, for the machine Learning model, I reduced the features to just the following:\n",
    "- channel_name \n",
    "- category \n",
    "- tenure_bucket\n",
    "- agent_shift\n",
    "- response_time_days\n",
    "- response_time_minutes\n",
    "\n",
    "Next I created dummy variables for the category, channel_name, tenure_bucket and agent_shift variables.\n",
    "\n",
    "Finally, I started by training and evaluating a standard decision tree and a random forrest decision tree model. With the standard model, we achieved an accuracy score of 60.8%, while the random forrest model had an improved accuracy score of 62.6%. Finally, I ran a LinearSVM model and the accuracy improved to 69.4%.\n",
    "\n",
    "Overall, it appears that the SVM model did a better job at generating more accurate results compared to the decision tree algorithms. Furthermore, the improve in the accuracy - by nearly 10 percentage points is a significant improvement in the performance, while there was not any significant changes in the amount of time it took to achieve these results. I think that SVM models can do a much better job at generating accurate predictions versus standard decision trees or random forests."
   ]
  }
 ],
 "metadata": {
  "kernelspec": {
   "display_name": "base",
   "language": "python",
   "name": "python3"
  },
  "language_info": {
   "codemirror_mode": {
    "name": "ipython",
    "version": 3
   },
   "file_extension": ".py",
   "mimetype": "text/x-python",
   "name": "python",
   "nbconvert_exporter": "python",
   "pygments_lexer": "ipython3",
   "version": "3.11.7"
  }
 },
 "nbformat": 4,
 "nbformat_minor": 2
}
