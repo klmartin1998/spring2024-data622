{
 "cells": [
  {
   "cell_type": "markdown",
   "metadata": {},
   "source": [
    "## **DATA 622 Final Project**\n",
    "\n",
    "Assignment:\n",
    "- Choose a dataset\n",
    "You get to decide which dataset you want to work on. The data set must be different from the ones used in previous homeworks You can work on a problem from your job, or something you are interested in. You may also obtain a dataset from sites such as Kaggle, Data.Gov, Census Bureau, USGS or other open data portals. \n",
    "- Select one of the methodologies studied in weeks 1-10, and another methodology from weeks 11-15 to apply in the new dataset selected.\n",
    "- To complete this task:. \n",
    "    - Describe the problem you are trying to solve.\n",
    "    - Describe your datases and what you did to prepare the data for analysis. \n",
    "    - Methodologies you used for analyzing the data\n",
    "    - What's the purpose of the analysis performed\n",
    "    - Make your conclusions from your analysis. Please be sure to address the business impact (it could be of any domain) of your solution.\n",
    "\n",
    "Deliverable:\n",
    "- Your final presentation (essay or video) should include:\n",
    "    - The traditional R file or Python file and essay,\n",
    "    - An Essay (minimum 500 word document) or Video ( 5 to 8 minutes recording). Include the execution and explanation of your code. The video can be recorded on any platform of your choice (Youtube, Free Cam)."
   ]
  },
  {
   "cell_type": "code",
   "execution_count": null,
   "metadata": {},
   "outputs": [],
   "source": []
  }
 ],
 "metadata": {
  "language_info": {
   "name": "python"
  }
 },
 "nbformat": 4,
 "nbformat_minor": 2
}
